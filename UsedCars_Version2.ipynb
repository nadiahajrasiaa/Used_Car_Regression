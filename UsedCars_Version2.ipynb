{
 "cells": [
  {
   "cell_type": "markdown",
   "id": "fed1ce46",
   "metadata": {},
   "source": [
    "# import libraries"
   ]
  },
  {
   "cell_type": "code",
   "execution_count": 1,
   "id": "6bb7ab74",
   "metadata": {},
   "outputs": [],
   "source": [
    "import pandas as pd\n",
    "import numpy as np \n",
    "import matplotlib.pyplot as plt\n",
    "import seaborn as sns\n",
    "%matplotlib inline \n",
    "import warnings\n",
    "warnings.filterwarnings('ignore')\n",
    "from sklearn.model_selection import train_test_split\n",
    "\n",
    "from sklearn.linear_model import LinearRegression, Ridge\n",
    "from sklearn.preprocessing import StandardScaler, PolynomialFeatures"
   ]
  },
  {
   "cell_type": "markdown",
   "id": "71116736",
   "metadata": {},
   "source": [
    "# Preparing and Understanding the data"
   ]
  },
  {
   "cell_type": "code",
   "execution_count": 2,
   "id": "1c47f296",
   "metadata": {},
   "outputs": [
    {
     "data": {
      "text/html": [
       "<div>\n",
       "<style scoped>\n",
       "    .dataframe tbody tr th:only-of-type {\n",
       "        vertical-align: middle;\n",
       "    }\n",
       "\n",
       "    .dataframe tbody tr th {\n",
       "        vertical-align: top;\n",
       "    }\n",
       "\n",
       "    .dataframe thead th {\n",
       "        text-align: right;\n",
       "    }\n",
       "</style>\n",
       "<table border=\"1\" class=\"dataframe\">\n",
       "  <thead>\n",
       "    <tr style=\"text-align: right;\">\n",
       "      <th></th>\n",
       "      <th>id</th>\n",
       "      <th>url</th>\n",
       "      <th>region</th>\n",
       "      <th>region_url</th>\n",
       "      <th>price</th>\n",
       "      <th>year</th>\n",
       "      <th>manufacturer</th>\n",
       "      <th>model</th>\n",
       "      <th>condition</th>\n",
       "      <th>cylinders</th>\n",
       "      <th>...</th>\n",
       "      <th>size</th>\n",
       "      <th>type</th>\n",
       "      <th>paint_color</th>\n",
       "      <th>image_url</th>\n",
       "      <th>description</th>\n",
       "      <th>county</th>\n",
       "      <th>state</th>\n",
       "      <th>lat</th>\n",
       "      <th>long</th>\n",
       "      <th>posting_date</th>\n",
       "    </tr>\n",
       "  </thead>\n",
       "  <tbody>\n",
       "    <tr>\n",
       "      <th>0</th>\n",
       "      <td>7222695916</td>\n",
       "      <td>https://prescott.craigslist.org/cto/d/prescott...</td>\n",
       "      <td>prescott</td>\n",
       "      <td>https://prescott.craigslist.org</td>\n",
       "      <td>6000</td>\n",
       "      <td>NaN</td>\n",
       "      <td>NaN</td>\n",
       "      <td>NaN</td>\n",
       "      <td>NaN</td>\n",
       "      <td>NaN</td>\n",
       "      <td>...</td>\n",
       "      <td>NaN</td>\n",
       "      <td>NaN</td>\n",
       "      <td>NaN</td>\n",
       "      <td>NaN</td>\n",
       "      <td>NaN</td>\n",
       "      <td>NaN</td>\n",
       "      <td>az</td>\n",
       "      <td>NaN</td>\n",
       "      <td>NaN</td>\n",
       "      <td>NaN</td>\n",
       "    </tr>\n",
       "    <tr>\n",
       "      <th>1</th>\n",
       "      <td>7218891961</td>\n",
       "      <td>https://fayar.craigslist.org/ctd/d/bentonville...</td>\n",
       "      <td>fayetteville</td>\n",
       "      <td>https://fayar.craigslist.org</td>\n",
       "      <td>11900</td>\n",
       "      <td>NaN</td>\n",
       "      <td>NaN</td>\n",
       "      <td>NaN</td>\n",
       "      <td>NaN</td>\n",
       "      <td>NaN</td>\n",
       "      <td>...</td>\n",
       "      <td>NaN</td>\n",
       "      <td>NaN</td>\n",
       "      <td>NaN</td>\n",
       "      <td>NaN</td>\n",
       "      <td>NaN</td>\n",
       "      <td>NaN</td>\n",
       "      <td>ar</td>\n",
       "      <td>NaN</td>\n",
       "      <td>NaN</td>\n",
       "      <td>NaN</td>\n",
       "    </tr>\n",
       "    <tr>\n",
       "      <th>2</th>\n",
       "      <td>7221797935</td>\n",
       "      <td>https://keys.craigslist.org/cto/d/summerland-k...</td>\n",
       "      <td>florida keys</td>\n",
       "      <td>https://keys.craigslist.org</td>\n",
       "      <td>21000</td>\n",
       "      <td>NaN</td>\n",
       "      <td>NaN</td>\n",
       "      <td>NaN</td>\n",
       "      <td>NaN</td>\n",
       "      <td>NaN</td>\n",
       "      <td>...</td>\n",
       "      <td>NaN</td>\n",
       "      <td>NaN</td>\n",
       "      <td>NaN</td>\n",
       "      <td>NaN</td>\n",
       "      <td>NaN</td>\n",
       "      <td>NaN</td>\n",
       "      <td>fl</td>\n",
       "      <td>NaN</td>\n",
       "      <td>NaN</td>\n",
       "      <td>NaN</td>\n",
       "    </tr>\n",
       "    <tr>\n",
       "      <th>3</th>\n",
       "      <td>7222270760</td>\n",
       "      <td>https://worcester.craigslist.org/cto/d/west-br...</td>\n",
       "      <td>worcester / central MA</td>\n",
       "      <td>https://worcester.craigslist.org</td>\n",
       "      <td>1500</td>\n",
       "      <td>NaN</td>\n",
       "      <td>NaN</td>\n",
       "      <td>NaN</td>\n",
       "      <td>NaN</td>\n",
       "      <td>NaN</td>\n",
       "      <td>...</td>\n",
       "      <td>NaN</td>\n",
       "      <td>NaN</td>\n",
       "      <td>NaN</td>\n",
       "      <td>NaN</td>\n",
       "      <td>NaN</td>\n",
       "      <td>NaN</td>\n",
       "      <td>ma</td>\n",
       "      <td>NaN</td>\n",
       "      <td>NaN</td>\n",
       "      <td>NaN</td>\n",
       "    </tr>\n",
       "    <tr>\n",
       "      <th>4</th>\n",
       "      <td>7210384030</td>\n",
       "      <td>https://greensboro.craigslist.org/cto/d/trinit...</td>\n",
       "      <td>greensboro</td>\n",
       "      <td>https://greensboro.craigslist.org</td>\n",
       "      <td>4900</td>\n",
       "      <td>NaN</td>\n",
       "      <td>NaN</td>\n",
       "      <td>NaN</td>\n",
       "      <td>NaN</td>\n",
       "      <td>NaN</td>\n",
       "      <td>...</td>\n",
       "      <td>NaN</td>\n",
       "      <td>NaN</td>\n",
       "      <td>NaN</td>\n",
       "      <td>NaN</td>\n",
       "      <td>NaN</td>\n",
       "      <td>NaN</td>\n",
       "      <td>nc</td>\n",
       "      <td>NaN</td>\n",
       "      <td>NaN</td>\n",
       "      <td>NaN</td>\n",
       "    </tr>\n",
       "    <tr>\n",
       "      <th>...</th>\n",
       "      <td>...</td>\n",
       "      <td>...</td>\n",
       "      <td>...</td>\n",
       "      <td>...</td>\n",
       "      <td>...</td>\n",
       "      <td>...</td>\n",
       "      <td>...</td>\n",
       "      <td>...</td>\n",
       "      <td>...</td>\n",
       "      <td>...</td>\n",
       "      <td>...</td>\n",
       "      <td>...</td>\n",
       "      <td>...</td>\n",
       "      <td>...</td>\n",
       "      <td>...</td>\n",
       "      <td>...</td>\n",
       "      <td>...</td>\n",
       "      <td>...</td>\n",
       "      <td>...</td>\n",
       "      <td>...</td>\n",
       "      <td>...</td>\n",
       "    </tr>\n",
       "    <tr>\n",
       "      <th>426875</th>\n",
       "      <td>7301591192</td>\n",
       "      <td>https://wyoming.craigslist.org/ctd/d/atlanta-2...</td>\n",
       "      <td>wyoming</td>\n",
       "      <td>https://wyoming.craigslist.org</td>\n",
       "      <td>23590</td>\n",
       "      <td>2019.0</td>\n",
       "      <td>nissan</td>\n",
       "      <td>maxima s sedan 4d</td>\n",
       "      <td>good</td>\n",
       "      <td>6 cylinders</td>\n",
       "      <td>...</td>\n",
       "      <td>NaN</td>\n",
       "      <td>sedan</td>\n",
       "      <td>NaN</td>\n",
       "      <td>https://images.craigslist.org/00o0o_iiraFnHg8q...</td>\n",
       "      <td>Carvana is the safer way to buy a car During t...</td>\n",
       "      <td>NaN</td>\n",
       "      <td>wy</td>\n",
       "      <td>33.786500</td>\n",
       "      <td>-84.445400</td>\n",
       "      <td>2021-04-04T03:21:31-0600</td>\n",
       "    </tr>\n",
       "    <tr>\n",
       "      <th>426876</th>\n",
       "      <td>7301591187</td>\n",
       "      <td>https://wyoming.craigslist.org/ctd/d/atlanta-2...</td>\n",
       "      <td>wyoming</td>\n",
       "      <td>https://wyoming.craigslist.org</td>\n",
       "      <td>30590</td>\n",
       "      <td>2020.0</td>\n",
       "      <td>volvo</td>\n",
       "      <td>s60 t5 momentum sedan 4d</td>\n",
       "      <td>good</td>\n",
       "      <td>NaN</td>\n",
       "      <td>...</td>\n",
       "      <td>NaN</td>\n",
       "      <td>sedan</td>\n",
       "      <td>red</td>\n",
       "      <td>https://images.craigslist.org/00x0x_15sbgnxCIS...</td>\n",
       "      <td>Carvana is the safer way to buy a car During t...</td>\n",
       "      <td>NaN</td>\n",
       "      <td>wy</td>\n",
       "      <td>33.786500</td>\n",
       "      <td>-84.445400</td>\n",
       "      <td>2021-04-04T03:21:29-0600</td>\n",
       "    </tr>\n",
       "    <tr>\n",
       "      <th>426877</th>\n",
       "      <td>7301591147</td>\n",
       "      <td>https://wyoming.craigslist.org/ctd/d/atlanta-2...</td>\n",
       "      <td>wyoming</td>\n",
       "      <td>https://wyoming.craigslist.org</td>\n",
       "      <td>34990</td>\n",
       "      <td>2020.0</td>\n",
       "      <td>cadillac</td>\n",
       "      <td>xt4 sport suv 4d</td>\n",
       "      <td>good</td>\n",
       "      <td>NaN</td>\n",
       "      <td>...</td>\n",
       "      <td>NaN</td>\n",
       "      <td>hatchback</td>\n",
       "      <td>white</td>\n",
       "      <td>https://images.craigslist.org/00L0L_farM7bxnxR...</td>\n",
       "      <td>Carvana is the safer way to buy a car During t...</td>\n",
       "      <td>NaN</td>\n",
       "      <td>wy</td>\n",
       "      <td>33.779214</td>\n",
       "      <td>-84.411811</td>\n",
       "      <td>2021-04-04T03:21:17-0600</td>\n",
       "    </tr>\n",
       "    <tr>\n",
       "      <th>426878</th>\n",
       "      <td>7301591140</td>\n",
       "      <td>https://wyoming.craigslist.org/ctd/d/atlanta-2...</td>\n",
       "      <td>wyoming</td>\n",
       "      <td>https://wyoming.craigslist.org</td>\n",
       "      <td>28990</td>\n",
       "      <td>2018.0</td>\n",
       "      <td>lexus</td>\n",
       "      <td>es 350 sedan 4d</td>\n",
       "      <td>good</td>\n",
       "      <td>6 cylinders</td>\n",
       "      <td>...</td>\n",
       "      <td>NaN</td>\n",
       "      <td>sedan</td>\n",
       "      <td>silver</td>\n",
       "      <td>https://images.craigslist.org/00z0z_bKnIVGLkDT...</td>\n",
       "      <td>Carvana is the safer way to buy a car During t...</td>\n",
       "      <td>NaN</td>\n",
       "      <td>wy</td>\n",
       "      <td>33.786500</td>\n",
       "      <td>-84.445400</td>\n",
       "      <td>2021-04-04T03:21:11-0600</td>\n",
       "    </tr>\n",
       "    <tr>\n",
       "      <th>426879</th>\n",
       "      <td>7301591129</td>\n",
       "      <td>https://wyoming.craigslist.org/ctd/d/atlanta-2...</td>\n",
       "      <td>wyoming</td>\n",
       "      <td>https://wyoming.craigslist.org</td>\n",
       "      <td>30590</td>\n",
       "      <td>2019.0</td>\n",
       "      <td>bmw</td>\n",
       "      <td>4 series 430i gran coupe</td>\n",
       "      <td>good</td>\n",
       "      <td>NaN</td>\n",
       "      <td>...</td>\n",
       "      <td>NaN</td>\n",
       "      <td>coupe</td>\n",
       "      <td>NaN</td>\n",
       "      <td>https://images.craigslist.org/00Y0Y_lEUocjyRxa...</td>\n",
       "      <td>Carvana is the safer way to buy a car During t...</td>\n",
       "      <td>NaN</td>\n",
       "      <td>wy</td>\n",
       "      <td>33.779214</td>\n",
       "      <td>-84.411811</td>\n",
       "      <td>2021-04-04T03:21:07-0600</td>\n",
       "    </tr>\n",
       "  </tbody>\n",
       "</table>\n",
       "<p>426880 rows × 26 columns</p>\n",
       "</div>"
      ],
      "text/plain": [
       "                id                                                url  \\\n",
       "0       7222695916  https://prescott.craigslist.org/cto/d/prescott...   \n",
       "1       7218891961  https://fayar.craigslist.org/ctd/d/bentonville...   \n",
       "2       7221797935  https://keys.craigslist.org/cto/d/summerland-k...   \n",
       "3       7222270760  https://worcester.craigslist.org/cto/d/west-br...   \n",
       "4       7210384030  https://greensboro.craigslist.org/cto/d/trinit...   \n",
       "...            ...                                                ...   \n",
       "426875  7301591192  https://wyoming.craigslist.org/ctd/d/atlanta-2...   \n",
       "426876  7301591187  https://wyoming.craigslist.org/ctd/d/atlanta-2...   \n",
       "426877  7301591147  https://wyoming.craigslist.org/ctd/d/atlanta-2...   \n",
       "426878  7301591140  https://wyoming.craigslist.org/ctd/d/atlanta-2...   \n",
       "426879  7301591129  https://wyoming.craigslist.org/ctd/d/atlanta-2...   \n",
       "\n",
       "                        region                         region_url  price  \\\n",
       "0                     prescott    https://prescott.craigslist.org   6000   \n",
       "1                 fayetteville       https://fayar.craigslist.org  11900   \n",
       "2                 florida keys        https://keys.craigslist.org  21000   \n",
       "3       worcester / central MA   https://worcester.craigslist.org   1500   \n",
       "4                   greensboro  https://greensboro.craigslist.org   4900   \n",
       "...                        ...                                ...    ...   \n",
       "426875                 wyoming     https://wyoming.craigslist.org  23590   \n",
       "426876                 wyoming     https://wyoming.craigslist.org  30590   \n",
       "426877                 wyoming     https://wyoming.craigslist.org  34990   \n",
       "426878                 wyoming     https://wyoming.craigslist.org  28990   \n",
       "426879                 wyoming     https://wyoming.craigslist.org  30590   \n",
       "\n",
       "          year manufacturer                     model condition    cylinders  \\\n",
       "0          NaN          NaN                       NaN       NaN          NaN   \n",
       "1          NaN          NaN                       NaN       NaN          NaN   \n",
       "2          NaN          NaN                       NaN       NaN          NaN   \n",
       "3          NaN          NaN                       NaN       NaN          NaN   \n",
       "4          NaN          NaN                       NaN       NaN          NaN   \n",
       "...        ...          ...                       ...       ...          ...   \n",
       "426875  2019.0       nissan         maxima s sedan 4d      good  6 cylinders   \n",
       "426876  2020.0        volvo  s60 t5 momentum sedan 4d      good          NaN   \n",
       "426877  2020.0     cadillac          xt4 sport suv 4d      good          NaN   \n",
       "426878  2018.0        lexus           es 350 sedan 4d      good  6 cylinders   \n",
       "426879  2019.0          bmw  4 series 430i gran coupe      good          NaN   \n",
       "\n",
       "        ... size       type paint_color  \\\n",
       "0       ...  NaN        NaN         NaN   \n",
       "1       ...  NaN        NaN         NaN   \n",
       "2       ...  NaN        NaN         NaN   \n",
       "3       ...  NaN        NaN         NaN   \n",
       "4       ...  NaN        NaN         NaN   \n",
       "...     ...  ...        ...         ...   \n",
       "426875  ...  NaN      sedan         NaN   \n",
       "426876  ...  NaN      sedan         red   \n",
       "426877  ...  NaN  hatchback       white   \n",
       "426878  ...  NaN      sedan      silver   \n",
       "426879  ...  NaN      coupe         NaN   \n",
       "\n",
       "                                                image_url  \\\n",
       "0                                                     NaN   \n",
       "1                                                     NaN   \n",
       "2                                                     NaN   \n",
       "3                                                     NaN   \n",
       "4                                                     NaN   \n",
       "...                                                   ...   \n",
       "426875  https://images.craigslist.org/00o0o_iiraFnHg8q...   \n",
       "426876  https://images.craigslist.org/00x0x_15sbgnxCIS...   \n",
       "426877  https://images.craigslist.org/00L0L_farM7bxnxR...   \n",
       "426878  https://images.craigslist.org/00z0z_bKnIVGLkDT...   \n",
       "426879  https://images.craigslist.org/00Y0Y_lEUocjyRxa...   \n",
       "\n",
       "                                              description county state  \\\n",
       "0                                                     NaN    NaN    az   \n",
       "1                                                     NaN    NaN    ar   \n",
       "2                                                     NaN    NaN    fl   \n",
       "3                                                     NaN    NaN    ma   \n",
       "4                                                     NaN    NaN    nc   \n",
       "...                                                   ...    ...   ...   \n",
       "426875  Carvana is the safer way to buy a car During t...    NaN    wy   \n",
       "426876  Carvana is the safer way to buy a car During t...    NaN    wy   \n",
       "426877  Carvana is the safer way to buy a car During t...    NaN    wy   \n",
       "426878  Carvana is the safer way to buy a car During t...    NaN    wy   \n",
       "426879  Carvana is the safer way to buy a car During t...    NaN    wy   \n",
       "\n",
       "              lat       long              posting_date  \n",
       "0             NaN        NaN                       NaN  \n",
       "1             NaN        NaN                       NaN  \n",
       "2             NaN        NaN                       NaN  \n",
       "3             NaN        NaN                       NaN  \n",
       "4             NaN        NaN                       NaN  \n",
       "...           ...        ...                       ...  \n",
       "426875  33.786500 -84.445400  2021-04-04T03:21:31-0600  \n",
       "426876  33.786500 -84.445400  2021-04-04T03:21:29-0600  \n",
       "426877  33.779214 -84.411811  2021-04-04T03:21:17-0600  \n",
       "426878  33.786500 -84.445400  2021-04-04T03:21:11-0600  \n",
       "426879  33.779214 -84.411811  2021-04-04T03:21:07-0600  \n",
       "\n",
       "[426880 rows x 26 columns]"
      ]
     },
     "execution_count": 2,
     "metadata": {},
     "output_type": "execute_result"
    }
   ],
   "source": [
    "df=pd.read_csv(\"vehicles.csv\") \n",
    "df"
   ]
  },
  {
   "cell_type": "code",
   "execution_count": 3,
   "id": "0a3cb94b",
   "metadata": {},
   "outputs": [
    {
     "name": "stdout",
     "output_type": "stream",
     "text": [
      "<class 'pandas.core.frame.DataFrame'>\n",
      "RangeIndex: 426880 entries, 0 to 426879\n",
      "Data columns (total 26 columns):\n",
      " #   Column        Non-Null Count   Dtype  \n",
      "---  ------        --------------   -----  \n",
      " 0   id            426880 non-null  int64  \n",
      " 1   url           426880 non-null  object \n",
      " 2   region        426880 non-null  object \n",
      " 3   region_url    426880 non-null  object \n",
      " 4   price         426880 non-null  int64  \n",
      " 5   year          425675 non-null  float64\n",
      " 6   manufacturer  409234 non-null  object \n",
      " 7   model         421603 non-null  object \n",
      " 8   condition     252776 non-null  object \n",
      " 9   cylinders     249202 non-null  object \n",
      " 10  fuel          423867 non-null  object \n",
      " 11  odometer      422480 non-null  float64\n",
      " 12  title_status  418638 non-null  object \n",
      " 13  transmission  424324 non-null  object \n",
      " 14  VIN           265838 non-null  object \n",
      " 15  drive         296313 non-null  object \n",
      " 16  size          120519 non-null  object \n",
      " 17  type          334022 non-null  object \n",
      " 18  paint_color   296677 non-null  object \n",
      " 19  image_url     426812 non-null  object \n",
      " 20  description   426810 non-null  object \n",
      " 21  county        0 non-null       float64\n",
      " 22  state         426880 non-null  object \n",
      " 23  lat           420331 non-null  float64\n",
      " 24  long          420331 non-null  float64\n",
      " 25  posting_date  426812 non-null  object \n",
      "dtypes: float64(5), int64(2), object(19)\n",
      "memory usage: 84.7+ MB\n"
     ]
    }
   ],
   "source": [
    "df.info()"
   ]
  },
  {
   "cell_type": "code",
   "execution_count": 4,
   "id": "444699b7",
   "metadata": {},
   "outputs": [
    {
     "data": {
      "text/html": [
       "<div>\n",
       "<style scoped>\n",
       "    .dataframe tbody tr th:only-of-type {\n",
       "        vertical-align: middle;\n",
       "    }\n",
       "\n",
       "    .dataframe tbody tr th {\n",
       "        vertical-align: top;\n",
       "    }\n",
       "\n",
       "    .dataframe thead th {\n",
       "        text-align: right;\n",
       "    }\n",
       "</style>\n",
       "<table border=\"1\" class=\"dataframe\">\n",
       "  <thead>\n",
       "    <tr style=\"text-align: right;\">\n",
       "      <th></th>\n",
       "      <th>id</th>\n",
       "      <th>url</th>\n",
       "      <th>region</th>\n",
       "      <th>region_url</th>\n",
       "      <th>price</th>\n",
       "      <th>year</th>\n",
       "      <th>manufacturer</th>\n",
       "      <th>model</th>\n",
       "      <th>condition</th>\n",
       "      <th>cylinders</th>\n",
       "      <th>...</th>\n",
       "      <th>size</th>\n",
       "      <th>type</th>\n",
       "      <th>paint_color</th>\n",
       "      <th>image_url</th>\n",
       "      <th>description</th>\n",
       "      <th>county</th>\n",
       "      <th>state</th>\n",
       "      <th>lat</th>\n",
       "      <th>long</th>\n",
       "      <th>posting_date</th>\n",
       "    </tr>\n",
       "  </thead>\n",
       "  <tbody>\n",
       "    <tr>\n",
       "      <th>386556</th>\n",
       "      <td>7310167837</td>\n",
       "      <td>https://stgeorge.craigslist.org/ctd/d/salt-lak...</td>\n",
       "      <td>st george</td>\n",
       "      <td>https://stgeorge.craigslist.org</td>\n",
       "      <td>8550</td>\n",
       "      <td>2013.0</td>\n",
       "      <td>toyota</td>\n",
       "      <td>sienna</td>\n",
       "      <td>NaN</td>\n",
       "      <td>6 cylinders</td>\n",
       "      <td>...</td>\n",
       "      <td>NaN</td>\n",
       "      <td>van</td>\n",
       "      <td>silver</td>\n",
       "      <td>https://images.craigslist.org/00r0r_gjqHwSh3WB...</td>\n",
       "      <td>Engine: 6 Cylinders Transmission: Automatic Ti...</td>\n",
       "      <td>NaN</td>\n",
       "      <td>ut</td>\n",
       "      <td>40.746636</td>\n",
       "      <td>-111.939633</td>\n",
       "      <td>2021-04-20T20:28:56-0600</td>\n",
       "    </tr>\n",
       "    <tr>\n",
       "      <th>48650</th>\n",
       "      <td>7316539496</td>\n",
       "      <td>https://reno.craigslist.org/ctd/d/sacramento-2...</td>\n",
       "      <td>reno / tahoe</td>\n",
       "      <td>https://reno.craigslist.org</td>\n",
       "      <td>0</td>\n",
       "      <td>2015.0</td>\n",
       "      <td>ford</td>\n",
       "      <td>f-550 f550 f 550</td>\n",
       "      <td>excellent</td>\n",
       "      <td>10 cylinders</td>\n",
       "      <td>...</td>\n",
       "      <td>full-size</td>\n",
       "      <td>truck</td>\n",
       "      <td>white</td>\n",
       "      <td>https://images.craigslist.org/00909_99KdbM2Z2e...</td>\n",
       "      <td>MONTHLY PUBLIC AUCTION SATURDAY – MAY 8th, 202...</td>\n",
       "      <td>NaN</td>\n",
       "      <td>ca</td>\n",
       "      <td>38.553900</td>\n",
       "      <td>-121.369300</td>\n",
       "      <td>2021-05-03T18:00:45-0700</td>\n",
       "    </tr>\n",
       "    <tr>\n",
       "      <th>373265</th>\n",
       "      <td>7304670264</td>\n",
       "      <td>https://elpaso.craigslist.org/ctd/d/el-paso-19...</td>\n",
       "      <td>el paso</td>\n",
       "      <td>https://elpaso.craigslist.org</td>\n",
       "      <td>8800</td>\n",
       "      <td>1999.0</td>\n",
       "      <td>chevrolet</td>\n",
       "      <td>corvette</td>\n",
       "      <td>NaN</td>\n",
       "      <td>NaN</td>\n",
       "      <td>...</td>\n",
       "      <td>NaN</td>\n",
       "      <td>coupe</td>\n",
       "      <td>silver</td>\n",
       "      <td>https://images.craigslist.org/00A0A_3vakBK4mjQ...</td>\n",
       "      <td>1999 Chevrolet, Chevy Corvette Hardtop ☎ 915-2...</td>\n",
       "      <td>NaN</td>\n",
       "      <td>tx</td>\n",
       "      <td>31.810800</td>\n",
       "      <td>-106.240000</td>\n",
       "      <td>2021-04-10T09:05:37-0600</td>\n",
       "    </tr>\n",
       "    <tr>\n",
       "      <th>135832</th>\n",
       "      <td>7316937484</td>\n",
       "      <td>https://spokane.craigslist.org/ctd/d/coeur-ale...</td>\n",
       "      <td>spokane / coeur d'alene</td>\n",
       "      <td>https://spokane.craigslist.org</td>\n",
       "      <td>5277</td>\n",
       "      <td>2007.0</td>\n",
       "      <td>subaru</td>\n",
       "      <td>outback 2.5i limited</td>\n",
       "      <td>like new</td>\n",
       "      <td>4 cylinders</td>\n",
       "      <td>...</td>\n",
       "      <td>mid-size</td>\n",
       "      <td>wagon</td>\n",
       "      <td>custom</td>\n",
       "      <td>https://images.craigslist.org/00c0c_eiSpRTtgn0...</td>\n",
       "      <td>2007 Subaru Outback when's and drives perfect ...</td>\n",
       "      <td>NaN</td>\n",
       "      <td>id</td>\n",
       "      <td>47.681600</td>\n",
       "      <td>-116.756900</td>\n",
       "      <td>2021-05-04T13:54:05-0700</td>\n",
       "    </tr>\n",
       "    <tr>\n",
       "      <th>421385</th>\n",
       "      <td>7306708288</td>\n",
       "      <td>https://madison.craigslist.org/ctd/d/madison-2...</td>\n",
       "      <td>madison</td>\n",
       "      <td>https://madison.craigslist.org</td>\n",
       "      <td>34590</td>\n",
       "      <td>2018.0</td>\n",
       "      <td>dodge</td>\n",
       "      <td>durango gt sport utility</td>\n",
       "      <td>good</td>\n",
       "      <td>6 cylinders</td>\n",
       "      <td>...</td>\n",
       "      <td>NaN</td>\n",
       "      <td>SUV</td>\n",
       "      <td>blue</td>\n",
       "      <td>https://images.craigslist.org/00N0N_1xMPvfxRAI...</td>\n",
       "      <td>Carvana is the safer way to buy a car During t...</td>\n",
       "      <td>NaN</td>\n",
       "      <td>wi</td>\n",
       "      <td>43.070000</td>\n",
       "      <td>-89.380000</td>\n",
       "      <td>2021-04-14T11:11:00-0500</td>\n",
       "    </tr>\n",
       "    <tr>\n",
       "      <th>191837</th>\n",
       "      <td>7316270083</td>\n",
       "      <td>https://worcester.craigslist.org/ctd/d/rochdal...</td>\n",
       "      <td>worcester / central MA</td>\n",
       "      <td>https://worcester.craigslist.org</td>\n",
       "      <td>7900</td>\n",
       "      <td>2006.0</td>\n",
       "      <td>toyota</td>\n",
       "      <td>rav4 limited</td>\n",
       "      <td>excellent</td>\n",
       "      <td>4 cylinders</td>\n",
       "      <td>...</td>\n",
       "      <td>mid-size</td>\n",
       "      <td>SUV</td>\n",
       "      <td>brown</td>\n",
       "      <td>https://images.craigslist.org/01010_jxcC14bmMD...</td>\n",
       "      <td>Nice 4WD Toyota RAV4 with 101k miles. It is a ...</td>\n",
       "      <td>NaN</td>\n",
       "      <td>ma</td>\n",
       "      <td>42.199700</td>\n",
       "      <td>-71.906900</td>\n",
       "      <td>2021-05-03T12:49:34-0400</td>\n",
       "    </tr>\n",
       "    <tr>\n",
       "      <th>126048</th>\n",
       "      <td>7304217087</td>\n",
       "      <td>https://macon.craigslist.org/ctd/d/macon-2019-...</td>\n",
       "      <td>macon / warner robins</td>\n",
       "      <td>https://macon.craigslist.org</td>\n",
       "      <td>25590</td>\n",
       "      <td>2019.0</td>\n",
       "      <td>gmc</td>\n",
       "      <td>acadia sle-1 sport utility</td>\n",
       "      <td>good</td>\n",
       "      <td>NaN</td>\n",
       "      <td>...</td>\n",
       "      <td>NaN</td>\n",
       "      <td>SUV</td>\n",
       "      <td>black</td>\n",
       "      <td>https://images.craigslist.org/00l0l_2gNZhcpqfn...</td>\n",
       "      <td>Carvana is the safer way to buy a car During t...</td>\n",
       "      <td>NaN</td>\n",
       "      <td>ga</td>\n",
       "      <td>32.809500</td>\n",
       "      <td>-83.616800</td>\n",
       "      <td>2021-04-09T12:41:18-0400</td>\n",
       "    </tr>\n",
       "    <tr>\n",
       "      <th>49936</th>\n",
       "      <td>7313235399</td>\n",
       "      <td>https://reno.craigslist.org/ctd/d/atlanta-2015...</td>\n",
       "      <td>reno / tahoe</td>\n",
       "      <td>https://reno.craigslist.org</td>\n",
       "      <td>17990</td>\n",
       "      <td>2015.0</td>\n",
       "      <td>volkswagen</td>\n",
       "      <td>golf tdi sel</td>\n",
       "      <td>good</td>\n",
       "      <td>NaN</td>\n",
       "      <td>...</td>\n",
       "      <td>NaN</td>\n",
       "      <td>sedan</td>\n",
       "      <td>white</td>\n",
       "      <td>https://images.craigslist.org/00000_KNY0kE0TqA...</td>\n",
       "      <td>Carvana is the safer way to buy a car During t...</td>\n",
       "      <td>NaN</td>\n",
       "      <td>ca</td>\n",
       "      <td>33.779214</td>\n",
       "      <td>-84.411811</td>\n",
       "      <td>2021-04-27T04:21:07-0700</td>\n",
       "    </tr>\n",
       "    <tr>\n",
       "      <th>221323</th>\n",
       "      <td>7310333889</td>\n",
       "      <td>https://semo.craigslist.org/ctd/d/park-hills-2...</td>\n",
       "      <td>southeast missouri</td>\n",
       "      <td>https://semo.craigslist.org</td>\n",
       "      <td>29977</td>\n",
       "      <td>2000.0</td>\n",
       "      <td>chevrolet</td>\n",
       "      <td>corvette</td>\n",
       "      <td>NaN</td>\n",
       "      <td>8 cylinders</td>\n",
       "      <td>...</td>\n",
       "      <td>NaN</td>\n",
       "      <td>coupe</td>\n",
       "      <td>silver</td>\n",
       "      <td>https://images.craigslist.org/00p0p_gJP2rR3R6Q...</td>\n",
       "      <td>CarSmart of FarmingtonAsk for: Call Or Text☎ (...</td>\n",
       "      <td>NaN</td>\n",
       "      <td>mo</td>\n",
       "      <td>37.820812</td>\n",
       "      <td>-90.457720</td>\n",
       "      <td>2021-04-21T10:13:18-0500</td>\n",
       "    </tr>\n",
       "    <tr>\n",
       "      <th>171159</th>\n",
       "      <td>7316005187</td>\n",
       "      <td>https://lexington.craigslist.org/cto/d/berea-2...</td>\n",
       "      <td>lexington</td>\n",
       "      <td>https://lexington.craigslist.org</td>\n",
       "      <td>8900</td>\n",
       "      <td>2010.0</td>\n",
       "      <td>toyota</td>\n",
       "      <td>rav4</td>\n",
       "      <td>NaN</td>\n",
       "      <td>4 cylinders</td>\n",
       "      <td>...</td>\n",
       "      <td>NaN</td>\n",
       "      <td>NaN</td>\n",
       "      <td>white</td>\n",
       "      <td>https://images.craigslist.org/00P0P_kme70OkdfY...</td>\n",
       "      <td>2010 Toyota RAV4 limited 2.5L 4cyl auto, leath...</td>\n",
       "      <td>NaN</td>\n",
       "      <td>ky</td>\n",
       "      <td>37.601746</td>\n",
       "      <td>-84.301924</td>\n",
       "      <td>2021-05-02T20:10:24-0400</td>\n",
       "    </tr>\n",
       "  </tbody>\n",
       "</table>\n",
       "<p>10 rows × 26 columns</p>\n",
       "</div>"
      ],
      "text/plain": [
       "                id                                                url  \\\n",
       "386556  7310167837  https://stgeorge.craigslist.org/ctd/d/salt-lak...   \n",
       "48650   7316539496  https://reno.craigslist.org/ctd/d/sacramento-2...   \n",
       "373265  7304670264  https://elpaso.craigslist.org/ctd/d/el-paso-19...   \n",
       "135832  7316937484  https://spokane.craigslist.org/ctd/d/coeur-ale...   \n",
       "421385  7306708288  https://madison.craigslist.org/ctd/d/madison-2...   \n",
       "191837  7316270083  https://worcester.craigslist.org/ctd/d/rochdal...   \n",
       "126048  7304217087  https://macon.craigslist.org/ctd/d/macon-2019-...   \n",
       "49936   7313235399  https://reno.craigslist.org/ctd/d/atlanta-2015...   \n",
       "221323  7310333889  https://semo.craigslist.org/ctd/d/park-hills-2...   \n",
       "171159  7316005187  https://lexington.craigslist.org/cto/d/berea-2...   \n",
       "\n",
       "                         region                        region_url  price  \\\n",
       "386556                st george   https://stgeorge.craigslist.org   8550   \n",
       "48650              reno / tahoe       https://reno.craigslist.org      0   \n",
       "373265                  el paso     https://elpaso.craigslist.org   8800   \n",
       "135832  spokane / coeur d'alene    https://spokane.craigslist.org   5277   \n",
       "421385                  madison    https://madison.craigslist.org  34590   \n",
       "191837   worcester / central MA  https://worcester.craigslist.org   7900   \n",
       "126048    macon / warner robins      https://macon.craigslist.org  25590   \n",
       "49936              reno / tahoe       https://reno.craigslist.org  17990   \n",
       "221323       southeast missouri       https://semo.craigslist.org  29977   \n",
       "171159                lexington  https://lexington.craigslist.org   8900   \n",
       "\n",
       "          year manufacturer                       model  condition  \\\n",
       "386556  2013.0       toyota                      sienna        NaN   \n",
       "48650   2015.0         ford            f-550 f550 f 550  excellent   \n",
       "373265  1999.0    chevrolet                    corvette        NaN   \n",
       "135832  2007.0       subaru        outback 2.5i limited   like new   \n",
       "421385  2018.0        dodge    durango gt sport utility       good   \n",
       "191837  2006.0       toyota                rav4 limited  excellent   \n",
       "126048  2019.0          gmc  acadia sle-1 sport utility       good   \n",
       "49936   2015.0   volkswagen                golf tdi sel       good   \n",
       "221323  2000.0    chevrolet                    corvette        NaN   \n",
       "171159  2010.0       toyota                        rav4        NaN   \n",
       "\n",
       "           cylinders  ...       size   type paint_color  \\\n",
       "386556   6 cylinders  ...        NaN    van      silver   \n",
       "48650   10 cylinders  ...  full-size  truck       white   \n",
       "373265           NaN  ...        NaN  coupe      silver   \n",
       "135832   4 cylinders  ...   mid-size  wagon      custom   \n",
       "421385   6 cylinders  ...        NaN    SUV        blue   \n",
       "191837   4 cylinders  ...   mid-size    SUV       brown   \n",
       "126048           NaN  ...        NaN    SUV       black   \n",
       "49936            NaN  ...        NaN  sedan       white   \n",
       "221323   8 cylinders  ...        NaN  coupe      silver   \n",
       "171159   4 cylinders  ...        NaN    NaN       white   \n",
       "\n",
       "                                                image_url  \\\n",
       "386556  https://images.craigslist.org/00r0r_gjqHwSh3WB...   \n",
       "48650   https://images.craigslist.org/00909_99KdbM2Z2e...   \n",
       "373265  https://images.craigslist.org/00A0A_3vakBK4mjQ...   \n",
       "135832  https://images.craigslist.org/00c0c_eiSpRTtgn0...   \n",
       "421385  https://images.craigslist.org/00N0N_1xMPvfxRAI...   \n",
       "191837  https://images.craigslist.org/01010_jxcC14bmMD...   \n",
       "126048  https://images.craigslist.org/00l0l_2gNZhcpqfn...   \n",
       "49936   https://images.craigslist.org/00000_KNY0kE0TqA...   \n",
       "221323  https://images.craigslist.org/00p0p_gJP2rR3R6Q...   \n",
       "171159  https://images.craigslist.org/00P0P_kme70OkdfY...   \n",
       "\n",
       "                                              description county state  \\\n",
       "386556  Engine: 6 Cylinders Transmission: Automatic Ti...    NaN    ut   \n",
       "48650   MONTHLY PUBLIC AUCTION SATURDAY – MAY 8th, 202...    NaN    ca   \n",
       "373265  1999 Chevrolet, Chevy Corvette Hardtop ☎ 915-2...    NaN    tx   \n",
       "135832  2007 Subaru Outback when's and drives perfect ...    NaN    id   \n",
       "421385  Carvana is the safer way to buy a car During t...    NaN    wi   \n",
       "191837  Nice 4WD Toyota RAV4 with 101k miles. It is a ...    NaN    ma   \n",
       "126048  Carvana is the safer way to buy a car During t...    NaN    ga   \n",
       "49936   Carvana is the safer way to buy a car During t...    NaN    ca   \n",
       "221323  CarSmart of FarmingtonAsk for: Call Or Text☎ (...    NaN    mo   \n",
       "171159  2010 Toyota RAV4 limited 2.5L 4cyl auto, leath...    NaN    ky   \n",
       "\n",
       "              lat        long              posting_date  \n",
       "386556  40.746636 -111.939633  2021-04-20T20:28:56-0600  \n",
       "48650   38.553900 -121.369300  2021-05-03T18:00:45-0700  \n",
       "373265  31.810800 -106.240000  2021-04-10T09:05:37-0600  \n",
       "135832  47.681600 -116.756900  2021-05-04T13:54:05-0700  \n",
       "421385  43.070000  -89.380000  2021-04-14T11:11:00-0500  \n",
       "191837  42.199700  -71.906900  2021-05-03T12:49:34-0400  \n",
       "126048  32.809500  -83.616800  2021-04-09T12:41:18-0400  \n",
       "49936   33.779214  -84.411811  2021-04-27T04:21:07-0700  \n",
       "221323  37.820812  -90.457720  2021-04-21T10:13:18-0500  \n",
       "171159  37.601746  -84.301924  2021-05-02T20:10:24-0400  \n",
       "\n",
       "[10 rows x 26 columns]"
      ]
     },
     "execution_count": 4,
     "metadata": {},
     "output_type": "execute_result"
    }
   ],
   "source": [
    "df.sample(10, random_state=100)"
   ]
  },
  {
   "cell_type": "code",
   "execution_count": 5,
   "id": "63e99ac8",
   "metadata": {},
   "outputs": [
    {
     "data": {
      "text/plain": [
       "Index(['id', 'url', 'region', 'region_url', 'price', 'year', 'manufacturer',\n",
       "       'model', 'condition', 'cylinders', 'fuel', 'odometer', 'title_status',\n",
       "       'transmission', 'VIN', 'drive', 'size', 'type', 'paint_color',\n",
       "       'image_url', 'description', 'county', 'state', 'lat', 'long',\n",
       "       'posting_date'],\n",
       "      dtype='object')"
      ]
     },
     "execution_count": 5,
     "metadata": {},
     "output_type": "execute_result"
    }
   ],
   "source": [
    "df.columns"
   ]
  },
  {
   "cell_type": "code",
   "execution_count": 6,
   "id": "4c88ba39",
   "metadata": {},
   "outputs": [
    {
     "data": {
      "text/plain": [
       "(426880, 26)"
      ]
     },
     "execution_count": 6,
     "metadata": {},
     "output_type": "execute_result"
    }
   ],
   "source": [
    "df.shape"
   ]
  },
  {
   "cell_type": "code",
   "execution_count": 7,
   "id": "0a5d674e",
   "metadata": {},
   "outputs": [
    {
     "data": {
      "text/html": [
       "<div>\n",
       "<style scoped>\n",
       "    .dataframe tbody tr th:only-of-type {\n",
       "        vertical-align: middle;\n",
       "    }\n",
       "\n",
       "    .dataframe tbody tr th {\n",
       "        vertical-align: top;\n",
       "    }\n",
       "\n",
       "    .dataframe thead th {\n",
       "        text-align: right;\n",
       "    }\n",
       "</style>\n",
       "<table border=\"1\" class=\"dataframe\">\n",
       "  <thead>\n",
       "    <tr style=\"text-align: right;\">\n",
       "      <th></th>\n",
       "      <th>id</th>\n",
       "      <th>price</th>\n",
       "      <th>year</th>\n",
       "      <th>odometer</th>\n",
       "      <th>county</th>\n",
       "      <th>lat</th>\n",
       "      <th>long</th>\n",
       "    </tr>\n",
       "  </thead>\n",
       "  <tbody>\n",
       "    <tr>\n",
       "      <th>count</th>\n",
       "      <td>4.268800e+05</td>\n",
       "      <td>4.268800e+05</td>\n",
       "      <td>425675.000000</td>\n",
       "      <td>4.224800e+05</td>\n",
       "      <td>0.0</td>\n",
       "      <td>420331.000000</td>\n",
       "      <td>420331.000000</td>\n",
       "    </tr>\n",
       "    <tr>\n",
       "      <th>mean</th>\n",
       "      <td>7.311487e+09</td>\n",
       "      <td>7.519903e+04</td>\n",
       "      <td>2011.235191</td>\n",
       "      <td>9.804333e+04</td>\n",
       "      <td>NaN</td>\n",
       "      <td>38.493940</td>\n",
       "      <td>-94.748599</td>\n",
       "    </tr>\n",
       "    <tr>\n",
       "      <th>std</th>\n",
       "      <td>4.473170e+06</td>\n",
       "      <td>1.218228e+07</td>\n",
       "      <td>9.452120</td>\n",
       "      <td>2.138815e+05</td>\n",
       "      <td>NaN</td>\n",
       "      <td>5.841533</td>\n",
       "      <td>18.365462</td>\n",
       "    </tr>\n",
       "    <tr>\n",
       "      <th>min</th>\n",
       "      <td>7.207408e+09</td>\n",
       "      <td>0.000000e+00</td>\n",
       "      <td>1900.000000</td>\n",
       "      <td>0.000000e+00</td>\n",
       "      <td>NaN</td>\n",
       "      <td>-84.122245</td>\n",
       "      <td>-159.827728</td>\n",
       "    </tr>\n",
       "    <tr>\n",
       "      <th>25%</th>\n",
       "      <td>7.308143e+09</td>\n",
       "      <td>5.900000e+03</td>\n",
       "      <td>2008.000000</td>\n",
       "      <td>3.770400e+04</td>\n",
       "      <td>NaN</td>\n",
       "      <td>34.601900</td>\n",
       "      <td>-111.939847</td>\n",
       "    </tr>\n",
       "    <tr>\n",
       "      <th>50%</th>\n",
       "      <td>7.312621e+09</td>\n",
       "      <td>1.395000e+04</td>\n",
       "      <td>2013.000000</td>\n",
       "      <td>8.554800e+04</td>\n",
       "      <td>NaN</td>\n",
       "      <td>39.150100</td>\n",
       "      <td>-88.432600</td>\n",
       "    </tr>\n",
       "    <tr>\n",
       "      <th>75%</th>\n",
       "      <td>7.315254e+09</td>\n",
       "      <td>2.648575e+04</td>\n",
       "      <td>2017.000000</td>\n",
       "      <td>1.335425e+05</td>\n",
       "      <td>NaN</td>\n",
       "      <td>42.398900</td>\n",
       "      <td>-80.832039</td>\n",
       "    </tr>\n",
       "    <tr>\n",
       "      <th>max</th>\n",
       "      <td>7.317101e+09</td>\n",
       "      <td>3.736929e+09</td>\n",
       "      <td>2022.000000</td>\n",
       "      <td>1.000000e+07</td>\n",
       "      <td>NaN</td>\n",
       "      <td>82.390818</td>\n",
       "      <td>173.885502</td>\n",
       "    </tr>\n",
       "  </tbody>\n",
       "</table>\n",
       "</div>"
      ],
      "text/plain": [
       "                 id         price           year      odometer  county  \\\n",
       "count  4.268800e+05  4.268800e+05  425675.000000  4.224800e+05     0.0   \n",
       "mean   7.311487e+09  7.519903e+04    2011.235191  9.804333e+04     NaN   \n",
       "std    4.473170e+06  1.218228e+07       9.452120  2.138815e+05     NaN   \n",
       "min    7.207408e+09  0.000000e+00    1900.000000  0.000000e+00     NaN   \n",
       "25%    7.308143e+09  5.900000e+03    2008.000000  3.770400e+04     NaN   \n",
       "50%    7.312621e+09  1.395000e+04    2013.000000  8.554800e+04     NaN   \n",
       "75%    7.315254e+09  2.648575e+04    2017.000000  1.335425e+05     NaN   \n",
       "max    7.317101e+09  3.736929e+09    2022.000000  1.000000e+07     NaN   \n",
       "\n",
       "                 lat           long  \n",
       "count  420331.000000  420331.000000  \n",
       "mean       38.493940     -94.748599  \n",
       "std         5.841533      18.365462  \n",
       "min       -84.122245    -159.827728  \n",
       "25%        34.601900    -111.939847  \n",
       "50%        39.150100     -88.432600  \n",
       "75%        42.398900     -80.832039  \n",
       "max        82.390818     173.885502  "
      ]
     },
     "execution_count": 7,
     "metadata": {},
     "output_type": "execute_result"
    }
   ],
   "source": [
    "df.describe()\n"
   ]
  },
  {
   "cell_type": "code",
   "execution_count": 8,
   "id": "c633350a",
   "metadata": {},
   "outputs": [
    {
     "data": {
      "text/plain": [
       "array([  nan, 2014., 2010., 2020., 2017., 2013., 2012., 2016., 2019.,\n",
       "       2011., 1992., 2018., 2004., 2015., 2001., 2006., 1968., 2003.,\n",
       "       2008., 2007., 2005., 1966., 2009., 1998., 2002., 1999., 2021.,\n",
       "       1997., 1976., 1969., 1995., 1978., 1954., 1979., 1970., 1974.,\n",
       "       1996., 1987., 2000., 1955., 1960., 1991., 1972., 1988., 1994.,\n",
       "       1929., 1984., 1986., 1989., 1973., 1946., 1933., 1958., 1937.,\n",
       "       1985., 1957., 1953., 1942., 1963., 1977., 1993., 1903., 1990.,\n",
       "       1965., 1982., 1948., 1983., 1936., 1932., 1951., 1931., 1980.,\n",
       "       1967., 1971., 1947., 1981., 1926., 1962., 1975., 1964., 1934.,\n",
       "       1952., 1940., 1959., 1950., 1930., 1956., 1922., 1928., 2022.,\n",
       "       1901., 1941., 1924., 1927., 1939., 1923., 1949., 1961., 1935.,\n",
       "       1918., 1900., 1938., 1913., 1916., 1943., 1925., 1921., 1915.,\n",
       "       1945., 1902., 1905., 1920., 1944., 1910., 1909.])"
      ]
     },
     "execution_count": 8,
     "metadata": {},
     "output_type": "execute_result"
    }
   ],
   "source": [
    "df.year.unique()"
   ]
  },
  {
   "cell_type": "code",
   "execution_count": 9,
   "id": "7a2bf902",
   "metadata": {},
   "outputs": [
    {
     "data": {
      "text/plain": [
       "array([nan, 'gmc', 'chevrolet', 'toyota', 'ford', 'jeep', 'nissan', 'ram',\n",
       "       'mazda', 'cadillac', 'honda', 'dodge', 'lexus', 'jaguar', 'buick',\n",
       "       'chrysler', 'volvo', 'audi', 'infiniti', 'lincoln', 'alfa-romeo',\n",
       "       'subaru', 'acura', 'hyundai', 'mercedes-benz', 'bmw', 'mitsubishi',\n",
       "       'volkswagen', 'porsche', 'kia', 'rover', 'ferrari', 'mini',\n",
       "       'pontiac', 'fiat', 'tesla', 'saturn', 'mercury', 'harley-davidson',\n",
       "       'datsun', 'aston-martin', 'land rover', 'morgan'], dtype=object)"
      ]
     },
     "execution_count": 9,
     "metadata": {},
     "output_type": "execute_result"
    }
   ],
   "source": [
    "df.manufacturer.unique()"
   ]
  },
  {
   "cell_type": "code",
   "execution_count": 10,
   "id": "bf047519",
   "metadata": {},
   "outputs": [
    {
     "data": {
      "text/plain": [
       "array([nan, '8 cylinders', '6 cylinders', '4 cylinders', '5 cylinders',\n",
       "       'other', '3 cylinders', '10 cylinders', '12 cylinders'],\n",
       "      dtype=object)"
      ]
     },
     "execution_count": 10,
     "metadata": {},
     "output_type": "execute_result"
    }
   ],
   "source": [
    "df.cylinders.unique()"
   ]
  },
  {
   "cell_type": "code",
   "execution_count": 11,
   "id": "79272560",
   "metadata": {},
   "outputs": [
    {
     "data": {
      "text/plain": [
       "array([nan, 'white', 'blue', 'red', 'black', 'silver', 'grey', 'brown',\n",
       "       'yellow', 'orange', 'green', 'custom', 'purple'], dtype=object)"
      ]
     },
     "execution_count": 11,
     "metadata": {},
     "output_type": "execute_result"
    }
   ],
   "source": [
    "df.paint_color.unique()"
   ]
  },
  {
   "cell_type": "code",
   "execution_count": 12,
   "id": "b2844410",
   "metadata": {},
   "outputs": [
    {
     "data": {
      "text/html": [
       "<div>\n",
       "<style scoped>\n",
       "    .dataframe tbody tr th:only-of-type {\n",
       "        vertical-align: middle;\n",
       "    }\n",
       "\n",
       "    .dataframe tbody tr th {\n",
       "        vertical-align: top;\n",
       "    }\n",
       "\n",
       "    .dataframe thead th {\n",
       "        text-align: right;\n",
       "    }\n",
       "</style>\n",
       "<table border=\"1\" class=\"dataframe\">\n",
       "  <thead>\n",
       "    <tr style=\"text-align: right;\">\n",
       "      <th></th>\n",
       "      <th>id</th>\n",
       "      <th>price</th>\n",
       "      <th>year</th>\n",
       "      <th>odometer</th>\n",
       "      <th>county</th>\n",
       "      <th>lat</th>\n",
       "      <th>long</th>\n",
       "    </tr>\n",
       "  </thead>\n",
       "  <tbody>\n",
       "    <tr>\n",
       "      <th>id</th>\n",
       "      <td>1.000000</td>\n",
       "      <td>-0.002779</td>\n",
       "      <td>-0.059040</td>\n",
       "      <td>0.010721</td>\n",
       "      <td>NaN</td>\n",
       "      <td>-0.069388</td>\n",
       "      <td>-0.121864</td>\n",
       "    </tr>\n",
       "    <tr>\n",
       "      <th>price</th>\n",
       "      <td>-0.002779</td>\n",
       "      <td>1.000000</td>\n",
       "      <td>-0.004925</td>\n",
       "      <td>0.010032</td>\n",
       "      <td>NaN</td>\n",
       "      <td>0.000357</td>\n",
       "      <td>-0.000408</td>\n",
       "    </tr>\n",
       "    <tr>\n",
       "      <th>year</th>\n",
       "      <td>-0.059040</td>\n",
       "      <td>-0.004925</td>\n",
       "      <td>1.000000</td>\n",
       "      <td>-0.157215</td>\n",
       "      <td>NaN</td>\n",
       "      <td>-0.014677</td>\n",
       "      <td>-0.001410</td>\n",
       "    </tr>\n",
       "    <tr>\n",
       "      <th>odometer</th>\n",
       "      <td>0.010721</td>\n",
       "      <td>0.010032</td>\n",
       "      <td>-0.157215</td>\n",
       "      <td>1.000000</td>\n",
       "      <td>NaN</td>\n",
       "      <td>-0.001459</td>\n",
       "      <td>0.009807</td>\n",
       "    </tr>\n",
       "    <tr>\n",
       "      <th>county</th>\n",
       "      <td>NaN</td>\n",
       "      <td>NaN</td>\n",
       "      <td>NaN</td>\n",
       "      <td>NaN</td>\n",
       "      <td>NaN</td>\n",
       "      <td>NaN</td>\n",
       "      <td>NaN</td>\n",
       "    </tr>\n",
       "    <tr>\n",
       "      <th>lat</th>\n",
       "      <td>-0.069388</td>\n",
       "      <td>0.000357</td>\n",
       "      <td>-0.014677</td>\n",
       "      <td>-0.001459</td>\n",
       "      <td>NaN</td>\n",
       "      <td>1.000000</td>\n",
       "      <td>-0.128088</td>\n",
       "    </tr>\n",
       "    <tr>\n",
       "      <th>long</th>\n",
       "      <td>-0.121864</td>\n",
       "      <td>-0.000408</td>\n",
       "      <td>-0.001410</td>\n",
       "      <td>0.009807</td>\n",
       "      <td>NaN</td>\n",
       "      <td>-0.128088</td>\n",
       "      <td>1.000000</td>\n",
       "    </tr>\n",
       "  </tbody>\n",
       "</table>\n",
       "</div>"
      ],
      "text/plain": [
       "                id     price      year  odometer  county       lat      long\n",
       "id        1.000000 -0.002779 -0.059040  0.010721     NaN -0.069388 -0.121864\n",
       "price    -0.002779  1.000000 -0.004925  0.010032     NaN  0.000357 -0.000408\n",
       "year     -0.059040 -0.004925  1.000000 -0.157215     NaN -0.014677 -0.001410\n",
       "odometer  0.010721  0.010032 -0.157215  1.000000     NaN -0.001459  0.009807\n",
       "county         NaN       NaN       NaN       NaN     NaN       NaN       NaN\n",
       "lat      -0.069388  0.000357 -0.014677 -0.001459     NaN  1.000000 -0.128088\n",
       "long     -0.121864 -0.000408 -0.001410  0.009807     NaN -0.128088  1.000000"
      ]
     },
     "execution_count": 12,
     "metadata": {},
     "output_type": "execute_result"
    }
   ],
   "source": [
    "df.corr()"
   ]
  },
  {
   "cell_type": "code",
   "execution_count": 13,
   "id": "ea773c54",
   "metadata": {},
   "outputs": [
    {
     "data": {
      "text/plain": [
       "(426880, 26)"
      ]
     },
     "execution_count": 13,
     "metadata": {},
     "output_type": "execute_result"
    }
   ],
   "source": [
    "df.shape"
   ]
  },
  {
   "cell_type": "markdown",
   "id": "7b3b5598",
   "metadata": {},
   "source": [
    "# Split data "
   ]
  },
  {
   "cell_type": "code",
   "execution_count": 14,
   "id": "0f97693d",
   "metadata": {},
   "outputs": [],
   "source": [
    "df_train,df_test=train_test_split(df,test_size=0.09 , random_state=0)"
   ]
  },
  {
   "cell_type": "code",
   "execution_count": 15,
   "id": "40c2a97c",
   "metadata": {},
   "outputs": [],
   "source": [
    "df_train,df_val=train_test_split(df_train,test_size=0.1, random_state=100)"
   ]
  },
  {
   "cell_type": "code",
   "execution_count": 16,
   "id": "b2447887",
   "metadata": {},
   "outputs": [
    {
     "data": {
      "text/plain": [
       "(349614, 26)"
      ]
     },
     "execution_count": 16,
     "metadata": {},
     "output_type": "execute_result"
    }
   ],
   "source": [
    "df_train.shape"
   ]
  },
  {
   "cell_type": "code",
   "execution_count": 17,
   "id": "21113753",
   "metadata": {},
   "outputs": [
    {
     "data": {
      "text/plain": [
       "(38846, 26)"
      ]
     },
     "execution_count": 17,
     "metadata": {},
     "output_type": "execute_result"
    }
   ],
   "source": [
    "df_val.shape"
   ]
  },
  {
   "cell_type": "code",
   "execution_count": 18,
   "id": "7bf1fbd9",
   "metadata": {},
   "outputs": [
    {
     "data": {
      "text/plain": [
       "(38420, 26)"
      ]
     },
     "execution_count": 18,
     "metadata": {},
     "output_type": "execute_result"
    }
   ],
   "source": [
    "df_test.shape"
   ]
  },
  {
   "cell_type": "markdown",
   "id": "ef4ecb11",
   "metadata": {},
   "source": [
    "# Cleaning data "
   ]
  },
  {
   "cell_type": "markdown",
   "id": "b8beb5e7",
   "metadata": {},
   "source": [
    "Cleaning train part"
   ]
  },
  {
   "cell_type": "markdown",
   "id": "9fc7c26c",
   "metadata": {},
   "source": [
    "drop unuseful colums \n"
   ]
  },
  {
   "cell_type": "code",
   "execution_count": 19,
   "id": "a4c76458",
   "metadata": {},
   "outputs": [],
   "source": [
    "df_train=df_train.drop(columns= ['id','url', 'region', 'region_url', 'VIN', 'image_url', 'description', \\\n",
    "    'county', 'size', 'paint_color', 'state', 'lat','long',\"posting_date\",\"model\"])"
   ]
  },
  {
   "cell_type": "code",
   "execution_count": 20,
   "id": "399eae25",
   "metadata": {},
   "outputs": [
    {
     "data": {
      "text/plain": [
       "Index(['price', 'year', 'manufacturer', 'condition', 'cylinders', 'fuel',\n",
       "       'odometer', 'title_status', 'transmission', 'drive', 'type'],\n",
       "      dtype='object')"
      ]
     },
     "execution_count": 20,
     "metadata": {},
     "output_type": "execute_result"
    }
   ],
   "source": [
    "df_train.columns"
   ]
  },
  {
   "cell_type": "code",
   "execution_count": 21,
   "id": "d0393781",
   "metadata": {
    "scrolled": true
   },
   "outputs": [
    {
     "data": {
      "text/plain": [
       "price                0\n",
       "year              1002\n",
       "manufacturer     14563\n",
       "condition       142402\n",
       "cylinders       145664\n",
       "fuel              2444\n",
       "odometer          3614\n",
       "title_status      6687\n",
       "transmission      2088\n",
       "drive           107168\n",
       "type             76173\n",
       "dtype: int64"
      ]
     },
     "execution_count": 21,
     "metadata": {},
     "output_type": "execute_result"
    }
   ],
   "source": [
    "df_train.isna().sum()"
   ]
  },
  {
   "cell_type": "code",
   "execution_count": 22,
   "id": "6eb727a1",
   "metadata": {},
   "outputs": [
    {
     "data": {
      "text/plain": [
       "(349614, 11)"
      ]
     },
     "execution_count": 22,
     "metadata": {},
     "output_type": "execute_result"
    }
   ],
   "source": [
    "df_train.shape"
   ]
  },
  {
   "cell_type": "code",
   "execution_count": 23,
   "id": "e42ca333",
   "metadata": {},
   "outputs": [],
   "source": [
    "#df_train=df_train.dropna(how=\"any\")"
   ]
  },
  {
   "cell_type": "code",
   "execution_count": 24,
   "id": "e9d90a90",
   "metadata": {},
   "outputs": [
    {
     "data": {
      "text/plain": [
       "(349614, 11)"
      ]
     },
     "execution_count": 24,
     "metadata": {},
     "output_type": "execute_result"
    }
   ],
   "source": [
    "df_train.shape"
   ]
  },
  {
   "cell_type": "code",
   "execution_count": 25,
   "id": "ae07333e",
   "metadata": {},
   "outputs": [],
   "source": [
    "cylinder_dict = {\n",
    "    '8 cylinders': 8,\n",
    "    '6 cylinders': 6,\n",
    "    '4 cylinders': 4,\n",
    "    '5 cylinders': 5,\n",
    "    '3 cylinders': 3,\n",
    "    '10 cylinders': 10,\n",
    "    '12 cylinders': 12\n",
    "}"
   ]
  },
  {
   "cell_type": "code",
   "execution_count": 26,
   "id": "ce2b529b",
   "metadata": {},
   "outputs": [],
   "source": [
    "df_train['cylinders'] = df.cylinders.map(cylinder_dict)"
   ]
  },
  {
   "cell_type": "code",
   "execution_count": 27,
   "id": "0f16305a",
   "metadata": {},
   "outputs": [
    {
     "data": {
      "text/plain": [
       "array([ 6.,  4., nan,  8.,  5.,  3., 10., 12.])"
      ]
     },
     "execution_count": 27,
     "metadata": {},
     "output_type": "execute_result"
    }
   ],
   "source": [
    "df_train.cylinders.unique()"
   ]
  },
  {
   "cell_type": "code",
   "execution_count": 28,
   "id": "d26e4cd4",
   "metadata": {},
   "outputs": [
    {
     "data": {
      "text/plain": [
       "5.971149202093581"
      ]
     },
     "execution_count": 28,
     "metadata": {},
     "output_type": "execute_result"
    }
   ],
   "source": [
    "df_train.cylinders.mean()"
   ]
  },
  {
   "cell_type": "code",
   "execution_count": 29,
   "id": "dcc82c5e",
   "metadata": {},
   "outputs": [],
   "source": [
    "df_train['cylinders'].fillna(6, inplace=True)"
   ]
  },
  {
   "cell_type": "code",
   "execution_count": 30,
   "id": "27158b49",
   "metadata": {},
   "outputs": [
    {
     "data": {
      "text/plain": [
       "price                0\n",
       "year              1002\n",
       "manufacturer     14563\n",
       "condition       142402\n",
       "cylinders            0\n",
       "fuel              2444\n",
       "odometer          3614\n",
       "title_status      6687\n",
       "transmission      2088\n",
       "drive           107168\n",
       "type             76173\n",
       "dtype: int64"
      ]
     },
     "execution_count": 30,
     "metadata": {},
     "output_type": "execute_result"
    }
   ],
   "source": [
    "df_train.isna().sum()"
   ]
  },
  {
   "cell_type": "code",
   "execution_count": 31,
   "id": "124e6a25",
   "metadata": {},
   "outputs": [
    {
     "data": {
      "text/plain": [
       "good         99719\n",
       "excellent    82980\n",
       "like new     17394\n",
       "fair          5551\n",
       "new           1064\n",
       "salvage        504\n",
       "Name: condition, dtype: int64"
      ]
     },
     "execution_count": 31,
     "metadata": {},
     "output_type": "execute_result"
    }
   ],
   "source": [
    "condition1=df_train['condition']\n",
    "condition1.value_counts()"
   ]
  },
  {
   "cell_type": "code",
   "execution_count": null,
   "id": "ae45754c",
   "metadata": {},
   "outputs": [],
   "source": []
  },
  {
   "cell_type": "code",
   "execution_count": 32,
   "id": "054e2cd5",
   "metadata": {},
   "outputs": [],
   "source": [
    "df_train['condition'].fillna('good', inplace=True)"
   ]
  },
  {
   "cell_type": "code",
   "execution_count": 33,
   "id": "2820ad1f",
   "metadata": {
    "scrolled": true
   },
   "outputs": [
    {
     "data": {
      "text/plain": [
       "4wd    107770\n",
       "fwd     86334\n",
       "rwd     48342\n",
       "Name: drive, dtype: int64"
      ]
     },
     "execution_count": 33,
     "metadata": {},
     "output_type": "execute_result"
    }
   ],
   "source": [
    "drive1=df_train['drive']\n",
    "drive1.value_counts()"
   ]
  },
  {
   "cell_type": "code",
   "execution_count": 34,
   "id": "99115281",
   "metadata": {},
   "outputs": [],
   "source": [
    "df_train['drive'].fillna('4wd', inplace=True)"
   ]
  },
  {
   "cell_type": "code",
   "execution_count": 35,
   "id": "97bf336d",
   "metadata": {},
   "outputs": [
    {
     "data": {
      "text/plain": [
       "price               0\n",
       "year             1002\n",
       "manufacturer    14563\n",
       "condition           0\n",
       "cylinders           0\n",
       "fuel             2444\n",
       "odometer         3614\n",
       "title_status     6687\n",
       "transmission     2088\n",
       "drive               0\n",
       "type            76173\n",
       "dtype: int64"
      ]
     },
     "execution_count": 35,
     "metadata": {},
     "output_type": "execute_result"
    }
   ],
   "source": [
    "df_train.isna().sum()"
   ]
  },
  {
   "cell_type": "code",
   "execution_count": 36,
   "id": "c0669602",
   "metadata": {},
   "outputs": [],
   "source": [
    "df_train=df_train.dropna(how=\"any\")"
   ]
  },
  {
   "cell_type": "code",
   "execution_count": 37,
   "id": "a4885e18",
   "metadata": {},
   "outputs": [
    {
     "data": {
      "text/plain": [
       "price           0\n",
       "year            0\n",
       "manufacturer    0\n",
       "condition       0\n",
       "cylinders       0\n",
       "fuel            0\n",
       "odometer        0\n",
       "title_status    0\n",
       "transmission    0\n",
       "drive           0\n",
       "type            0\n",
       "dtype: int64"
      ]
     },
     "execution_count": 37,
     "metadata": {},
     "output_type": "execute_result"
    }
   ],
   "source": [
    "df_train.isna().sum()"
   ]
  },
  {
   "cell_type": "code",
   "execution_count": 38,
   "id": "57db3edd",
   "metadata": {},
   "outputs": [],
   "source": [
    "df_train.drop_duplicates(inplace=True)"
   ]
  },
  {
   "cell_type": "code",
   "execution_count": 39,
   "id": "72a8c482",
   "metadata": {},
   "outputs": [
    {
     "data": {
      "text/plain": [
       "(145033, 11)"
      ]
     },
     "execution_count": 39,
     "metadata": {},
     "output_type": "execute_result"
    }
   ],
   "source": [
    "df_train.shape"
   ]
  },
  {
   "cell_type": "code",
   "execution_count": 40,
   "id": "27137b34",
   "metadata": {},
   "outputs": [],
   "source": [
    "df_train=df_train[(df_train.price >0)]"
   ]
  },
  {
   "cell_type": "code",
   "execution_count": 41,
   "id": "08edae42",
   "metadata": {},
   "outputs": [],
   "source": [
    "df_train=df_train[df_train.condition != 'new']"
   ]
  },
  {
   "cell_type": "code",
   "execution_count": 42,
   "id": "cc0dc32b",
   "metadata": {},
   "outputs": [
    {
     "data": {
      "text/plain": [
       "good         78535\n",
       "excellent    41993\n",
       "like new      9660\n",
       "fair          3760\n",
       "salvage        331\n",
       "Name: condition, dtype: int64"
      ]
     },
     "execution_count": 42,
     "metadata": {},
     "output_type": "execute_result"
    }
   ],
   "source": [
    "df_train.condition.value_counts()"
   ]
  },
  {
   "cell_type": "code",
   "execution_count": 43,
   "id": "16b06335",
   "metadata": {},
   "outputs": [],
   "source": [
    "df_train=df_train[df_train.title_status != 'parts only']"
   ]
  },
  {
   "cell_type": "code",
   "execution_count": 44,
   "id": "db9ec957",
   "metadata": {},
   "outputs": [],
   "source": [
    "df_train=df_train[(df_train.fuel != 'other')]"
   ]
  },
  {
   "cell_type": "code",
   "execution_count": 45,
   "id": "39ae5a1d",
   "metadata": {},
   "outputs": [
    {
     "data": {
      "text/plain": [
       "gas         119304\n",
       "diesel        6633\n",
       "hybrid        1791\n",
       "electric       498\n",
       "Name: fuel, dtype: int64"
      ]
     },
     "execution_count": 45,
     "metadata": {},
     "output_type": "execute_result"
    }
   ],
   "source": [
    "df_train.fuel.value_counts()"
   ]
  },
  {
   "cell_type": "code",
   "execution_count": 46,
   "id": "21670afe",
   "metadata": {},
   "outputs": [],
   "source": [
    "df_train=df_train[(df_train.transmission != 'other')]"
   ]
  },
  {
   "cell_type": "code",
   "execution_count": 47,
   "id": "c6c29a04",
   "metadata": {},
   "outputs": [
    {
     "data": {
      "text/plain": [
       "automatic    112400\n",
       "manual         9029\n",
       "Name: transmission, dtype: int64"
      ]
     },
     "execution_count": 47,
     "metadata": {},
     "output_type": "execute_result"
    }
   ],
   "source": [
    "df_train.transmission.value_counts()"
   ]
  },
  {
   "cell_type": "code",
   "execution_count": 48,
   "id": "49035f09",
   "metadata": {},
   "outputs": [
    {
     "data": {
      "text/plain": [
       "(121429, 11)"
      ]
     },
     "execution_count": 48,
     "metadata": {},
     "output_type": "execute_result"
    }
   ],
   "source": [
    "df_train.shape"
   ]
  },
  {
   "cell_type": "markdown",
   "id": "f58e0112",
   "metadata": {},
   "source": [
    "# Data Visualization"
   ]
  },
  {
   "cell_type": "code",
   "execution_count": 49,
   "id": "76f4060f",
   "metadata": {},
   "outputs": [
    {
     "data": {
      "text/plain": [
       "<AxesSubplot:title={'center':'Price Distribution'}, xlabel='price', ylabel='Count'>"
      ]
     },
     "execution_count": 49,
     "metadata": {},
     "output_type": "execute_result"
    },
    {
     "data": {
      "image/png": "[encoded data removed]",
      "text/plain": [
       "<Figure size 864x576 with 1 Axes>"
      ]
     },
     "metadata": {
      "needs_background": "light"
     },
     "output_type": "display_data"
    }
   ],
   "source": [
    "df_prc =df_train[(df_train.price >=2000) & (df_train.price <=50000)]\n",
    "# Then plot the distriution \n",
    "f, ax = plt.subplots(figsize=(12, 8))\n",
    "ax.set_title('Price Distribution', pad=12)\n",
    "sns.histplot(df_prc, x=\"price\", stat='count', bins=20)"
   ]
  },
  {
   "cell_type": "code",
   "execution_count": 50,
   "id": "dfe51616",
   "metadata": {},
   "outputs": [
    {
     "data": {
      "image/png": "[encoded data removed]",
      "text/plain": [
       "<Figure size 720x360 with 1 Axes>"
      ]
     },
     "metadata": {
      "needs_background": "light"
     },
     "output_type": "display_data"
    }
   ],
   "source": [
    "train_prc = df_train[(df_train.price >=2000) & (df_train.price <=50000)]\n",
    "train_odo = train_prc[(train_prc.odometer >100000) & (train_prc.odometer <=200000)]\n",
    "sns.displot(data=train_odo, x=\"odometer\", aspect=2, height=5, kde=True)\n",
    "plt.ylabel(\"Price \", fontsize=10);"
   ]
  },
  {
   "cell_type": "code",
   "execution_count": 51,
   "id": "df681773",
   "metadata": {},
   "outputs": [
    {
     "data": {
      "image/png": "[encoded data removed]",
      "text/plain": [
       "<Figure size 1440x720 with 1 Axes>"
      ]
     },
     "metadata": {
      "needs_background": "light"
     },
     "output_type": "display_data"
    }
   ],
   "source": [
    "f, ax = plt.subplots(figsize=(20, 10))\n",
    "ax.set_title('Price vs Year', pad=12)\n",
    "fig = sns.boxplot(x=train_odo.year.astype(int), y='price', data=train_odo,palette=\"mako\")\n",
    "plt.xticks(rotation=90);"
   ]
  },
  {
   "cell_type": "code",
   "execution_count": 52,
   "id": "96e051aa",
   "metadata": {},
   "outputs": [
    {
     "data": {
      "image/png": "[encoded data removed]",
      "text/plain": [
       "<Figure size 864x576 with 1 Axes>"
      ]
     },
     "metadata": {
      "needs_background": "light"
     },
     "output_type": "display_data"
    }
   ],
   "source": [
    "year_list = list(range(2000, 2020))\n",
    "\n",
    "train_year = train_odo[train_odo.year.astype(int).isin(year_list)]\n",
    "\n",
    "# Plot again to visualize distribution\n",
    "f, ax = plt.subplots(figsize=(12, 8))\n",
    "ax.set_title('Price vs Year', pad=12)\n",
    "fig = sns.boxplot(x=train_year.year.astype(int), y='price', data=train_year,palette=\"mako\")\n",
    "plt.xticks(rotation=90);"
   ]
  },
  {
   "cell_type": "markdown",
   "id": "90d56bb4",
   "metadata": {},
   "source": [
    "# Encode trian set "
   ]
  },
  {
   "cell_type": "code",
   "execution_count": 53,
   "id": "e38c4fbb",
   "metadata": {},
   "outputs": [
    {
     "data": {
      "text/plain": [
       "<AxesSubplot:>"
      ]
     },
     "execution_count": 53,
     "metadata": {},
     "output_type": "execute_result"
    },
    {
     "data": {
      "image/png": "[encoded data removed]",
      "text/plain": [
       "<Figure size 432x288 with 2 Axes>"
      ]
     },
     "metadata": {
      "needs_background": "light"
     },
     "output_type": "display_data"
    }
   ],
   "source": [
    "sns.heatmap(df_train.corr(), cmap=\"Blues\", annot=True, vmin=-1, vmax=1)"
   ]
  },
  {
   "cell_type": "code",
   "execution_count": 54,
   "id": "10981870",
   "metadata": {
    "scrolled": false
   },
   "outputs": [
    {
     "data": {
      "text/html": [
       "<div>\n",
       "<style scoped>\n",
       "    .dataframe tbody tr th:only-of-type {\n",
       "        vertical-align: middle;\n",
       "    }\n",
       "\n",
       "    .dataframe tbody tr th {\n",
       "        vertical-align: top;\n",
       "    }\n",
       "\n",
       "    .dataframe thead th {\n",
       "        text-align: right;\n",
       "    }\n",
       "</style>\n",
       "<table border=\"1\" class=\"dataframe\">\n",
       "  <thead>\n",
       "    <tr style=\"text-align: right;\">\n",
       "      <th></th>\n",
       "      <th>price</th>\n",
       "      <th>year</th>\n",
       "      <th>cylinders</th>\n",
       "      <th>odometer</th>\n",
       "    </tr>\n",
       "  </thead>\n",
       "  <tbody>\n",
       "    <tr>\n",
       "      <th>126407</th>\n",
       "      <td>19491</td>\n",
       "      <td>2013.0</td>\n",
       "      <td>6.0</td>\n",
       "      <td>79893.0</td>\n",
       "    </tr>\n",
       "    <tr>\n",
       "      <th>232571</th>\n",
       "      <td>7995</td>\n",
       "      <td>2007.0</td>\n",
       "      <td>4.0</td>\n",
       "      <td>121841.0</td>\n",
       "    </tr>\n",
       "    <tr>\n",
       "      <th>36714</th>\n",
       "      <td>9995</td>\n",
       "      <td>2011.0</td>\n",
       "      <td>4.0</td>\n",
       "      <td>131690.0</td>\n",
       "    </tr>\n",
       "    <tr>\n",
       "      <th>327134</th>\n",
       "      <td>37995</td>\n",
       "      <td>2018.0</td>\n",
       "      <td>6.0</td>\n",
       "      <td>50290.0</td>\n",
       "    </tr>\n",
       "    <tr>\n",
       "      <th>173655</th>\n",
       "      <td>9797</td>\n",
       "      <td>2010.0</td>\n",
       "      <td>6.0</td>\n",
       "      <td>85078.0</td>\n",
       "    </tr>\n",
       "    <tr>\n",
       "      <th>...</th>\n",
       "      <td>...</td>\n",
       "      <td>...</td>\n",
       "      <td>...</td>\n",
       "      <td>...</td>\n",
       "    </tr>\n",
       "    <tr>\n",
       "      <th>89139</th>\n",
       "      <td>13995</td>\n",
       "      <td>2013.0</td>\n",
       "      <td>6.0</td>\n",
       "      <td>86758.0</td>\n",
       "    </tr>\n",
       "    <tr>\n",
       "      <th>303840</th>\n",
       "      <td>1795</td>\n",
       "      <td>2005.0</td>\n",
       "      <td>6.0</td>\n",
       "      <td>233000.0</td>\n",
       "    </tr>\n",
       "    <tr>\n",
       "      <th>163254</th>\n",
       "      <td>2800</td>\n",
       "      <td>2003.0</td>\n",
       "      <td>4.0</td>\n",
       "      <td>186169.0</td>\n",
       "    </tr>\n",
       "    <tr>\n",
       "      <th>325147</th>\n",
       "      <td>25995</td>\n",
       "      <td>2016.0</td>\n",
       "      <td>6.0</td>\n",
       "      <td>116392.0</td>\n",
       "    </tr>\n",
       "    <tr>\n",
       "      <th>183327</th>\n",
       "      <td>2700</td>\n",
       "      <td>2011.0</td>\n",
       "      <td>4.0</td>\n",
       "      <td>160553.0</td>\n",
       "    </tr>\n",
       "  </tbody>\n",
       "</table>\n",
       "<p>121429 rows × 4 columns</p>\n",
       "</div>"
      ],
      "text/plain": [
       "        price    year  cylinders  odometer\n",
       "126407  19491  2013.0        6.0   79893.0\n",
       "232571   7995  2007.0        4.0  121841.0\n",
       "36714    9995  2011.0        4.0  131690.0\n",
       "327134  37995  2018.0        6.0   50290.0\n",
       "173655   9797  2010.0        6.0   85078.0\n",
       "...       ...     ...        ...       ...\n",
       "89139   13995  2013.0        6.0   86758.0\n",
       "303840   1795  2005.0        6.0  233000.0\n",
       "163254   2800  2003.0        4.0  186169.0\n",
       "325147  25995  2016.0        6.0  116392.0\n",
       "183327   2700  2011.0        4.0  160553.0\n",
       "\n",
       "[121429 rows x 4 columns]"
      ]
     },
     "execution_count": 54,
     "metadata": {},
     "output_type": "execute_result"
    }
   ],
   "source": [
    " df_train.select_dtypes(exclude=['object'])"
   ]
  },
  {
   "cell_type": "code",
   "execution_count": 55,
   "id": "130e17d4",
   "metadata": {},
   "outputs": [],
   "source": [
    "df_train=pd.get_dummies(df_train, columns=[\"manufacturer\"])"
   ]
  },
  {
   "cell_type": "code",
   "execution_count": 56,
   "id": "0ce79c9a",
   "metadata": {},
   "outputs": [],
   "source": [
    "df_train=pd.get_dummies(df_train, columns=[\"condition\"])"
   ]
  },
  {
   "cell_type": "code",
   "execution_count": 57,
   "id": "ba85558e",
   "metadata": {},
   "outputs": [],
   "source": [
    "df_train=pd.get_dummies(df_train, columns=[\"fuel\"])"
   ]
  },
  {
   "cell_type": "code",
   "execution_count": 58,
   "id": "196d9f39",
   "metadata": {},
   "outputs": [],
   "source": [
    "df_train=pd.get_dummies(df_train, columns=[\"transmission\"])"
   ]
  },
  {
   "cell_type": "code",
   "execution_count": 59,
   "id": "bbcf8ad6",
   "metadata": {},
   "outputs": [],
   "source": [
    "df_train=pd.get_dummies(df_train, columns=[\"type\"])"
   ]
  },
  {
   "cell_type": "code",
   "execution_count": 60,
   "id": "1d1d81af",
   "metadata": {},
   "outputs": [],
   "source": [
    "df_train=pd.get_dummies(df_train, columns=[\"drive\"])"
   ]
  },
  {
   "cell_type": "code",
   "execution_count": 61,
   "id": "b1491f65",
   "metadata": {},
   "outputs": [],
   "source": [
    "df_train=pd.get_dummies(df_train, columns=[\"title_status\"])"
   ]
  },
  {
   "cell_type": "code",
   "execution_count": 62,
   "id": "b5de3015",
   "metadata": {},
   "outputs": [
    {
     "data": {
      "text/html": [
       "<div>\n",
       "<style scoped>\n",
       "    .dataframe tbody tr th:only-of-type {\n",
       "        vertical-align: middle;\n",
       "    }\n",
       "\n",
       "    .dataframe tbody tr th {\n",
       "        vertical-align: top;\n",
       "    }\n",
       "\n",
       "    .dataframe thead th {\n",
       "        text-align: right;\n",
       "    }\n",
       "</style>\n",
       "<table border=\"1\" class=\"dataframe\">\n",
       "  <thead>\n",
       "    <tr style=\"text-align: right;\">\n",
       "      <th></th>\n",
       "      <th>price</th>\n",
       "      <th>year</th>\n",
       "      <th>cylinders</th>\n",
       "      <th>odometer</th>\n",
       "      <th>manufacturer_acura</th>\n",
       "      <th>manufacturer_alfa-romeo</th>\n",
       "      <th>manufacturer_aston-martin</th>\n",
       "      <th>manufacturer_audi</th>\n",
       "      <th>manufacturer_bmw</th>\n",
       "      <th>manufacturer_buick</th>\n",
       "      <th>...</th>\n",
       "      <th>type_van</th>\n",
       "      <th>type_wagon</th>\n",
       "      <th>drive_4wd</th>\n",
       "      <th>drive_fwd</th>\n",
       "      <th>drive_rwd</th>\n",
       "      <th>title_status_clean</th>\n",
       "      <th>title_status_lien</th>\n",
       "      <th>title_status_missing</th>\n",
       "      <th>title_status_rebuilt</th>\n",
       "      <th>title_status_salvage</th>\n",
       "    </tr>\n",
       "  </thead>\n",
       "  <tbody>\n",
       "    <tr>\n",
       "      <th>126407</th>\n",
       "      <td>19491</td>\n",
       "      <td>2013.0</td>\n",
       "      <td>6.0</td>\n",
       "      <td>79893.0</td>\n",
       "      <td>0</td>\n",
       "      <td>0</td>\n",
       "      <td>0</td>\n",
       "      <td>0</td>\n",
       "      <td>0</td>\n",
       "      <td>0</td>\n",
       "      <td>...</td>\n",
       "      <td>0</td>\n",
       "      <td>0</td>\n",
       "      <td>0</td>\n",
       "      <td>1</td>\n",
       "      <td>0</td>\n",
       "      <td>1</td>\n",
       "      <td>0</td>\n",
       "      <td>0</td>\n",
       "      <td>0</td>\n",
       "      <td>0</td>\n",
       "    </tr>\n",
       "    <tr>\n",
       "      <th>232571</th>\n",
       "      <td>7995</td>\n",
       "      <td>2007.0</td>\n",
       "      <td>4.0</td>\n",
       "      <td>121841.0</td>\n",
       "      <td>1</td>\n",
       "      <td>0</td>\n",
       "      <td>0</td>\n",
       "      <td>0</td>\n",
       "      <td>0</td>\n",
       "      <td>0</td>\n",
       "      <td>...</td>\n",
       "      <td>0</td>\n",
       "      <td>0</td>\n",
       "      <td>1</td>\n",
       "      <td>0</td>\n",
       "      <td>0</td>\n",
       "      <td>1</td>\n",
       "      <td>0</td>\n",
       "      <td>0</td>\n",
       "      <td>0</td>\n",
       "      <td>0</td>\n",
       "    </tr>\n",
       "    <tr>\n",
       "      <th>36714</th>\n",
       "      <td>9995</td>\n",
       "      <td>2011.0</td>\n",
       "      <td>4.0</td>\n",
       "      <td>131690.0</td>\n",
       "      <td>0</td>\n",
       "      <td>0</td>\n",
       "      <td>0</td>\n",
       "      <td>0</td>\n",
       "      <td>0</td>\n",
       "      <td>0</td>\n",
       "      <td>...</td>\n",
       "      <td>0</td>\n",
       "      <td>1</td>\n",
       "      <td>1</td>\n",
       "      <td>0</td>\n",
       "      <td>0</td>\n",
       "      <td>1</td>\n",
       "      <td>0</td>\n",
       "      <td>0</td>\n",
       "      <td>0</td>\n",
       "      <td>0</td>\n",
       "    </tr>\n",
       "    <tr>\n",
       "      <th>327134</th>\n",
       "      <td>37995</td>\n",
       "      <td>2018.0</td>\n",
       "      <td>6.0</td>\n",
       "      <td>50290.0</td>\n",
       "      <td>0</td>\n",
       "      <td>0</td>\n",
       "      <td>0</td>\n",
       "      <td>0</td>\n",
       "      <td>0</td>\n",
       "      <td>0</td>\n",
       "      <td>...</td>\n",
       "      <td>0</td>\n",
       "      <td>0</td>\n",
       "      <td>1</td>\n",
       "      <td>0</td>\n",
       "      <td>0</td>\n",
       "      <td>1</td>\n",
       "      <td>0</td>\n",
       "      <td>0</td>\n",
       "      <td>0</td>\n",
       "      <td>0</td>\n",
       "    </tr>\n",
       "    <tr>\n",
       "      <th>173655</th>\n",
       "      <td>9797</td>\n",
       "      <td>2010.0</td>\n",
       "      <td>6.0</td>\n",
       "      <td>85078.0</td>\n",
       "      <td>0</td>\n",
       "      <td>0</td>\n",
       "      <td>0</td>\n",
       "      <td>0</td>\n",
       "      <td>0</td>\n",
       "      <td>0</td>\n",
       "      <td>...</td>\n",
       "      <td>1</td>\n",
       "      <td>0</td>\n",
       "      <td>0</td>\n",
       "      <td>1</td>\n",
       "      <td>0</td>\n",
       "      <td>1</td>\n",
       "      <td>0</td>\n",
       "      <td>0</td>\n",
       "      <td>0</td>\n",
       "      <td>0</td>\n",
       "    </tr>\n",
       "    <tr>\n",
       "      <th>...</th>\n",
       "      <td>...</td>\n",
       "      <td>...</td>\n",
       "      <td>...</td>\n",
       "      <td>...</td>\n",
       "      <td>...</td>\n",
       "      <td>...</td>\n",
       "      <td>...</td>\n",
       "      <td>...</td>\n",
       "      <td>...</td>\n",
       "      <td>...</td>\n",
       "      <td>...</td>\n",
       "      <td>...</td>\n",
       "      <td>...</td>\n",
       "      <td>...</td>\n",
       "      <td>...</td>\n",
       "      <td>...</td>\n",
       "      <td>...</td>\n",
       "      <td>...</td>\n",
       "      <td>...</td>\n",
       "      <td>...</td>\n",
       "      <td>...</td>\n",
       "    </tr>\n",
       "    <tr>\n",
       "      <th>89139</th>\n",
       "      <td>13995</td>\n",
       "      <td>2013.0</td>\n",
       "      <td>6.0</td>\n",
       "      <td>86758.0</td>\n",
       "      <td>0</td>\n",
       "      <td>0</td>\n",
       "      <td>0</td>\n",
       "      <td>0</td>\n",
       "      <td>1</td>\n",
       "      <td>0</td>\n",
       "      <td>...</td>\n",
       "      <td>0</td>\n",
       "      <td>0</td>\n",
       "      <td>1</td>\n",
       "      <td>0</td>\n",
       "      <td>0</td>\n",
       "      <td>1</td>\n",
       "      <td>0</td>\n",
       "      <td>0</td>\n",
       "      <td>0</td>\n",
       "      <td>0</td>\n",
       "    </tr>\n",
       "    <tr>\n",
       "      <th>303840</th>\n",
       "      <td>1795</td>\n",
       "      <td>2005.0</td>\n",
       "      <td>6.0</td>\n",
       "      <td>233000.0</td>\n",
       "      <td>0</td>\n",
       "      <td>0</td>\n",
       "      <td>0</td>\n",
       "      <td>0</td>\n",
       "      <td>0</td>\n",
       "      <td>0</td>\n",
       "      <td>...</td>\n",
       "      <td>0</td>\n",
       "      <td>0</td>\n",
       "      <td>0</td>\n",
       "      <td>1</td>\n",
       "      <td>0</td>\n",
       "      <td>1</td>\n",
       "      <td>0</td>\n",
       "      <td>0</td>\n",
       "      <td>0</td>\n",
       "      <td>0</td>\n",
       "    </tr>\n",
       "    <tr>\n",
       "      <th>163254</th>\n",
       "      <td>2800</td>\n",
       "      <td>2003.0</td>\n",
       "      <td>4.0</td>\n",
       "      <td>186169.0</td>\n",
       "      <td>0</td>\n",
       "      <td>0</td>\n",
       "      <td>0</td>\n",
       "      <td>0</td>\n",
       "      <td>0</td>\n",
       "      <td>0</td>\n",
       "      <td>...</td>\n",
       "      <td>0</td>\n",
       "      <td>0</td>\n",
       "      <td>0</td>\n",
       "      <td>1</td>\n",
       "      <td>0</td>\n",
       "      <td>1</td>\n",
       "      <td>0</td>\n",
       "      <td>0</td>\n",
       "      <td>0</td>\n",
       "      <td>0</td>\n",
       "    </tr>\n",
       "    <tr>\n",
       "      <th>325147</th>\n",
       "      <td>25995</td>\n",
       "      <td>2016.0</td>\n",
       "      <td>6.0</td>\n",
       "      <td>116392.0</td>\n",
       "      <td>0</td>\n",
       "      <td>0</td>\n",
       "      <td>0</td>\n",
       "      <td>0</td>\n",
       "      <td>0</td>\n",
       "      <td>0</td>\n",
       "      <td>...</td>\n",
       "      <td>0</td>\n",
       "      <td>0</td>\n",
       "      <td>1</td>\n",
       "      <td>0</td>\n",
       "      <td>0</td>\n",
       "      <td>1</td>\n",
       "      <td>0</td>\n",
       "      <td>0</td>\n",
       "      <td>0</td>\n",
       "      <td>0</td>\n",
       "    </tr>\n",
       "    <tr>\n",
       "      <th>183327</th>\n",
       "      <td>2700</td>\n",
       "      <td>2011.0</td>\n",
       "      <td>4.0</td>\n",
       "      <td>160553.0</td>\n",
       "      <td>0</td>\n",
       "      <td>0</td>\n",
       "      <td>0</td>\n",
       "      <td>0</td>\n",
       "      <td>0</td>\n",
       "      <td>0</td>\n",
       "      <td>...</td>\n",
       "      <td>0</td>\n",
       "      <td>0</td>\n",
       "      <td>0</td>\n",
       "      <td>1</td>\n",
       "      <td>0</td>\n",
       "      <td>1</td>\n",
       "      <td>0</td>\n",
       "      <td>0</td>\n",
       "      <td>0</td>\n",
       "      <td>0</td>\n",
       "    </tr>\n",
       "  </tbody>\n",
       "</table>\n",
       "<p>121429 rows × 78 columns</p>\n",
       "</div>"
      ],
      "text/plain": [
       "        price    year  cylinders  odometer  manufacturer_acura  \\\n",
       "126407  19491  2013.0        6.0   79893.0                   0   \n",
       "232571   7995  2007.0        4.0  121841.0                   1   \n",
       "36714    9995  2011.0        4.0  131690.0                   0   \n",
       "327134  37995  2018.0        6.0   50290.0                   0   \n",
       "173655   9797  2010.0        6.0   85078.0                   0   \n",
       "...       ...     ...        ...       ...                 ...   \n",
       "89139   13995  2013.0        6.0   86758.0                   0   \n",
       "303840   1795  2005.0        6.0  233000.0                   0   \n",
       "163254   2800  2003.0        4.0  186169.0                   0   \n",
       "325147  25995  2016.0        6.0  116392.0                   0   \n",
       "183327   2700  2011.0        4.0  160553.0                   0   \n",
       "\n",
       "        manufacturer_alfa-romeo  manufacturer_aston-martin  manufacturer_audi  \\\n",
       "126407                        0                          0                  0   \n",
       "232571                        0                          0                  0   \n",
       "36714                         0                          0                  0   \n",
       "327134                        0                          0                  0   \n",
       "173655                        0                          0                  0   \n",
       "...                         ...                        ...                ...   \n",
       "89139                         0                          0                  0   \n",
       "303840                        0                          0                  0   \n",
       "163254                        0                          0                  0   \n",
       "325147                        0                          0                  0   \n",
       "183327                        0                          0                  0   \n",
       "\n",
       "        manufacturer_bmw  manufacturer_buick  ...  type_van  type_wagon  \\\n",
       "126407                 0                   0  ...         0           0   \n",
       "232571                 0                   0  ...         0           0   \n",
       "36714                  0                   0  ...         0           1   \n",
       "327134                 0                   0  ...         0           0   \n",
       "173655                 0                   0  ...         1           0   \n",
       "...                  ...                 ...  ...       ...         ...   \n",
       "89139                  1                   0  ...         0           0   \n",
       "303840                 0                   0  ...         0           0   \n",
       "163254                 0                   0  ...         0           0   \n",
       "325147                 0                   0  ...         0           0   \n",
       "183327                 0                   0  ...         0           0   \n",
       "\n",
       "        drive_4wd  drive_fwd  drive_rwd  title_status_clean  \\\n",
       "126407          0          1          0                   1   \n",
       "232571          1          0          0                   1   \n",
       "36714           1          0          0                   1   \n",
       "327134          1          0          0                   1   \n",
       "173655          0          1          0                   1   \n",
       "...           ...        ...        ...                 ...   \n",
       "89139           1          0          0                   1   \n",
       "303840          0          1          0                   1   \n",
       "163254          0          1          0                   1   \n",
       "325147          1          0          0                   1   \n",
       "183327          0          1          0                   1   \n",
       "\n",
       "        title_status_lien  title_status_missing  title_status_rebuilt  \\\n",
       "126407                  0                     0                     0   \n",
       "232571                  0                     0                     0   \n",
       "36714                   0                     0                     0   \n",
       "327134                  0                     0                     0   \n",
       "173655                  0                     0                     0   \n",
       "...                   ...                   ...                   ...   \n",
       "89139                   0                     0                     0   \n",
       "303840                  0                     0                     0   \n",
       "163254                  0                     0                     0   \n",
       "325147                  0                     0                     0   \n",
       "183327                  0                     0                     0   \n",
       "\n",
       "        title_status_salvage  \n",
       "126407                     0  \n",
       "232571                     0  \n",
       "36714                      0  \n",
       "327134                     0  \n",
       "173655                     0  \n",
       "...                      ...  \n",
       "89139                      0  \n",
       "303840                     0  \n",
       "163254                     0  \n",
       "325147                     0  \n",
       "183327                     0  \n",
       "\n",
       "[121429 rows x 78 columns]"
      ]
     },
     "execution_count": 62,
     "metadata": {},
     "output_type": "execute_result"
    }
   ],
   "source": [
    "df_train"
   ]
  },
  {
   "cell_type": "code",
   "execution_count": 63,
   "id": "849374dd",
   "metadata": {},
   "outputs": [
    {
     "data": {
      "text/plain": [
       "0    121419\n",
       "1        10\n",
       "Name: manufacturer_aston-martin, dtype: int64"
      ]
     },
     "execution_count": 63,
     "metadata": {},
     "output_type": "execute_result"
    }
   ],
   "source": [
    "df_train[\"manufacturer_aston-martin\"].value_counts()"
   ]
  },
  {
   "cell_type": "code",
   "execution_count": 64,
   "id": "86d8372b",
   "metadata": {},
   "outputs": [
    {
     "data": {
      "text/plain": [
       "0    121428\n",
       "1         1\n",
       "Name: manufacturer_morgan, dtype: int64"
      ]
     },
     "execution_count": 64,
     "metadata": {},
     "output_type": "execute_result"
    }
   ],
   "source": [
    "df_train[\"manufacturer_morgan\"].value_counts()"
   ]
  },
  {
   "cell_type": "code",
   "execution_count": 65,
   "id": "a71de621",
   "metadata": {},
   "outputs": [],
   "source": [
    "df_train=df_train.drop(columns= [\"manufacturer_aston-martin\",\"manufacturer_morgan\"])"
   ]
  },
  {
   "cell_type": "code",
   "execution_count": 66,
   "id": "a7263282",
   "metadata": {},
   "outputs": [
    {
     "data": {
      "text/plain": [
       "(121429, 76)"
      ]
     },
     "execution_count": 66,
     "metadata": {},
     "output_type": "execute_result"
    }
   ],
   "source": [
    "df_train.shape"
   ]
  },
  {
   "cell_type": "markdown",
   "id": "55ce28ff",
   "metadata": {},
   "source": [
    "# clean val set"
   ]
  },
  {
   "cell_type": "code",
   "execution_count": 67,
   "id": "e3fd7e7c",
   "metadata": {},
   "outputs": [],
   "source": [
    "df_val=df_val.drop(columns= ['id','url', 'region', 'region_url', 'VIN', 'image_url', 'description', \\\n",
    "    'county', 'size', 'paint_color', 'state', 'lat','long',\"posting_date\",\"model\"])"
   ]
  },
  {
   "cell_type": "code",
   "execution_count": 68,
   "id": "08bb3e4a",
   "metadata": {},
   "outputs": [],
   "source": [
    "cylinder_val_dict = {\n",
    "    '8 cylinders': 8,\n",
    "    '6 cylinders': 6,\n",
    "    '4 cylinders': 4,\n",
    "    '5 cylinders': 5,\n",
    "    '3 cylinders': 3,\n",
    "    '10 cylinders': 10,\n",
    "    '12 cylinders': 12\n",
    "}"
   ]
  },
  {
   "cell_type": "code",
   "execution_count": 69,
   "id": "0e642142",
   "metadata": {},
   "outputs": [],
   "source": [
    "df_val['cylinders'] = df.cylinders.map(cylinder_val_dict)"
   ]
  },
  {
   "cell_type": "code",
   "execution_count": 70,
   "id": "4be97061",
   "metadata": {},
   "outputs": [],
   "source": [
    "df_val['cylinders'].fillna(6, inplace=True)"
   ]
  },
  {
   "cell_type": "code",
   "execution_count": 71,
   "id": "1e6bf888",
   "metadata": {},
   "outputs": [],
   "source": [
    "df_val['condition'].fillna('good', inplace=True)"
   ]
  },
  {
   "cell_type": "code",
   "execution_count": 72,
   "id": "95386f23",
   "metadata": {},
   "outputs": [],
   "source": [
    "df_val['drive'].fillna('4wd', inplace=True)"
   ]
  },
  {
   "cell_type": "code",
   "execution_count": 73,
   "id": "781a7340",
   "metadata": {},
   "outputs": [],
   "source": [
    "df_val=df_val.dropna(how=\"any\")"
   ]
  },
  {
   "cell_type": "code",
   "execution_count": 75,
   "id": "42e52c7a",
   "metadata": {},
   "outputs": [
    {
     "data": {
      "text/plain": [
       "(23532, 11)"
      ]
     },
     "execution_count": 75,
     "metadata": {},
     "output_type": "execute_result"
    }
   ],
   "source": [
    "df_val.shape"
   ]
  },
  {
   "cell_type": "code",
   "execution_count": 76,
   "id": "df28f8b5",
   "metadata": {},
   "outputs": [],
   "source": [
    "df_val=df_val[(df_val.price >0)]"
   ]
  },
  {
   "cell_type": "code",
   "execution_count": 77,
   "id": "22d58a26",
   "metadata": {},
   "outputs": [],
   "source": [
    "df_val=df_val[(df_val.fuel != 'other')]"
   ]
  },
  {
   "cell_type": "code",
   "execution_count": 78,
   "id": "8f9ce02c",
   "metadata": {},
   "outputs": [],
   "source": [
    "df_val= df_val[df_val.condition != 'new']"
   ]
  },
  {
   "cell_type": "code",
   "execution_count": 79,
   "id": "077f52c6",
   "metadata": {},
   "outputs": [],
   "source": [
    "df_val= df_val[df_val.title_status != 'parts only']"
   ]
  },
  {
   "cell_type": "code",
   "execution_count": 80,
   "id": "3a4d69e0",
   "metadata": {},
   "outputs": [],
   "source": [
    "df_val=df_val[(df_val.transmission != 'other')]"
   ]
  },
  {
   "cell_type": "code",
   "execution_count": 81,
   "id": "1c714f97",
   "metadata": {},
   "outputs": [
    {
     "data": {
      "text/plain": [
       "(18146, 11)"
      ]
     },
     "execution_count": 81,
     "metadata": {},
     "output_type": "execute_result"
    }
   ],
   "source": [
    "df_val.shape"
   ]
  },
  {
   "cell_type": "markdown",
   "id": "dd3d06eb",
   "metadata": {},
   "source": [
    "# Encode val set"
   ]
  },
  {
   "cell_type": "code",
   "execution_count": 82,
   "id": "9caad01e",
   "metadata": {},
   "outputs": [
    {
     "data": {
      "text/html": [
       "<div>\n",
       "<style scoped>\n",
       "    .dataframe tbody tr th:only-of-type {\n",
       "        vertical-align: middle;\n",
       "    }\n",
       "\n",
       "    .dataframe tbody tr th {\n",
       "        vertical-align: top;\n",
       "    }\n",
       "\n",
       "    .dataframe thead th {\n",
       "        text-align: right;\n",
       "    }\n",
       "</style>\n",
       "<table border=\"1\" class=\"dataframe\">\n",
       "  <thead>\n",
       "    <tr style=\"text-align: right;\">\n",
       "      <th></th>\n",
       "      <th>price</th>\n",
       "      <th>year</th>\n",
       "      <th>cylinders</th>\n",
       "      <th>odometer</th>\n",
       "    </tr>\n",
       "  </thead>\n",
       "  <tbody>\n",
       "    <tr>\n",
       "      <th>294100</th>\n",
       "      <td>9395</td>\n",
       "      <td>2010.0</td>\n",
       "      <td>6.0</td>\n",
       "      <td>155953.0</td>\n",
       "    </tr>\n",
       "    <tr>\n",
       "      <th>425673</th>\n",
       "      <td>19700</td>\n",
       "      <td>1953.0</td>\n",
       "      <td>6.0</td>\n",
       "      <td>41222.0</td>\n",
       "    </tr>\n",
       "    <tr>\n",
       "      <th>399672</th>\n",
       "      <td>12995</td>\n",
       "      <td>2018.0</td>\n",
       "      <td>6.0</td>\n",
       "      <td>90998.0</td>\n",
       "    </tr>\n",
       "    <tr>\n",
       "      <th>291374</th>\n",
       "      <td>11795</td>\n",
       "      <td>2014.0</td>\n",
       "      <td>6.0</td>\n",
       "      <td>40812.0</td>\n",
       "    </tr>\n",
       "    <tr>\n",
       "      <th>48306</th>\n",
       "      <td>23990</td>\n",
       "      <td>2016.0</td>\n",
       "      <td>6.0</td>\n",
       "      <td>57638.0</td>\n",
       "    </tr>\n",
       "    <tr>\n",
       "      <th>...</th>\n",
       "      <td>...</td>\n",
       "      <td>...</td>\n",
       "      <td>...</td>\n",
       "      <td>...</td>\n",
       "    </tr>\n",
       "    <tr>\n",
       "      <th>142228</th>\n",
       "      <td>3900</td>\n",
       "      <td>2013.0</td>\n",
       "      <td>6.0</td>\n",
       "      <td>1.0</td>\n",
       "    </tr>\n",
       "    <tr>\n",
       "      <th>98954</th>\n",
       "      <td>11900</td>\n",
       "      <td>2013.0</td>\n",
       "      <td>8.0</td>\n",
       "      <td>72000.0</td>\n",
       "    </tr>\n",
       "    <tr>\n",
       "      <th>365227</th>\n",
       "      <td>8500</td>\n",
       "      <td>2010.0</td>\n",
       "      <td>4.0</td>\n",
       "      <td>135433.0</td>\n",
       "    </tr>\n",
       "    <tr>\n",
       "      <th>326738</th>\n",
       "      <td>159</td>\n",
       "      <td>2016.0</td>\n",
       "      <td>4.0</td>\n",
       "      <td>126808.0</td>\n",
       "    </tr>\n",
       "    <tr>\n",
       "      <th>23103</th>\n",
       "      <td>2900</td>\n",
       "      <td>1999.0</td>\n",
       "      <td>4.0</td>\n",
       "      <td>209000.0</td>\n",
       "    </tr>\n",
       "  </tbody>\n",
       "</table>\n",
       "<p>18146 rows × 4 columns</p>\n",
       "</div>"
      ],
      "text/plain": [
       "        price    year  cylinders  odometer\n",
       "294100   9395  2010.0        6.0  155953.0\n",
       "425673  19700  1953.0        6.0   41222.0\n",
       "399672  12995  2018.0        6.0   90998.0\n",
       "291374  11795  2014.0        6.0   40812.0\n",
       "48306   23990  2016.0        6.0   57638.0\n",
       "...       ...     ...        ...       ...\n",
       "142228   3900  2013.0        6.0       1.0\n",
       "98954   11900  2013.0        8.0   72000.0\n",
       "365227   8500  2010.0        4.0  135433.0\n",
       "326738    159  2016.0        4.0  126808.0\n",
       "23103    2900  1999.0        4.0  209000.0\n",
       "\n",
       "[18146 rows x 4 columns]"
      ]
     },
     "execution_count": 82,
     "metadata": {},
     "output_type": "execute_result"
    }
   ],
   "source": [
    "df_val.select_dtypes(exclude=['object'])"
   ]
  },
  {
   "cell_type": "code",
   "execution_count": 83,
   "id": "680d1579",
   "metadata": {},
   "outputs": [],
   "source": [
    "df_val=pd.get_dummies(df_val, columns=[\"manufacturer\"])"
   ]
  },
  {
   "cell_type": "code",
   "execution_count": 84,
   "id": "e064c1bd",
   "metadata": {},
   "outputs": [],
   "source": [
    "df_val=pd.get_dummies(df_val, columns=[\"condition\"])"
   ]
  },
  {
   "cell_type": "code",
   "execution_count": 85,
   "id": "79034445",
   "metadata": {},
   "outputs": [],
   "source": [
    "df_val=pd.get_dummies(df_val, columns=[\"fuel\"])"
   ]
  },
  {
   "cell_type": "code",
   "execution_count": 86,
   "id": "c45520f5",
   "metadata": {},
   "outputs": [],
   "source": [
    "df_val=pd.get_dummies(df_val, columns=[\"title_status\"])"
   ]
  },
  {
   "cell_type": "code",
   "execution_count": 87,
   "id": "a7853a7a",
   "metadata": {},
   "outputs": [],
   "source": [
    "df_val=pd.get_dummies(df_val, columns=[\"type\"])"
   ]
  },
  {
   "cell_type": "code",
   "execution_count": 88,
   "id": "f9323830",
   "metadata": {},
   "outputs": [],
   "source": [
    "df_val=pd.get_dummies(df_val, columns=[\"transmission\"])\n"
   ]
  },
  {
   "cell_type": "code",
   "execution_count": 89,
   "id": "0785a6f7",
   "metadata": {},
   "outputs": [],
   "source": [
    "df_val=pd.get_dummies(df_val, columns=[\"drive\"])"
   ]
  },
  {
   "cell_type": "code",
   "execution_count": 90,
   "id": "e0390ebc",
   "metadata": {},
   "outputs": [
    {
     "data": {
      "text/plain": [
       "(18146, 76)"
      ]
     },
     "execution_count": 90,
     "metadata": {},
     "output_type": "execute_result"
    }
   ],
   "source": [
    "df_val.shape"
   ]
  },
  {
   "cell_type": "code",
   "execution_count": 91,
   "id": "4a8f4d4c",
   "metadata": {},
   "outputs": [
    {
     "data": {
      "text/plain": [
       "Index(['price', 'year', 'cylinders', 'odometer', 'manufacturer_acura',\n",
       "       'manufacturer_alfa-romeo', 'manufacturer_audi', 'manufacturer_bmw',\n",
       "       'manufacturer_buick', 'manufacturer_cadillac', 'manufacturer_chevrolet',\n",
       "       'manufacturer_chrysler', 'manufacturer_datsun', 'manufacturer_dodge',\n",
       "       'manufacturer_ferrari', 'manufacturer_fiat', 'manufacturer_ford',\n",
       "       'manufacturer_gmc', 'manufacturer_harley-davidson',\n",
       "       'manufacturer_honda', 'manufacturer_hyundai', 'manufacturer_infiniti',\n",
       "       'manufacturer_jaguar', 'manufacturer_jeep', 'manufacturer_kia',\n",
       "       'manufacturer_land rover', 'manufacturer_lexus', 'manufacturer_lincoln',\n",
       "       'manufacturer_mazda', 'manufacturer_mercedes-benz',\n",
       "       'manufacturer_mercury', 'manufacturer_mini', 'manufacturer_mitsubishi',\n",
       "       'manufacturer_nissan', 'manufacturer_pontiac', 'manufacturer_porsche',\n",
       "       'manufacturer_ram', 'manufacturer_rover', 'manufacturer_saturn',\n",
       "       'manufacturer_subaru', 'manufacturer_tesla', 'manufacturer_toyota',\n",
       "       'manufacturer_volkswagen', 'manufacturer_volvo', 'condition_excellent',\n",
       "       'condition_fair', 'condition_good', 'condition_like new',\n",
       "       'condition_salvage', 'fuel_diesel', 'fuel_electric', 'fuel_gas',\n",
       "       'fuel_hybrid', 'transmission_automatic', 'transmission_manual',\n",
       "       'type_SUV', 'type_bus', 'type_convertible', 'type_coupe',\n",
       "       'type_hatchback', 'type_mini-van', 'type_offroad', 'type_other',\n",
       "       'type_pickup', 'type_sedan', 'type_truck', 'type_van', 'type_wagon',\n",
       "       'drive_4wd', 'drive_fwd', 'drive_rwd', 'title_status_clean',\n",
       "       'title_status_lien', 'title_status_missing', 'title_status_rebuilt',\n",
       "       'title_status_salvage'],\n",
       "      dtype='object')"
      ]
     },
     "execution_count": 91,
     "metadata": {},
     "output_type": "execute_result"
    }
   ],
   "source": [
    "df_train.columns"
   ]
  },
  {
   "cell_type": "code",
   "execution_count": 92,
   "id": "e5df435a",
   "metadata": {},
   "outputs": [
    {
     "data": {
      "text/plain": [
       "Index(['price', 'year', 'cylinders', 'odometer', 'manufacturer_acura',\n",
       "       'manufacturer_alfa-romeo', 'manufacturer_audi', 'manufacturer_bmw',\n",
       "       'manufacturer_buick', 'manufacturer_cadillac', 'manufacturer_chevrolet',\n",
       "       'manufacturer_chrysler', 'manufacturer_datsun', 'manufacturer_dodge',\n",
       "       'manufacturer_ferrari', 'manufacturer_fiat', 'manufacturer_ford',\n",
       "       'manufacturer_gmc', 'manufacturer_harley-davidson',\n",
       "       'manufacturer_honda', 'manufacturer_hyundai', 'manufacturer_infiniti',\n",
       "       'manufacturer_jaguar', 'manufacturer_jeep', 'manufacturer_kia',\n",
       "       'manufacturer_land rover', 'manufacturer_lexus', 'manufacturer_lincoln',\n",
       "       'manufacturer_mazda', 'manufacturer_mercedes-benz',\n",
       "       'manufacturer_mercury', 'manufacturer_mini', 'manufacturer_mitsubishi',\n",
       "       'manufacturer_nissan', 'manufacturer_pontiac', 'manufacturer_porsche',\n",
       "       'manufacturer_ram', 'manufacturer_rover', 'manufacturer_saturn',\n",
       "       'manufacturer_subaru', 'manufacturer_tesla', 'manufacturer_toyota',\n",
       "       'manufacturer_volkswagen', 'manufacturer_volvo', 'condition_excellent',\n",
       "       'condition_fair', 'condition_good', 'condition_like new',\n",
       "       'condition_salvage', 'fuel_diesel', 'fuel_electric', 'fuel_gas',\n",
       "       'fuel_hybrid', 'title_status_clean', 'title_status_lien',\n",
       "       'title_status_missing', 'title_status_rebuilt', 'title_status_salvage',\n",
       "       'type_SUV', 'type_bus', 'type_convertible', 'type_coupe',\n",
       "       'type_hatchback', 'type_mini-van', 'type_offroad', 'type_other',\n",
       "       'type_pickup', 'type_sedan', 'type_truck', 'type_van', 'type_wagon',\n",
       "       'transmission_automatic', 'transmission_manual', 'drive_4wd',\n",
       "       'drive_fwd', 'drive_rwd'],\n",
       "      dtype='object')"
      ]
     },
     "execution_count": 92,
     "metadata": {},
     "output_type": "execute_result"
    }
   ],
   "source": [
    "df_val.columns"
   ]
  },
  {
   "cell_type": "markdown",
   "id": "fcf6b8c7",
   "metadata": {},
   "source": [
    "# LinearRegression Model\n"
   ]
  },
  {
   "cell_type": "markdown",
   "id": "ed9c7feb",
   "metadata": {},
   "source": [
    "model 1 "
   ]
  },
  {
   "cell_type": "code",
   "execution_count": 93,
   "id": "da0cda63",
   "metadata": {},
   "outputs": [
    {
     "data": {
      "text/plain": [
       "Index(['price', 'year', 'cylinders', 'odometer', 'manufacturer_acura',\n",
       "       'manufacturer_alfa-romeo', 'manufacturer_audi', 'manufacturer_bmw',\n",
       "       'manufacturer_buick', 'manufacturer_cadillac', 'manufacturer_chevrolet',\n",
       "       'manufacturer_chrysler', 'manufacturer_datsun', 'manufacturer_dodge',\n",
       "       'manufacturer_ferrari', 'manufacturer_fiat', 'manufacturer_ford',\n",
       "       'manufacturer_gmc', 'manufacturer_harley-davidson',\n",
       "       'manufacturer_honda', 'manufacturer_hyundai', 'manufacturer_infiniti',\n",
       "       'manufacturer_jaguar', 'manufacturer_jeep', 'manufacturer_kia',\n",
       "       'manufacturer_land rover', 'manufacturer_lexus', 'manufacturer_lincoln',\n",
       "       'manufacturer_mazda', 'manufacturer_mercedes-benz',\n",
       "       'manufacturer_mercury', 'manufacturer_mini', 'manufacturer_mitsubishi',\n",
       "       'manufacturer_nissan', 'manufacturer_pontiac', 'manufacturer_porsche',\n",
       "       'manufacturer_ram', 'manufacturer_rover', 'manufacturer_saturn',\n",
       "       'manufacturer_subaru', 'manufacturer_tesla', 'manufacturer_toyota',\n",
       "       'manufacturer_volkswagen', 'manufacturer_volvo', 'condition_excellent',\n",
       "       'condition_fair', 'condition_good', 'condition_like new',\n",
       "       'condition_salvage', 'fuel_diesel', 'fuel_electric', 'fuel_gas',\n",
       "       'fuel_hybrid', 'transmission_automatic', 'transmission_manual',\n",
       "       'type_SUV', 'type_bus', 'type_convertible', 'type_coupe',\n",
       "       'type_hatchback', 'type_mini-van', 'type_offroad', 'type_other',\n",
       "       'type_pickup', 'type_sedan', 'type_truck', 'type_van', 'type_wagon',\n",
       "       'drive_4wd', 'drive_fwd', 'drive_rwd', 'title_status_clean',\n",
       "       'title_status_lien', 'title_status_missing', 'title_status_rebuilt',\n",
       "       'title_status_salvage'],\n",
       "      dtype='object')"
      ]
     },
     "execution_count": 93,
     "metadata": {},
     "output_type": "execute_result"
    }
   ],
   "source": [
    "df_train.columns"
   ]
  },
  {
   "cell_type": "code",
   "execution_count": 94,
   "id": "2c5f3cd2",
   "metadata": {},
   "outputs": [],
   "source": [
    "X_train = df_train.loc[:,['year','odometer']]\n",
    "\n",
    "y_train = df_train['price']"
   ]
  },
  {
   "cell_type": "code",
   "execution_count": 95,
   "id": "a572b97e",
   "metadata": {},
   "outputs": [],
   "source": [
    "x_val = df_val.loc[:,['year','odometer']]\n",
    "\n",
    "y_val = df_val['price']"
   ]
  },
  {
   "cell_type": "code",
   "execution_count": 96,
   "id": "01109089",
   "metadata": {},
   "outputs": [],
   "source": [
    "lm=LinearRegression()"
   ]
  },
  {
   "cell_type": "code",
   "execution_count": 97,
   "id": "d5c80494",
   "metadata": {},
   "outputs": [
    {
     "data": {
      "text/plain": [
       "LinearRegression()"
      ]
     },
     "execution_count": 97,
     "metadata": {},
     "output_type": "execute_result"
    }
   ],
   "source": [
    "lm.fit(X_train, y_train)"
   ]
  },
  {
   "cell_type": "code",
   "execution_count": 182,
   "id": "a9853c48",
   "metadata": {},
   "outputs": [
    {
     "data": {
      "text/plain": [
       "7.556471826430933e-05"
      ]
     },
     "execution_count": 182,
     "metadata": {},
     "output_type": "execute_result"
    }
   ],
   "source": [
    "lm.score(X_train, y_train)"
   ]
  },
  {
   "cell_type": "code",
   "execution_count": 99,
   "id": "b60d5ad9",
   "metadata": {},
   "outputs": [
    {
     "data": {
      "text/plain": [
       "-20.725774790234592"
      ]
     },
     "execution_count": 99,
     "metadata": {},
     "output_type": "execute_result"
    }
   ],
   "source": [
    "lm.score(x_val, y_val) "
   ]
  },
  {
   "cell_type": "markdown",
   "id": "8c29c847",
   "metadata": {},
   "source": [
    "model 2"
   ]
  },
  {
   "cell_type": "code",
   "execution_count": 140,
   "id": "b5a4eb27",
   "metadata": {},
   "outputs": [],
   "source": [
    "lm=LinearRegression()"
   ]
  },
  {
   "cell_type": "code",
   "execution_count": 141,
   "id": "7d00006f",
   "metadata": {},
   "outputs": [],
   "source": [
    "X_train = df_train.loc[:,[\"cylinders\"]]\n",
    "y_train = df_train['price']"
   ]
  },
  {
   "cell_type": "code",
   "execution_count": 142,
   "id": "c15e7004",
   "metadata": {},
   "outputs": [],
   "source": [
    "x_val = df_val.loc[:,[\"cylinders\"]]\n",
    "\n",
    "y_val = df_val['price']"
   ]
  },
  {
   "cell_type": "code",
   "execution_count": 143,
   "id": "0b64bb8f",
   "metadata": {},
   "outputs": [
    {
     "data": {
      "text/plain": [
       "LinearRegression()"
      ]
     },
     "execution_count": 143,
     "metadata": {},
     "output_type": "execute_result"
    }
   ],
   "source": [
    "lm.fit(X_train, y_train)"
   ]
  },
  {
   "cell_type": "code",
   "execution_count": 144,
   "id": "398a98e1",
   "metadata": {},
   "outputs": [
    {
     "data": {
      "text/plain": [
       "3.1820941765570154e-05"
      ]
     },
     "execution_count": 144,
     "metadata": {},
     "output_type": "execute_result"
    }
   ],
   "source": [
    "lm.score(X_train, y_train)"
   ]
  },
  {
   "cell_type": "code",
   "execution_count": 145,
   "id": "429e0a1e",
   "metadata": {},
   "outputs": [
    {
     "data": {
      "text/plain": [
       "-31.891734460992822"
      ]
     },
     "execution_count": 145,
     "metadata": {},
     "output_type": "execute_result"
    }
   ],
   "source": [
    "lm.score(x_val, y_val) "
   ]
  },
  {
   "cell_type": "code",
   "execution_count": 146,
   "id": "9219bcb7",
   "metadata": {},
   "outputs": [],
   "source": [
    "lm=LinearRegression()"
   ]
  },
  {
   "cell_type": "code",
   "execution_count": 147,
   "id": "bc8a01fd",
   "metadata": {},
   "outputs": [],
   "source": [
    "X_train = df_train.loc[:,[\"odometer\"]]\n",
    "y_train = df_train['price']"
   ]
  },
  {
   "cell_type": "code",
   "execution_count": 148,
   "id": "2e23ad49",
   "metadata": {},
   "outputs": [
    {
     "data": {
      "text/plain": [
       "LinearRegression()"
      ]
     },
     "execution_count": 148,
     "metadata": {},
     "output_type": "execute_result"
    }
   ],
   "source": [
    "lm.fit(X_train, y_train)"
   ]
  },
  {
   "cell_type": "code",
   "execution_count": 149,
   "id": "a3120d05",
   "metadata": {},
   "outputs": [
    {
     "data": {
      "text/plain": [
       "4.647321473205679e-07"
      ]
     },
     "execution_count": 149,
     "metadata": {},
     "output_type": "execute_result"
    }
   ],
   "source": [
    "lm.score(X_train, y_train)"
   ]
  },
  {
   "cell_type": "code",
   "execution_count": 150,
   "id": "2f29cf5f",
   "metadata": {},
   "outputs": [],
   "source": [
    "lm=LinearRegression()"
   ]
  },
  {
   "cell_type": "code",
   "execution_count": 151,
   "id": "539798c8",
   "metadata": {},
   "outputs": [],
   "source": [
    "X_train = df_train.loc[:,['manufacturer_acura',\n",
    "       'manufacturer_alfa-romeo', 'manufacturer_audi', 'manufacturer_bmw',\n",
    "       'manufacturer_buick', 'manufacturer_cadillac', 'manufacturer_chevrolet',\n",
    "       'manufacturer_chrysler', 'manufacturer_datsun', 'manufacturer_dodge',\n",
    "       'manufacturer_ferrari', 'manufacturer_fiat', 'manufacturer_ford',\n",
    "       'manufacturer_gmc', 'manufacturer_harley-davidson',\n",
    "       'manufacturer_honda', 'manufacturer_hyundai', 'manufacturer_infiniti',\n",
    "       'manufacturer_jaguar', 'manufacturer_jeep', 'manufacturer_kia',\n",
    "       'manufacturer_land rover', 'manufacturer_lexus', 'manufacturer_lincoln',\n",
    "       'manufacturer_mazda', 'manufacturer_mercedes-benz',\n",
    "       'manufacturer_mercury', 'manufacturer_mini', 'manufacturer_mitsubishi',\n",
    "       'manufacturer_nissan', 'manufacturer_pontiac', 'manufacturer_porsche',\n",
    "       'manufacturer_ram', 'manufacturer_rover', 'manufacturer_saturn',\n",
    "       'manufacturer_subaru', 'manufacturer_tesla', 'manufacturer_toyota',\n",
    "       'manufacturer_volkswagen', 'manufacturer_volvo']]\n",
    "y_train = df_train['price']"
   ]
  },
  {
   "cell_type": "code",
   "execution_count": 152,
   "id": "d8181be2",
   "metadata": {},
   "outputs": [
    {
     "data": {
      "text/plain": [
       "LinearRegression()"
      ]
     },
     "execution_count": 152,
     "metadata": {},
     "output_type": "execute_result"
    }
   ],
   "source": [
    "lm.fit(X_train, y_train)"
   ]
  },
  {
   "cell_type": "code",
   "execution_count": 153,
   "id": "fd464b0f",
   "metadata": {},
   "outputs": [
    {
     "data": {
      "text/plain": [
       "7.533628948896975e-05"
      ]
     },
     "execution_count": 153,
     "metadata": {},
     "output_type": "execute_result"
    }
   ],
   "source": [
    "lm.score(X_train, y_train)"
   ]
  },
  {
   "cell_type": "code",
   "execution_count": 154,
   "id": "21715d27",
   "metadata": {},
   "outputs": [],
   "source": [
    "lm=LinearRegression()"
   ]
  },
  {
   "cell_type": "code",
   "execution_count": 155,
   "id": "6f56a370",
   "metadata": {},
   "outputs": [],
   "source": [
    "X_train = df_train.loc[:,['condition_excellent',\n",
    "       'condition_fair', 'condition_good', 'condition_like new',\n",
    "       'condition_salvage']]\n",
    "y_train = df_train['price']"
   ]
  },
  {
   "cell_type": "code",
   "execution_count": 156,
   "id": "77b5003c",
   "metadata": {},
   "outputs": [
    {
     "data": {
      "text/plain": [
       "LinearRegression()"
      ]
     },
     "execution_count": 156,
     "metadata": {},
     "output_type": "execute_result"
    }
   ],
   "source": [
    "lm.fit(X_train, y_train)"
   ]
  },
  {
   "cell_type": "code",
   "execution_count": 157,
   "id": "7e367c4b",
   "metadata": {},
   "outputs": [
    {
     "data": {
      "text/plain": [
       "4.938207506022252e-06"
      ]
     },
     "execution_count": 157,
     "metadata": {},
     "output_type": "execute_result"
    }
   ],
   "source": [
    "lm.score(X_train, y_train)"
   ]
  },
  {
   "cell_type": "code",
   "execution_count": 158,
   "id": "5c2d7f64",
   "metadata": {},
   "outputs": [],
   "source": [
    "lm=LinearRegression()"
   ]
  },
  {
   "cell_type": "code",
   "execution_count": 159,
   "id": "746d7ded",
   "metadata": {},
   "outputs": [],
   "source": [
    "X_train = df_train.loc[:,['fuel_diesel', 'fuel_electric', 'fuel_gas',\n",
    "       'fuel_hybrid']]\n",
    "y_train = df_train['price']"
   ]
  },
  {
   "cell_type": "code",
   "execution_count": 160,
   "id": "9efb5b82",
   "metadata": {},
   "outputs": [
    {
     "data": {
      "text/plain": [
       "LinearRegression()"
      ]
     },
     "execution_count": 160,
     "metadata": {},
     "output_type": "execute_result"
    }
   ],
   "source": [
    "lm.fit(X_train, y_train)"
   ]
  },
  {
   "cell_type": "code",
   "execution_count": 161,
   "id": "c209403b",
   "metadata": {},
   "outputs": [
    {
     "data": {
      "text/plain": [
       "4.9597391257205636e-05"
      ]
     },
     "execution_count": 161,
     "metadata": {},
     "output_type": "execute_result"
    }
   ],
   "source": [
    "lm.score(X_train, y_train)"
   ]
  },
  {
   "cell_type": "code",
   "execution_count": 162,
   "id": "9b9b1cf3",
   "metadata": {},
   "outputs": [],
   "source": [
    "X_train = df_train.loc[:,['transmission_automatic', 'transmission_manual']]\n",
    "y_train = df_train['price']"
   ]
  },
  {
   "cell_type": "code",
   "execution_count": 163,
   "id": "de592602",
   "metadata": {},
   "outputs": [
    {
     "data": {
      "text/plain": [
       "LinearRegression()"
      ]
     },
     "execution_count": 163,
     "metadata": {},
     "output_type": "execute_result"
    }
   ],
   "source": [
    "lm.fit(X_train, y_train)"
   ]
  },
  {
   "cell_type": "code",
   "execution_count": 164,
   "id": "929911cf",
   "metadata": {},
   "outputs": [
    {
     "data": {
      "text/plain": [
       "5.73571966977493e-06"
      ]
     },
     "execution_count": 164,
     "metadata": {},
     "output_type": "execute_result"
    }
   ],
   "source": [
    "lm.score(X_train, y_train)"
   ]
  },
  {
   "cell_type": "code",
   "execution_count": 165,
   "id": "f8d1a095",
   "metadata": {},
   "outputs": [],
   "source": [
    "lm=LinearRegression()"
   ]
  },
  {
   "cell_type": "code",
   "execution_count": 166,
   "id": "80735c84",
   "metadata": {},
   "outputs": [],
   "source": [
    "X_train = df_train.loc[:,['type_SUV', 'type_bus', 'type_convertible', 'type_coupe',\n",
    "       'type_hatchback', 'type_mini-van', 'type_offroad', 'type_other',\n",
    "       'type_pickup', 'type_sedan', 'type_truck', 'type_van', 'type_wagon']]\n",
    "y_train = df_train['price']"
   ]
  },
  {
   "cell_type": "code",
   "execution_count": 167,
   "id": "440ff250",
   "metadata": {},
   "outputs": [
    {
     "data": {
      "text/plain": [
       "LinearRegression()"
      ]
     },
     "execution_count": 167,
     "metadata": {},
     "output_type": "execute_result"
    }
   ],
   "source": [
    "lm.fit(X_train, y_train)"
   ]
  },
  {
   "cell_type": "code",
   "execution_count": 168,
   "id": "41741611",
   "metadata": {},
   "outputs": [
    {
     "data": {
      "text/plain": [
       "0.00011066499101952676"
      ]
     },
     "execution_count": 168,
     "metadata": {},
     "output_type": "execute_result"
    }
   ],
   "source": [
    "lm.score(X_train, y_train)"
   ]
  },
  {
   "cell_type": "code",
   "execution_count": 169,
   "id": "5334cff6",
   "metadata": {},
   "outputs": [],
   "source": [
    "X_train = df_train.loc[:,['drive_4wd', 'drive_fwd', 'drive_rwd']]\n",
    "y_train = df_train['price']"
   ]
  },
  {
   "cell_type": "code",
   "execution_count": 170,
   "id": "09beedb1",
   "metadata": {},
   "outputs": [
    {
     "data": {
      "text/plain": [
       "LinearRegression()"
      ]
     },
     "execution_count": 170,
     "metadata": {},
     "output_type": "execute_result"
    }
   ],
   "source": [
    "lm.fit(X_train, y_train)"
   ]
  },
  {
   "cell_type": "code",
   "execution_count": 171,
   "id": "0e8a6cd2",
   "metadata": {},
   "outputs": [
    {
     "data": {
      "text/plain": [
       "1.1841358905528843e-05"
      ]
     },
     "execution_count": 171,
     "metadata": {},
     "output_type": "execute_result"
    }
   ],
   "source": [
    "lm.score(X_train, y_train)"
   ]
  },
  {
   "cell_type": "code",
   "execution_count": 172,
   "id": "ad5f0b51",
   "metadata": {},
   "outputs": [],
   "source": [
    "X_train = df_train.loc[:,['title_status_clean',\n",
    "       'title_status_lien', 'title_status_missing', 'title_status_rebuilt',\n",
    "       'title_status_salvage']]\n",
    "y_train = df_train['price']"
   ]
  },
  {
   "cell_type": "code",
   "execution_count": 173,
   "id": "88c6cd51",
   "metadata": {},
   "outputs": [
    {
     "data": {
      "text/plain": [
       "LinearRegression()"
      ]
     },
     "execution_count": 173,
     "metadata": {},
     "output_type": "execute_result"
    }
   ],
   "source": [
    "lm.fit(X_train, y_train)"
   ]
  },
  {
   "cell_type": "code",
   "execution_count": 174,
   "id": "9f19d3cf",
   "metadata": {},
   "outputs": [
    {
     "data": {
      "text/plain": [
       "9.859432343883867e-07"
      ]
     },
     "execution_count": 174,
     "metadata": {},
     "output_type": "execute_result"
    }
   ],
   "source": [
    "lm.score(X_train, y_train)"
   ]
  },
  {
   "cell_type": "code",
   "execution_count": 175,
   "id": "8a1c3c78",
   "metadata": {},
   "outputs": [],
   "source": [
    "X_train = df_train.loc[:,['title_status_clean','transmission_automatic',  'fuel_gas',\n",
    "       'condition_excellent',\"odometer\",\"cylinders\",\"manufacturer_mercedes-benz\"]]\n",
    "y_train = df_train['price']"
   ]
  },
  {
   "cell_type": "code",
   "execution_count": 176,
   "id": "c9e91a48",
   "metadata": {},
   "outputs": [
    {
     "data": {
      "text/plain": [
       "LinearRegression()"
      ]
     },
     "execution_count": 176,
     "metadata": {},
     "output_type": "execute_result"
    }
   ],
   "source": [
    "lm.fit(X_train, y_train)"
   ]
  },
  {
   "cell_type": "code",
   "execution_count": 177,
   "id": "bee08331",
   "metadata": {},
   "outputs": [
    {
     "data": {
      "text/plain": [
       "7.556471826430933e-05"
      ]
     },
     "execution_count": 177,
     "metadata": {},
     "output_type": "execute_result"
    }
   ],
   "source": [
    "lm.score(X_train, y_train)"
   ]
  },
  {
   "cell_type": "code",
   "execution_count": 178,
   "id": "101888ec",
   "metadata": {},
   "outputs": [
    {
     "name": "stdout",
     "output_type": "stream",
     "text": [
      "Degree 2 polynomial regression train R^2: 0.000\n"
     ]
    }
   ],
   "source": [
    "poly = PolynomialFeatures(degree=2) \n",
    "X_train_poly = poly.fit_transform(X_train.values)\n",
    "\n",
    "lm_poly = LinearRegression()\n",
    "lm_poly.fit(X_train_poly, y_train)\n",
    "print(f'Degree 2 polynomial regression train R^2: {lm_poly.score(X_train_poly, y_train):.3f}')"
   ]
  },
  {
   "cell_type": "code",
   "execution_count": 179,
   "id": "846ce72c",
   "metadata": {},
   "outputs": [
    {
     "data": {
      "text/plain": [
       "Ridge()"
      ]
     },
     "execution_count": 179,
     "metadata": {},
     "output_type": "execute_result"
    }
   ],
   "source": [
    "## Ridge model\n",
    "ridge =Ridge(alpha=1.0)\n",
    "\n",
    "ridge.fit(X_train,y_train)"
   ]
  },
  {
   "cell_type": "code",
   "execution_count": 180,
   "id": "44986534",
   "metadata": {},
   "outputs": [
    {
     "name": "stdout",
     "output_type": "stream",
     "text": [
      "Accuracy for ridge model is 7.556471757597105e-05\n"
     ]
    }
   ],
   "source": [
    "score = ridge.score(X_train,y_train)\n",
    "print(f'Accuracy for ridge model is {score}')"
   ]
  }
 ],
 "metadata": {
  "kernelspec": {
   "display_name": "Python 3",
   "language": "python",
   "name": "python3"
  },
  "language_info": {
   "codemirror_mode": {
    "name": "ipython",
    "version": 3
   },
   "file_extension": ".py",
   "mimetype": "text/x-python",
   "name": "python",
   "nbconvert_exporter": "python",
   "pygments_lexer": "ipython3",
   "version": "3.8.8"
  }
 },
 "nbformat": 4,
 "nbformat_minor": 5
}
