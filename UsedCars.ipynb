{
 "cells": [
  {
   "cell_type": "markdown",
   "id": "fed1ce46",
   "metadata": {},
   "source": [
    "# import libraries"
   ]
  },
  {
   "cell_type": "code",
   "execution_count": 3,
   "id": "6bb7ab74",
   "metadata": {},
   "outputs": [
    {
     "name": "stdout",
     "output_type": "stream",
     "text": [
      "Collecting lightgbm\n",
      "  Downloading lightgbm-3.3.1-py3-none-macosx_10_14_x86_64.macosx_10_15_x86_64.macosx_11_0_x86_64.whl (1.2 MB)\n",
      "\u001b[K     |████████████████████████████████| 1.2 MB 829 kB/s eta 0:00:01\n",
      "\u001b[?25hRequirement already satisfied: scipy in /Users/fay./opt/anaconda3/lib/python3.8/site-packages (from lightgbm) (1.6.2)\n",
      "Requirement already satisfied: scikit-learn!=0.22.0 in /Users/fay./opt/anaconda3/lib/python3.8/site-packages (from lightgbm) (0.24.1)\n",
      "Requirement already satisfied: numpy in /Users/fay./opt/anaconda3/lib/python3.8/site-packages (from lightgbm) (1.20.1)\n",
      "Requirement already satisfied: wheel in /Users/fay./opt/anaconda3/lib/python3.8/site-packages (from lightgbm) (0.36.2)\n",
      "Requirement already satisfied: joblib>=0.11 in /Users/fay./opt/anaconda3/lib/python3.8/site-packages (from scikit-learn!=0.22.0->lightgbm) (1.0.1)\n",
      "Requirement already satisfied: threadpoolctl>=2.0.0 in /Users/fay./opt/anaconda3/lib/python3.8/site-packages (from scikit-learn!=0.22.0->lightgbm) (2.1.0)\n",
      "Installing collected packages: lightgbm\n",
      "Successfully installed lightgbm-3.3.1\n"
     ]
    }
   ],
   "source": [
    "import pandas as pd\n",
    "import numpy as np \n",
    "import matplotlib.pyplot as plt\n",
    "import seaborn as sns\n",
    "from sklearn.model_selection import train_test_split\n",
    "from sklearn.preprocessing import MinMaxScaler, StandardScaler\n",
    "from sklearn.linear_model import LinearRegression, Ridge,Lasso\n",
    "from sklearn.preprocessing import StandardScaler, PolynomialFeatures\n",
    "from sklearn.metrics import mean_squared_error\n",
    "\n",
    "from sklearn.ensemble import RandomForestRegressor\n",
    "%matplotlib inline \n",
    "\n",
    "import warnings\n",
    "warnings.filterwarnings('ignore')\n",
    "\n"
   ]
  },
  {
   "cell_type": "markdown",
   "id": "71116736",
   "metadata": {},
   "source": [
    "### Loading dataset"
   ]
  },
  {
   "cell_type": "code",
   "execution_count": 5,
   "id": "1c47f296",
   "metadata": {},
   "outputs": [
    {
     "data": {
      "text/html": [
       "<div>\n",
       "<style scoped>\n",
       "    .dataframe tbody tr th:only-of-type {\n",
       "        vertical-align: middle;\n",
       "    }\n",
       "\n",
       "    .dataframe tbody tr th {\n",
       "        vertical-align: top;\n",
       "    }\n",
       "\n",
       "    .dataframe thead th {\n",
       "        text-align: right;\n",
       "    }\n",
       "</style>\n",
       "<table border=\"1\" class=\"dataframe\">\n",
       "  <thead>\n",
       "    <tr style=\"text-align: right;\">\n",
       "      <th></th>\n",
       "      <th>id</th>\n",
       "      <th>url</th>\n",
       "      <th>region</th>\n",
       "      <th>region_url</th>\n",
       "      <th>price</th>\n",
       "      <th>year</th>\n",
       "      <th>manufacturer</th>\n",
       "      <th>model</th>\n",
       "      <th>condition</th>\n",
       "      <th>cylinders</th>\n",
       "      <th>...</th>\n",
       "      <th>size</th>\n",
       "      <th>type</th>\n",
       "      <th>paint_color</th>\n",
       "      <th>image_url</th>\n",
       "      <th>description</th>\n",
       "      <th>county</th>\n",
       "      <th>state</th>\n",
       "      <th>lat</th>\n",
       "      <th>long</th>\n",
       "      <th>posting_date</th>\n",
       "    </tr>\n",
       "  </thead>\n",
       "  <tbody>\n",
       "    <tr>\n",
       "      <th>0</th>\n",
       "      <td>7222695916</td>\n",
       "      <td>https://prescott.craigslist.org/cto/d/prescott...</td>\n",
       "      <td>prescott</td>\n",
       "      <td>https://prescott.craigslist.org</td>\n",
       "      <td>6000</td>\n",
       "      <td>NaN</td>\n",
       "      <td>NaN</td>\n",
       "      <td>NaN</td>\n",
       "      <td>NaN</td>\n",
       "      <td>NaN</td>\n",
       "      <td>...</td>\n",
       "      <td>NaN</td>\n",
       "      <td>NaN</td>\n",
       "      <td>NaN</td>\n",
       "      <td>NaN</td>\n",
       "      <td>NaN</td>\n",
       "      <td>NaN</td>\n",
       "      <td>az</td>\n",
       "      <td>NaN</td>\n",
       "      <td>NaN</td>\n",
       "      <td>NaN</td>\n",
       "    </tr>\n",
       "    <tr>\n",
       "      <th>1</th>\n",
       "      <td>7218891961</td>\n",
       "      <td>https://fayar.craigslist.org/ctd/d/bentonville...</td>\n",
       "      <td>fayetteville</td>\n",
       "      <td>https://fayar.craigslist.org</td>\n",
       "      <td>11900</td>\n",
       "      <td>NaN</td>\n",
       "      <td>NaN</td>\n",
       "      <td>NaN</td>\n",
       "      <td>NaN</td>\n",
       "      <td>NaN</td>\n",
       "      <td>...</td>\n",
       "      <td>NaN</td>\n",
       "      <td>NaN</td>\n",
       "      <td>NaN</td>\n",
       "      <td>NaN</td>\n",
       "      <td>NaN</td>\n",
       "      <td>NaN</td>\n",
       "      <td>ar</td>\n",
       "      <td>NaN</td>\n",
       "      <td>NaN</td>\n",
       "      <td>NaN</td>\n",
       "    </tr>\n",
       "    <tr>\n",
       "      <th>2</th>\n",
       "      <td>7221797935</td>\n",
       "      <td>https://keys.craigslist.org/cto/d/summerland-k...</td>\n",
       "      <td>florida keys</td>\n",
       "      <td>https://keys.craigslist.org</td>\n",
       "      <td>21000</td>\n",
       "      <td>NaN</td>\n",
       "      <td>NaN</td>\n",
       "      <td>NaN</td>\n",
       "      <td>NaN</td>\n",
       "      <td>NaN</td>\n",
       "      <td>...</td>\n",
       "      <td>NaN</td>\n",
       "      <td>NaN</td>\n",
       "      <td>NaN</td>\n",
       "      <td>NaN</td>\n",
       "      <td>NaN</td>\n",
       "      <td>NaN</td>\n",
       "      <td>fl</td>\n",
       "      <td>NaN</td>\n",
       "      <td>NaN</td>\n",
       "      <td>NaN</td>\n",
       "    </tr>\n",
       "    <tr>\n",
       "      <th>3</th>\n",
       "      <td>7222270760</td>\n",
       "      <td>https://worcester.craigslist.org/cto/d/west-br...</td>\n",
       "      <td>worcester / central MA</td>\n",
       "      <td>https://worcester.craigslist.org</td>\n",
       "      <td>1500</td>\n",
       "      <td>NaN</td>\n",
       "      <td>NaN</td>\n",
       "      <td>NaN</td>\n",
       "      <td>NaN</td>\n",
       "      <td>NaN</td>\n",
       "      <td>...</td>\n",
       "      <td>NaN</td>\n",
       "      <td>NaN</td>\n",
       "      <td>NaN</td>\n",
       "      <td>NaN</td>\n",
       "      <td>NaN</td>\n",
       "      <td>NaN</td>\n",
       "      <td>ma</td>\n",
       "      <td>NaN</td>\n",
       "      <td>NaN</td>\n",
       "      <td>NaN</td>\n",
       "    </tr>\n",
       "    <tr>\n",
       "      <th>4</th>\n",
       "      <td>7210384030</td>\n",
       "      <td>https://greensboro.craigslist.org/cto/d/trinit...</td>\n",
       "      <td>greensboro</td>\n",
       "      <td>https://greensboro.craigslist.org</td>\n",
       "      <td>4900</td>\n",
       "      <td>NaN</td>\n",
       "      <td>NaN</td>\n",
       "      <td>NaN</td>\n",
       "      <td>NaN</td>\n",
       "      <td>NaN</td>\n",
       "      <td>...</td>\n",
       "      <td>NaN</td>\n",
       "      <td>NaN</td>\n",
       "      <td>NaN</td>\n",
       "      <td>NaN</td>\n",
       "      <td>NaN</td>\n",
       "      <td>NaN</td>\n",
       "      <td>nc</td>\n",
       "      <td>NaN</td>\n",
       "      <td>NaN</td>\n",
       "      <td>NaN</td>\n",
       "    </tr>\n",
       "  </tbody>\n",
       "</table>\n",
       "<p>5 rows × 26 columns</p>\n",
       "</div>"
      ],
      "text/plain": [
       "           id                                                url  \\\n",
       "0  7222695916  https://prescott.craigslist.org/cto/d/prescott...   \n",
       "1  7218891961  https://fayar.craigslist.org/ctd/d/bentonville...   \n",
       "2  7221797935  https://keys.craigslist.org/cto/d/summerland-k...   \n",
       "3  7222270760  https://worcester.craigslist.org/cto/d/west-br...   \n",
       "4  7210384030  https://greensboro.craigslist.org/cto/d/trinit...   \n",
       "\n",
       "                   region                         region_url  price  year  \\\n",
       "0                prescott    https://prescott.craigslist.org   6000   NaN   \n",
       "1            fayetteville       https://fayar.craigslist.org  11900   NaN   \n",
       "2            florida keys        https://keys.craigslist.org  21000   NaN   \n",
       "3  worcester / central MA   https://worcester.craigslist.org   1500   NaN   \n",
       "4              greensboro  https://greensboro.craigslist.org   4900   NaN   \n",
       "\n",
       "  manufacturer model condition cylinders  ... size  type paint_color  \\\n",
       "0          NaN   NaN       NaN       NaN  ...  NaN   NaN         NaN   \n",
       "1          NaN   NaN       NaN       NaN  ...  NaN   NaN         NaN   \n",
       "2          NaN   NaN       NaN       NaN  ...  NaN   NaN         NaN   \n",
       "3          NaN   NaN       NaN       NaN  ...  NaN   NaN         NaN   \n",
       "4          NaN   NaN       NaN       NaN  ...  NaN   NaN         NaN   \n",
       "\n",
       "  image_url description county state lat long posting_date  \n",
       "0       NaN         NaN    NaN    az NaN  NaN          NaN  \n",
       "1       NaN         NaN    NaN    ar NaN  NaN          NaN  \n",
       "2       NaN         NaN    NaN    fl NaN  NaN          NaN  \n",
       "3       NaN         NaN    NaN    ma NaN  NaN          NaN  \n",
       "4       NaN         NaN    NaN    nc NaN  NaN          NaN  \n",
       "\n",
       "[5 rows x 26 columns]"
      ]
     },
     "execution_count": 5,
     "metadata": {},
     "output_type": "execute_result"
    }
   ],
   "source": [
    "df = pd.read_csv('vehicles.csv')\n",
    "df.head()"
   ]
  },
  {
   "cell_type": "code",
   "execution_count": 6,
   "id": "0a3cb94b",
   "metadata": {},
   "outputs": [
    {
     "data": {
      "text/plain": [
       "(426880, 26)"
      ]
     },
     "execution_count": 6,
     "metadata": {},
     "output_type": "execute_result"
    }
   ],
   "source": [
    "df.shape"
   ]
  },
  {
   "cell_type": "code",
   "execution_count": 7,
   "id": "444699b7",
   "metadata": {},
   "outputs": [
    {
     "name": "stdout",
     "output_type": "stream",
     "text": [
      "<class 'pandas.core.frame.DataFrame'>\n",
      "RangeIndex: 426880 entries, 0 to 426879\n",
      "Data columns (total 26 columns):\n",
      " #   Column        Non-Null Count   Dtype  \n",
      "---  ------        --------------   -----  \n",
      " 0   id            426880 non-null  int64  \n",
      " 1   url           426880 non-null  object \n",
      " 2   region        426880 non-null  object \n",
      " 3   region_url    426880 non-null  object \n",
      " 4   price         426880 non-null  int64  \n",
      " 5   year          425675 non-null  float64\n",
      " 6   manufacturer  409234 non-null  object \n",
      " 7   model         421603 non-null  object \n",
      " 8   condition     252776 non-null  object \n",
      " 9   cylinders     249202 non-null  object \n",
      " 10  fuel          423867 non-null  object \n",
      " 11  odometer      422480 non-null  float64\n",
      " 12  title_status  418638 non-null  object \n",
      " 13  transmission  424324 non-null  object \n",
      " 14  VIN           265838 non-null  object \n",
      " 15  drive         296313 non-null  object \n",
      " 16  size          120519 non-null  object \n",
      " 17  type          334022 non-null  object \n",
      " 18  paint_color   296677 non-null  object \n",
      " 19  image_url     426812 non-null  object \n",
      " 20  description   426810 non-null  object \n",
      " 21  county        0 non-null       float64\n",
      " 22  state         426880 non-null  object \n",
      " 23  lat           420331 non-null  float64\n",
      " 24  long          420331 non-null  float64\n",
      " 25  posting_date  426812 non-null  object \n",
      "dtypes: float64(5), int64(2), object(19)\n",
      "memory usage: 4.2 GB\n"
     ]
    }
   ],
   "source": [
    "df.info(memory_usage='deep')"
   ]
  },
  {
   "cell_type": "code",
   "execution_count": 8,
   "id": "63e99ac8",
   "metadata": {},
   "outputs": [
    {
     "data": {
      "text/plain": [
       "Index(['id', 'url', 'region', 'region_url', 'price', 'year', 'manufacturer',\n",
       "       'model', 'condition', 'cylinders', 'fuel', 'odometer', 'title_status',\n",
       "       'transmission', 'VIN', 'drive', 'size', 'type', 'paint_color',\n",
       "       'image_url', 'description', 'county', 'state', 'lat', 'long',\n",
       "       'posting_date'],\n",
       "      dtype='object')"
      ]
     },
     "execution_count": 8,
     "metadata": {},
     "output_type": "execute_result"
    }
   ],
   "source": [
    "df.columns"
   ]
  },
  {
   "cell_type": "code",
   "execution_count": 9,
   "id": "4c88ba39",
   "metadata": {},
   "outputs": [
    {
     "data": {
      "text/html": [
       "<div>\n",
       "<style scoped>\n",
       "    .dataframe tbody tr th:only-of-type {\n",
       "        vertical-align: middle;\n",
       "    }\n",
       "\n",
       "    .dataframe tbody tr th {\n",
       "        vertical-align: top;\n",
       "    }\n",
       "\n",
       "    .dataframe thead th {\n",
       "        text-align: right;\n",
       "    }\n",
       "</style>\n",
       "<table border=\"1\" class=\"dataframe\">\n",
       "  <thead>\n",
       "    <tr style=\"text-align: right;\">\n",
       "      <th></th>\n",
       "      <th>id</th>\n",
       "      <th>price</th>\n",
       "      <th>year</th>\n",
       "      <th>odometer</th>\n",
       "      <th>county</th>\n",
       "      <th>lat</th>\n",
       "      <th>long</th>\n",
       "    </tr>\n",
       "  </thead>\n",
       "  <tbody>\n",
       "    <tr>\n",
       "      <th>count</th>\n",
       "      <td>4.268800e+05</td>\n",
       "      <td>4.268800e+05</td>\n",
       "      <td>425675.000000</td>\n",
       "      <td>4.224800e+05</td>\n",
       "      <td>0.0</td>\n",
       "      <td>420331.000000</td>\n",
       "      <td>420331.000000</td>\n",
       "    </tr>\n",
       "    <tr>\n",
       "      <th>mean</th>\n",
       "      <td>7.311487e+09</td>\n",
       "      <td>7.519903e+04</td>\n",
       "      <td>2011.235191</td>\n",
       "      <td>9.804333e+04</td>\n",
       "      <td>NaN</td>\n",
       "      <td>38.493940</td>\n",
       "      <td>-94.748599</td>\n",
       "    </tr>\n",
       "    <tr>\n",
       "      <th>std</th>\n",
       "      <td>4.473170e+06</td>\n",
       "      <td>1.218228e+07</td>\n",
       "      <td>9.452120</td>\n",
       "      <td>2.138815e+05</td>\n",
       "      <td>NaN</td>\n",
       "      <td>5.841533</td>\n",
       "      <td>18.365462</td>\n",
       "    </tr>\n",
       "    <tr>\n",
       "      <th>min</th>\n",
       "      <td>7.207408e+09</td>\n",
       "      <td>0.000000e+00</td>\n",
       "      <td>1900.000000</td>\n",
       "      <td>0.000000e+00</td>\n",
       "      <td>NaN</td>\n",
       "      <td>-84.122245</td>\n",
       "      <td>-159.827728</td>\n",
       "    </tr>\n",
       "    <tr>\n",
       "      <th>25%</th>\n",
       "      <td>7.308143e+09</td>\n",
       "      <td>5.900000e+03</td>\n",
       "      <td>2008.000000</td>\n",
       "      <td>3.770400e+04</td>\n",
       "      <td>NaN</td>\n",
       "      <td>34.601900</td>\n",
       "      <td>-111.939847</td>\n",
       "    </tr>\n",
       "    <tr>\n",
       "      <th>50%</th>\n",
       "      <td>7.312621e+09</td>\n",
       "      <td>1.395000e+04</td>\n",
       "      <td>2013.000000</td>\n",
       "      <td>8.554800e+04</td>\n",
       "      <td>NaN</td>\n",
       "      <td>39.150100</td>\n",
       "      <td>-88.432600</td>\n",
       "    </tr>\n",
       "    <tr>\n",
       "      <th>75%</th>\n",
       "      <td>7.315254e+09</td>\n",
       "      <td>2.648575e+04</td>\n",
       "      <td>2017.000000</td>\n",
       "      <td>1.335425e+05</td>\n",
       "      <td>NaN</td>\n",
       "      <td>42.398900</td>\n",
       "      <td>-80.832039</td>\n",
       "    </tr>\n",
       "    <tr>\n",
       "      <th>max</th>\n",
       "      <td>7.317101e+09</td>\n",
       "      <td>3.736929e+09</td>\n",
       "      <td>2022.000000</td>\n",
       "      <td>1.000000e+07</td>\n",
       "      <td>NaN</td>\n",
       "      <td>82.390818</td>\n",
       "      <td>173.885502</td>\n",
       "    </tr>\n",
       "  </tbody>\n",
       "</table>\n",
       "</div>"
      ],
      "text/plain": [
       "                 id         price           year      odometer  county  \\\n",
       "count  4.268800e+05  4.268800e+05  425675.000000  4.224800e+05     0.0   \n",
       "mean   7.311487e+09  7.519903e+04    2011.235191  9.804333e+04     NaN   \n",
       "std    4.473170e+06  1.218228e+07       9.452120  2.138815e+05     NaN   \n",
       "min    7.207408e+09  0.000000e+00    1900.000000  0.000000e+00     NaN   \n",
       "25%    7.308143e+09  5.900000e+03    2008.000000  3.770400e+04     NaN   \n",
       "50%    7.312621e+09  1.395000e+04    2013.000000  8.554800e+04     NaN   \n",
       "75%    7.315254e+09  2.648575e+04    2017.000000  1.335425e+05     NaN   \n",
       "max    7.317101e+09  3.736929e+09    2022.000000  1.000000e+07     NaN   \n",
       "\n",
       "                 lat           long  \n",
       "count  420331.000000  420331.000000  \n",
       "mean       38.493940     -94.748599  \n",
       "std         5.841533      18.365462  \n",
       "min       -84.122245    -159.827728  \n",
       "25%        34.601900    -111.939847  \n",
       "50%        39.150100     -88.432600  \n",
       "75%        42.398900     -80.832039  \n",
       "max        82.390818     173.885502  "
      ]
     },
     "execution_count": 9,
     "metadata": {},
     "output_type": "execute_result"
    }
   ],
   "source": [
    "df.describe()"
   ]
  },
  {
   "cell_type": "markdown",
   "id": "e5d390ad",
   "metadata": {},
   "source": [
    "### Removing unwanted variables\n"
   ]
  },
  {
   "cell_type": "code",
   "execution_count": 10,
   "id": "c633350a",
   "metadata": {},
   "outputs": [
    {
     "data": {
      "text/html": [
       "<div>\n",
       "<style scoped>\n",
       "    .dataframe tbody tr th:only-of-type {\n",
       "        vertical-align: middle;\n",
       "    }\n",
       "\n",
       "    .dataframe tbody tr th {\n",
       "        vertical-align: top;\n",
       "    }\n",
       "\n",
       "    .dataframe thead th {\n",
       "        text-align: right;\n",
       "    }\n",
       "</style>\n",
       "<table border=\"1\" class=\"dataframe\">\n",
       "  <thead>\n",
       "    <tr style=\"text-align: right;\">\n",
       "      <th></th>\n",
       "      <th>price</th>\n",
       "      <th>year</th>\n",
       "      <th>manufacturer</th>\n",
       "      <th>condition</th>\n",
       "      <th>cylinders</th>\n",
       "      <th>fuel</th>\n",
       "      <th>odometer</th>\n",
       "      <th>title_status</th>\n",
       "      <th>transmission</th>\n",
       "      <th>drive</th>\n",
       "      <th>size</th>\n",
       "      <th>type</th>\n",
       "      <th>paint_color</th>\n",
       "      <th>lat</th>\n",
       "      <th>long</th>\n",
       "    </tr>\n",
       "  </thead>\n",
       "  <tbody>\n",
       "    <tr>\n",
       "      <th>0</th>\n",
       "      <td>6000</td>\n",
       "      <td>NaN</td>\n",
       "      <td>NaN</td>\n",
       "      <td>NaN</td>\n",
       "      <td>NaN</td>\n",
       "      <td>NaN</td>\n",
       "      <td>NaN</td>\n",
       "      <td>NaN</td>\n",
       "      <td>NaN</td>\n",
       "      <td>NaN</td>\n",
       "      <td>NaN</td>\n",
       "      <td>NaN</td>\n",
       "      <td>NaN</td>\n",
       "      <td>NaN</td>\n",
       "      <td>NaN</td>\n",
       "    </tr>\n",
       "    <tr>\n",
       "      <th>1</th>\n",
       "      <td>11900</td>\n",
       "      <td>NaN</td>\n",
       "      <td>NaN</td>\n",
       "      <td>NaN</td>\n",
       "      <td>NaN</td>\n",
       "      <td>NaN</td>\n",
       "      <td>NaN</td>\n",
       "      <td>NaN</td>\n",
       "      <td>NaN</td>\n",
       "      <td>NaN</td>\n",
       "      <td>NaN</td>\n",
       "      <td>NaN</td>\n",
       "      <td>NaN</td>\n",
       "      <td>NaN</td>\n",
       "      <td>NaN</td>\n",
       "    </tr>\n",
       "    <tr>\n",
       "      <th>2</th>\n",
       "      <td>21000</td>\n",
       "      <td>NaN</td>\n",
       "      <td>NaN</td>\n",
       "      <td>NaN</td>\n",
       "      <td>NaN</td>\n",
       "      <td>NaN</td>\n",
       "      <td>NaN</td>\n",
       "      <td>NaN</td>\n",
       "      <td>NaN</td>\n",
       "      <td>NaN</td>\n",
       "      <td>NaN</td>\n",
       "      <td>NaN</td>\n",
       "      <td>NaN</td>\n",
       "      <td>NaN</td>\n",
       "      <td>NaN</td>\n",
       "    </tr>\n",
       "    <tr>\n",
       "      <th>3</th>\n",
       "      <td>1500</td>\n",
       "      <td>NaN</td>\n",
       "      <td>NaN</td>\n",
       "      <td>NaN</td>\n",
       "      <td>NaN</td>\n",
       "      <td>NaN</td>\n",
       "      <td>NaN</td>\n",
       "      <td>NaN</td>\n",
       "      <td>NaN</td>\n",
       "      <td>NaN</td>\n",
       "      <td>NaN</td>\n",
       "      <td>NaN</td>\n",
       "      <td>NaN</td>\n",
       "      <td>NaN</td>\n",
       "      <td>NaN</td>\n",
       "    </tr>\n",
       "    <tr>\n",
       "      <th>4</th>\n",
       "      <td>4900</td>\n",
       "      <td>NaN</td>\n",
       "      <td>NaN</td>\n",
       "      <td>NaN</td>\n",
       "      <td>NaN</td>\n",
       "      <td>NaN</td>\n",
       "      <td>NaN</td>\n",
       "      <td>NaN</td>\n",
       "      <td>NaN</td>\n",
       "      <td>NaN</td>\n",
       "      <td>NaN</td>\n",
       "      <td>NaN</td>\n",
       "      <td>NaN</td>\n",
       "      <td>NaN</td>\n",
       "      <td>NaN</td>\n",
       "    </tr>\n",
       "  </tbody>\n",
       "</table>\n",
       "</div>"
      ],
      "text/plain": [
       "   price  year manufacturer condition cylinders fuel  odometer title_status  \\\n",
       "0   6000   NaN          NaN       NaN       NaN  NaN       NaN          NaN   \n",
       "1  11900   NaN          NaN       NaN       NaN  NaN       NaN          NaN   \n",
       "2  21000   NaN          NaN       NaN       NaN  NaN       NaN          NaN   \n",
       "3   1500   NaN          NaN       NaN       NaN  NaN       NaN          NaN   \n",
       "4   4900   NaN          NaN       NaN       NaN  NaN       NaN          NaN   \n",
       "\n",
       "  transmission drive size type paint_color  lat  long  \n",
       "0          NaN   NaN  NaN  NaN         NaN  NaN   NaN  \n",
       "1          NaN   NaN  NaN  NaN         NaN  NaN   NaN  \n",
       "2          NaN   NaN  NaN  NaN         NaN  NaN   NaN  \n",
       "3          NaN   NaN  NaN  NaN         NaN  NaN   NaN  \n",
       "4          NaN   NaN  NaN  NaN         NaN  NaN   NaN  "
      ]
     },
     "execution_count": 10,
     "metadata": {},
     "output_type": "execute_result"
    }
   ],
   "source": [
    "df = df.drop(['id','url','region','region_url','VIN','image_url','description','county','posting_date','state','model'],axis=1)\n",
    "df.head()"
   ]
  },
  {
   "cell_type": "markdown",
   "id": "5f21791b",
   "metadata": {},
   "source": [
    "### Missing values\n"
   ]
  },
  {
   "cell_type": "code",
   "execution_count": 11,
   "id": "7a2bf902",
   "metadata": {},
   "outputs": [
    {
     "data": {
      "text/plain": [
       "price            0.000000\n",
       "year             0.282281\n",
       "manufacturer     4.133714\n",
       "condition       40.785232\n",
       "cylinders       41.622470\n",
       "fuel             0.705819\n",
       "odometer         1.030735\n",
       "title_status     1.930753\n",
       "transmission     0.598763\n",
       "drive           30.586347\n",
       "size            71.767476\n",
       "type            21.752717\n",
       "paint_color     30.501078\n",
       "lat              1.534155\n",
       "long             1.534155\n",
       "dtype: float64"
      ]
     },
     "execution_count": 11,
     "metadata": {},
     "output_type": "execute_result"
    }
   ],
   "source": [
    "# check missing values are present or not\n",
    "df.isna().sum()/len(df) * 100"
   ]
  },
  {
   "cell_type": "markdown",
   "id": "030fe692",
   "metadata": {},
   "source": [
    "We can observed that missing values are present in the data. We are going to remove variables which having missingt values more than 70% of data.And also we would drop missing values in the dataset."
   ]
  },
  {
   "cell_type": "code",
   "execution_count": 12,
   "id": "055efea4",
   "metadata": {
    "scrolled": true
   },
   "outputs": [
    {
     "data": {
      "text/plain": [
       "(426880, 14)"
      ]
     },
     "execution_count": 12,
     "metadata": {},
     "output_type": "execute_result"
    }
   ],
   "source": [
    "df = df.drop(['size'],axis=1)\n",
    "df.shape"
   ]
  },
  {
   "cell_type": "code",
   "execution_count": 27,
   "id": "b634c144",
   "metadata": {},
   "outputs": [
    {
     "data": {
      "text/plain": [
       "(116612, 14)"
      ]
     },
     "execution_count": 27,
     "metadata": {},
     "output_type": "execute_result"
    }
   ],
   "source": [
    "df = df.dropna()\n",
    "df.shape"
   ]
  },
  {
   "cell_type": "code",
   "execution_count": 13,
   "id": "bf047519",
   "metadata": {},
   "outputs": [
    {
     "name": "stdout",
     "output_type": "stream",
     "text": [
      "<class 'pandas.core.frame.DataFrame'>\n",
      "RangeIndex: 426880 entries, 0 to 426879\n",
      "Data columns (total 14 columns):\n",
      " #   Column        Non-Null Count   Dtype  \n",
      "---  ------        --------------   -----  \n",
      " 0   price         426880 non-null  int64  \n",
      " 1   year          425675 non-null  float64\n",
      " 2   manufacturer  409234 non-null  object \n",
      " 3   condition     252776 non-null  object \n",
      " 4   cylinders     249202 non-null  object \n",
      " 5   fuel          423867 non-null  object \n",
      " 6   odometer      422480 non-null  float64\n",
      " 7   title_status  418638 non-null  object \n",
      " 8   transmission  424324 non-null  object \n",
      " 9   drive         296313 non-null  object \n",
      " 10  type          334022 non-null  object \n",
      " 11  paint_color   296677 non-null  object \n",
      " 12  lat           420331 non-null  float64\n",
      " 13  long          420331 non-null  float64\n",
      "dtypes: float64(4), int64(1), object(9)\n",
      "memory usage: 224.5 MB\n"
     ]
    }
   ],
   "source": [
    "df.info(memory_usage='deep')"
   ]
  },
  {
   "cell_type": "code",
   "execution_count": 14,
   "id": "c4cf71e0",
   "metadata": {},
   "outputs": [
    {
     "data": {
      "text/html": [
       "<div>\n",
       "<style scoped>\n",
       "    .dataframe tbody tr th:only-of-type {\n",
       "        vertical-align: middle;\n",
       "    }\n",
       "\n",
       "    .dataframe tbody tr th {\n",
       "        vertical-align: top;\n",
       "    }\n",
       "\n",
       "    .dataframe thead th {\n",
       "        text-align: right;\n",
       "    }\n",
       "</style>\n",
       "<table border=\"1\" class=\"dataframe\">\n",
       "  <thead>\n",
       "    <tr style=\"text-align: right;\">\n",
       "      <th></th>\n",
       "      <th>price</th>\n",
       "      <th>year</th>\n",
       "      <th>manufacturer</th>\n",
       "      <th>condition</th>\n",
       "      <th>cylinders</th>\n",
       "      <th>fuel</th>\n",
       "      <th>odometer</th>\n",
       "      <th>title_status</th>\n",
       "      <th>transmission</th>\n",
       "      <th>drive</th>\n",
       "      <th>type</th>\n",
       "      <th>paint_color</th>\n",
       "      <th>lat</th>\n",
       "      <th>long</th>\n",
       "    </tr>\n",
       "  </thead>\n",
       "  <tbody>\n",
       "    <tr>\n",
       "      <th>0</th>\n",
       "      <td>6000</td>\n",
       "      <td>NaN</td>\n",
       "      <td>NaN</td>\n",
       "      <td>NaN</td>\n",
       "      <td>NaN</td>\n",
       "      <td>NaN</td>\n",
       "      <td>NaN</td>\n",
       "      <td>NaN</td>\n",
       "      <td>NaN</td>\n",
       "      <td>NaN</td>\n",
       "      <td>NaN</td>\n",
       "      <td>NaN</td>\n",
       "      <td>NaN</td>\n",
       "      <td>NaN</td>\n",
       "    </tr>\n",
       "    <tr>\n",
       "      <th>1</th>\n",
       "      <td>11900</td>\n",
       "      <td>NaN</td>\n",
       "      <td>NaN</td>\n",
       "      <td>NaN</td>\n",
       "      <td>NaN</td>\n",
       "      <td>NaN</td>\n",
       "      <td>NaN</td>\n",
       "      <td>NaN</td>\n",
       "      <td>NaN</td>\n",
       "      <td>NaN</td>\n",
       "      <td>NaN</td>\n",
       "      <td>NaN</td>\n",
       "      <td>NaN</td>\n",
       "      <td>NaN</td>\n",
       "    </tr>\n",
       "    <tr>\n",
       "      <th>2</th>\n",
       "      <td>21000</td>\n",
       "      <td>NaN</td>\n",
       "      <td>NaN</td>\n",
       "      <td>NaN</td>\n",
       "      <td>NaN</td>\n",
       "      <td>NaN</td>\n",
       "      <td>NaN</td>\n",
       "      <td>NaN</td>\n",
       "      <td>NaN</td>\n",
       "      <td>NaN</td>\n",
       "      <td>NaN</td>\n",
       "      <td>NaN</td>\n",
       "      <td>NaN</td>\n",
       "      <td>NaN</td>\n",
       "    </tr>\n",
       "    <tr>\n",
       "      <th>3</th>\n",
       "      <td>1500</td>\n",
       "      <td>NaN</td>\n",
       "      <td>NaN</td>\n",
       "      <td>NaN</td>\n",
       "      <td>NaN</td>\n",
       "      <td>NaN</td>\n",
       "      <td>NaN</td>\n",
       "      <td>NaN</td>\n",
       "      <td>NaN</td>\n",
       "      <td>NaN</td>\n",
       "      <td>NaN</td>\n",
       "      <td>NaN</td>\n",
       "      <td>NaN</td>\n",
       "      <td>NaN</td>\n",
       "    </tr>\n",
       "    <tr>\n",
       "      <th>4</th>\n",
       "      <td>4900</td>\n",
       "      <td>NaN</td>\n",
       "      <td>NaN</td>\n",
       "      <td>NaN</td>\n",
       "      <td>NaN</td>\n",
       "      <td>NaN</td>\n",
       "      <td>NaN</td>\n",
       "      <td>NaN</td>\n",
       "      <td>NaN</td>\n",
       "      <td>NaN</td>\n",
       "      <td>NaN</td>\n",
       "      <td>NaN</td>\n",
       "      <td>NaN</td>\n",
       "      <td>NaN</td>\n",
       "    </tr>\n",
       "  </tbody>\n",
       "</table>\n",
       "</div>"
      ],
      "text/plain": [
       "   price  year manufacturer condition cylinders fuel  odometer title_status  \\\n",
       "0   6000   NaN          NaN       NaN       NaN  NaN       NaN          NaN   \n",
       "1  11900   NaN          NaN       NaN       NaN  NaN       NaN          NaN   \n",
       "2  21000   NaN          NaN       NaN       NaN  NaN       NaN          NaN   \n",
       "3   1500   NaN          NaN       NaN       NaN  NaN       NaN          NaN   \n",
       "4   4900   NaN          NaN       NaN       NaN  NaN       NaN          NaN   \n",
       "\n",
       "  transmission drive type paint_color  lat  long  \n",
       "0          NaN   NaN  NaN         NaN  NaN   NaN  \n",
       "1          NaN   NaN  NaN         NaN  NaN   NaN  \n",
       "2          NaN   NaN  NaN         NaN  NaN   NaN  \n",
       "3          NaN   NaN  NaN         NaN  NaN   NaN  \n",
       "4          NaN   NaN  NaN         NaN  NaN   NaN  "
      ]
     },
     "execution_count": 14,
     "metadata": {},
     "output_type": "execute_result"
    }
   ],
   "source": [
    "df.head()"
   ]
  },
  {
   "cell_type": "markdown",
   "id": "7b3b5598",
   "metadata": {},
   "source": [
    "### Data visualization"
   ]
  },
  {
   "cell_type": "code",
   "execution_count": 15,
   "id": "0f97693d",
   "metadata": {},
   "outputs": [
    {
     "data": {
      "text/plain": [
       "<AxesSubplot:title={'center':'Price Distribution'}, xlabel='price', ylabel='Count'>"
      ]
     },
     "execution_count": 15,
     "metadata": {},
     "output_type": "execute_result"
    },
    {
     "data": {
      "image/png": "[encoded data removed]",
      "text/plain": [
       "<Figure size 864x576 with 1 Axes>"
      ]
     },
     "metadata": {
      "needs_background": "light"
     },
     "output_type": "display_data"
    }
   ],
   "source": [
    "df_prc =df[(df.price >=2000) & (df.price <=50000)]\n",
    "# Then plot the distriution \n",
    "f, ax = plt.subplots(figsize=(12, 8))\n",
    "ax.set_title('Price Distribution', pad=12)\n",
    "sns.histplot(df_prc, x=\"price\", stat='count', bins=20)"
   ]
  },
  {
   "cell_type": "code",
   "execution_count": 16,
   "id": "40c2a97c",
   "metadata": {},
   "outputs": [
    {
     "data": {
      "image/png": "[encoded data removed]",
      "text/plain": [
       "<Figure size 720x360 with 1 Axes>"
      ]
     },
     "metadata": {
      "needs_background": "light"
     },
     "output_type": "display_data"
    }
   ],
   "source": [
    "df_prc = df[(df.price >=2000) & (df.price <=50000)]\n",
    "df_odo = df_prc[(df_prc.odometer >100000) & (df_prc.odometer <=200000)]\n",
    "sns.displot(data=df_odo, x=\"odometer\", aspect=2, height=5, kde=True)\n",
    "plt.ylabel(\"Price \", fontsize=10);"
   ]
  },
  {
   "cell_type": "code",
   "execution_count": 28,
   "id": "b2447887",
   "metadata": {},
   "outputs": [],
   "source": [
    "#f, ax = plt.subplots(figsize=(20, 10))\n",
    "#ax.set_title('Price vs Year', pad=12)\n",
    "#fig = sns.boxplot(x=df_odo.year.astype(int), y='price', data=df_odo)\n",
    "#plt.xticks(rotation=90);"
   ]
  },
  {
   "cell_type": "markdown",
   "id": "28311818",
   "metadata": {},
   "source": [
    "1. How price of cars is effected by the fuel"
   ]
  },
  {
   "cell_type": "code",
   "execution_count": 19,
   "id": "7bf1fbd9",
   "metadata": {},
   "outputs": [
    {
     "data": {
      "text/plain": [
       "<AxesSubplot:xlabel='fuel', ylabel='count'>"
      ]
     },
     "execution_count": 19,
     "metadata": {},
     "output_type": "execute_result"
    },
    {
     "data": {
      "image/png": "[encoded data removed]",
      "text/plain": [
       "<Figure size 720x576 with 1 Axes>"
      ]
     },
     "metadata": {},
     "output_type": "display_data"
    }
   ],
   "source": [
    "sns.set(rc={'figure.figsize':(10,8)})\n",
    "sns.countplot(x='fuel', data=df)"
   ]
  },
  {
   "cell_type": "code",
   "execution_count": 20,
   "id": "ebc41ff0",
   "metadata": {},
   "outputs": [
    {
     "data": {
      "text/plain": [
       "<AxesSubplot:xlabel='fuel', ylabel='price'>"
      ]
     },
     "execution_count": 20,
     "metadata": {},
     "output_type": "execute_result"
    },
    {
     "data": {
      "image/png": "[encoded data removed]",
      "text/plain": [
       "<Figure size 720x576 with 1 Axes>"
      ]
     },
     "metadata": {},
     "output_type": "display_data"
    }
   ],
   "source": [
    "sns.set(rc={'figure.figsize':(10,8)})\n",
    "sns.barplot(x='fuel',y='price',data=df)"
   ]
  },
  {
   "cell_type": "markdown",
   "id": "cc097be7",
   "metadata": {},
   "source": [
    "From the above plots, we observed that cars which use diesel fuel is costlier than other cars which use like gas, electric,other and hybrid. And also most of the cars are used gas fuel."
   ]
  },
  {
   "cell_type": "markdown",
   "id": "9d4445aa",
   "metadata": {},
   "source": [
    "2. How price is related to different kinds of manufacturing"
   ]
  },
  {
   "cell_type": "code",
   "execution_count": 21,
   "id": "399eae25",
   "metadata": {},
   "outputs": [
    {
     "data": {
      "text/plain": [
       "array([nan, 'gmc', 'chevrolet', 'toyota', 'ford', 'jeep', 'nissan', 'ram',\n",
       "       'mazda', 'cadillac', 'honda', 'dodge', 'lexus', 'jaguar', 'buick',\n",
       "       'chrysler', 'volvo', 'audi', 'infiniti', 'lincoln', 'alfa-romeo',\n",
       "       'subaru', 'acura', 'hyundai', 'mercedes-benz', 'bmw', 'mitsubishi',\n",
       "       'volkswagen', 'porsche', 'kia', 'rover', 'ferrari', 'mini',\n",
       "       'pontiac', 'fiat', 'tesla', 'saturn', 'mercury', 'harley-davidson',\n",
       "       'datsun', 'aston-martin', 'land rover', 'morgan'], dtype=object)"
      ]
     },
     "execution_count": 21,
     "metadata": {},
     "output_type": "execute_result"
    }
   ],
   "source": [
    "df.manufacturer.unique()"
   ]
  },
  {
   "cell_type": "code",
   "execution_count": 22,
   "id": "d0393781",
   "metadata": {
    "scrolled": true
   },
   "outputs": [
    {
     "data": {
      "text/plain": [
       "<AxesSubplot:xlabel='manufacturer', ylabel='price'>"
      ]
     },
     "execution_count": 22,
     "metadata": {},
     "output_type": "execute_result"
    },
    {
     "data": {
      "image/png": "[encoded data removed]",
      "text/plain": [
       "<Figure size 1440x576 with 1 Axes>"
      ]
     },
     "metadata": {},
     "output_type": "display_data"
    }
   ],
   "source": [
    "sns.set(rc={'figure.figsize':(20,8)})\n",
    "sns.barplot(x='manufacturer',y='price',data=df,order=['ford', 'gmc', 'chevrolet', 'toyota', 'jeep', 'nissan', 'cadillac',\n",
    "       'honda', 'dodge', 'lexus', 'chrysler', 'volvo', 'hyundai', 'ram',\n",
    "       'lincoln', 'mercedes-benz', 'infiniti', 'buick', 'acura', 'bmw',\n",
    "       'volkswagen', 'mazda'])"
   ]
  },
  {
   "cell_type": "code",
   "execution_count": 23,
   "id": "6eb727a1",
   "metadata": {},
   "outputs": [
    {
     "data": {
      "text/plain": [
       "<AxesSubplot:xlabel='manufacturer', ylabel='price'>"
      ]
     },
     "execution_count": 23,
     "metadata": {},
     "output_type": "execute_result"
    },
    {
     "data": {
      "image/png": "[encoded data removed]",
      "text/plain": [
       "<Figure size 1440x576 with 1 Axes>"
      ]
     },
     "metadata": {},
     "output_type": "display_data"
    }
   ],
   "source": [
    "sns.set(rc={'figure.figsize':(20,8)})\n",
    "sns.barplot(x='manufacturer',y='price',data=df,order=['porsche', 'rover', 'kia', 'ferrari',\n",
    "       'pontiac', 'audi', 'mitsubishi', 'fiat', 'jaguar', 'alfa-romeo',\n",
    "       'tesla', 'saturn', 'subaru', 'mini', 'harley-davidson', 'mercury',\n",
    "       'datsun', 'land rover', 'aston-martin', 'morgan'])"
   ]
  },
  {
   "cell_type": "markdown",
   "id": "ec77ae7c",
   "metadata": {},
   "source": [
    "From the above above plots, we can conclude that Toyota cars are costlier than other manufactures. "
   ]
  },
  {
   "cell_type": "markdown",
   "id": "4da87cb0",
   "metadata": {},
   "source": [
    "3. what is the common color for used car"
   ]
  },
  {
   "cell_type": "code",
   "execution_count": 24,
   "id": "ae07333e",
   "metadata": {},
   "outputs": [
    {
     "data": {
      "text/plain": [
       "<AxesSubplot:xlabel='paint_color', ylabel='count'>"
      ]
     },
     "execution_count": 24,
     "metadata": {},
     "output_type": "execute_result"
    },
    {
     "data": {
      "image/png": "[encoded data removed]",
      "text/plain": [
       "<Figure size 720x576 with 1 Axes>"
      ]
     },
     "metadata": {},
     "output_type": "display_data"
    }
   ],
   "source": [
    "sns.set(rc={'figure.figsize':(10,8)})\n",
    "sns.countplot(x='paint_color', data=df)"
   ]
  },
  {
   "cell_type": "markdown",
   "id": "75d5a2f2",
   "metadata": {},
   "source": [
    "From the above plot, we can conclude that common color for used car is white and followed by black."
   ]
  },
  {
   "cell_type": "markdown",
   "id": "9ea67e5e",
   "metadata": {},
   "source": [
    "4. How can we predict used car price"
   ]
  },
  {
   "cell_type": "markdown",
   "id": "4b0ef5d0",
   "metadata": {},
   "source": [
    "Encoding the categorical variables"
   ]
  },
  {
   "cell_type": "code",
   "execution_count": 29,
   "id": "d26e4cd4",
   "metadata": {},
   "outputs": [
    {
     "data": {
      "text/html": [
       "<div>\n",
       "<style scoped>\n",
       "    .dataframe tbody tr th:only-of-type {\n",
       "        vertical-align: middle;\n",
       "    }\n",
       "\n",
       "    .dataframe tbody tr th {\n",
       "        vertical-align: top;\n",
       "    }\n",
       "\n",
       "    .dataframe thead th {\n",
       "        text-align: right;\n",
       "    }\n",
       "</style>\n",
       "<table border=\"1\" class=\"dataframe\">\n",
       "  <thead>\n",
       "    <tr style=\"text-align: right;\">\n",
       "      <th></th>\n",
       "      <th>price</th>\n",
       "      <th>year</th>\n",
       "      <th>odometer</th>\n",
       "      <th>lat</th>\n",
       "      <th>long</th>\n",
       "      <th>condition_excellent</th>\n",
       "      <th>condition_fair</th>\n",
       "      <th>condition_good</th>\n",
       "      <th>condition_like new</th>\n",
       "      <th>condition_new</th>\n",
       "      <th>...</th>\n",
       "      <th>paint_color_brown</th>\n",
       "      <th>paint_color_custom</th>\n",
       "      <th>paint_color_green</th>\n",
       "      <th>paint_color_grey</th>\n",
       "      <th>paint_color_orange</th>\n",
       "      <th>paint_color_purple</th>\n",
       "      <th>paint_color_red</th>\n",
       "      <th>paint_color_silver</th>\n",
       "      <th>paint_color_white</th>\n",
       "      <th>paint_color_yellow</th>\n",
       "    </tr>\n",
       "  </thead>\n",
       "  <tbody>\n",
       "    <tr>\n",
       "      <th>0</th>\n",
       "      <td>15000</td>\n",
       "      <td>2013.0</td>\n",
       "      <td>128000.0</td>\n",
       "      <td>32.5920</td>\n",
       "      <td>-85.518900</td>\n",
       "      <td>1</td>\n",
       "      <td>0</td>\n",
       "      <td>0</td>\n",
       "      <td>0</td>\n",
       "      <td>0</td>\n",
       "      <td>...</td>\n",
       "      <td>0</td>\n",
       "      <td>0</td>\n",
       "      <td>0</td>\n",
       "      <td>0</td>\n",
       "      <td>0</td>\n",
       "      <td>0</td>\n",
       "      <td>0</td>\n",
       "      <td>0</td>\n",
       "      <td>0</td>\n",
       "      <td>0</td>\n",
       "    </tr>\n",
       "    <tr>\n",
       "      <th>1</th>\n",
       "      <td>27990</td>\n",
       "      <td>2012.0</td>\n",
       "      <td>68696.0</td>\n",
       "      <td>32.5900</td>\n",
       "      <td>-85.480000</td>\n",
       "      <td>0</td>\n",
       "      <td>0</td>\n",
       "      <td>1</td>\n",
       "      <td>0</td>\n",
       "      <td>0</td>\n",
       "      <td>...</td>\n",
       "      <td>0</td>\n",
       "      <td>0</td>\n",
       "      <td>0</td>\n",
       "      <td>0</td>\n",
       "      <td>0</td>\n",
       "      <td>0</td>\n",
       "      <td>0</td>\n",
       "      <td>0</td>\n",
       "      <td>0</td>\n",
       "      <td>0</td>\n",
       "    </tr>\n",
       "    <tr>\n",
       "      <th>2</th>\n",
       "      <td>34590</td>\n",
       "      <td>2016.0</td>\n",
       "      <td>29499.0</td>\n",
       "      <td>32.5900</td>\n",
       "      <td>-85.480000</td>\n",
       "      <td>0</td>\n",
       "      <td>0</td>\n",
       "      <td>1</td>\n",
       "      <td>0</td>\n",
       "      <td>0</td>\n",
       "      <td>...</td>\n",
       "      <td>0</td>\n",
       "      <td>0</td>\n",
       "      <td>0</td>\n",
       "      <td>0</td>\n",
       "      <td>0</td>\n",
       "      <td>0</td>\n",
       "      <td>0</td>\n",
       "      <td>1</td>\n",
       "      <td>0</td>\n",
       "      <td>0</td>\n",
       "    </tr>\n",
       "    <tr>\n",
       "      <th>3</th>\n",
       "      <td>35000</td>\n",
       "      <td>2019.0</td>\n",
       "      <td>43000.0</td>\n",
       "      <td>32.6013</td>\n",
       "      <td>-85.443974</td>\n",
       "      <td>1</td>\n",
       "      <td>0</td>\n",
       "      <td>0</td>\n",
       "      <td>0</td>\n",
       "      <td>0</td>\n",
       "      <td>...</td>\n",
       "      <td>0</td>\n",
       "      <td>0</td>\n",
       "      <td>0</td>\n",
       "      <td>1</td>\n",
       "      <td>0</td>\n",
       "      <td>0</td>\n",
       "      <td>0</td>\n",
       "      <td>0</td>\n",
       "      <td>0</td>\n",
       "      <td>0</td>\n",
       "    </tr>\n",
       "    <tr>\n",
       "      <th>4</th>\n",
       "      <td>29990</td>\n",
       "      <td>2016.0</td>\n",
       "      <td>17302.0</td>\n",
       "      <td>32.5900</td>\n",
       "      <td>-85.480000</td>\n",
       "      <td>0</td>\n",
       "      <td>0</td>\n",
       "      <td>1</td>\n",
       "      <td>0</td>\n",
       "      <td>0</td>\n",
       "      <td>...</td>\n",
       "      <td>0</td>\n",
       "      <td>0</td>\n",
       "      <td>0</td>\n",
       "      <td>0</td>\n",
       "      <td>0</td>\n",
       "      <td>0</td>\n",
       "      <td>1</td>\n",
       "      <td>0</td>\n",
       "      <td>0</td>\n",
       "      <td>0</td>\n",
       "    </tr>\n",
       "  </tbody>\n",
       "</table>\n",
       "<p>5 rows × 103 columns</p>\n",
       "</div>"
      ],
      "text/plain": [
       "   price    year  odometer      lat       long  condition_excellent  \\\n",
       "0  15000  2013.0  128000.0  32.5920 -85.518900                    1   \n",
       "1  27990  2012.0   68696.0  32.5900 -85.480000                    0   \n",
       "2  34590  2016.0   29499.0  32.5900 -85.480000                    0   \n",
       "3  35000  2019.0   43000.0  32.6013 -85.443974                    1   \n",
       "4  29990  2016.0   17302.0  32.5900 -85.480000                    0   \n",
       "\n",
       "   condition_fair  condition_good  condition_like new  condition_new  ...  \\\n",
       "0               0               0                   0              0  ...   \n",
       "1               0               1                   0              0  ...   \n",
       "2               0               1                   0              0  ...   \n",
       "3               0               0                   0              0  ...   \n",
       "4               0               1                   0              0  ...   \n",
       "\n",
       "   paint_color_brown  paint_color_custom  paint_color_green  paint_color_grey  \\\n",
       "0                  0                   0                  0                 0   \n",
       "1                  0                   0                  0                 0   \n",
       "2                  0                   0                  0                 0   \n",
       "3                  0                   0                  0                 1   \n",
       "4                  0                   0                  0                 0   \n",
       "\n",
       "   paint_color_orange  paint_color_purple  paint_color_red  \\\n",
       "0                   0                   0                0   \n",
       "1                   0                   0                0   \n",
       "2                   0                   0                0   \n",
       "3                   0                   0                0   \n",
       "4                   0                   0                1   \n",
       "\n",
       "   paint_color_silver  paint_color_white  paint_color_yellow  \n",
       "0                   0                  0                   0  \n",
       "1                   0                  0                   0  \n",
       "2                   1                  0                   0  \n",
       "3                   0                  0                   0  \n",
       "4                   0                  0                   0  \n",
       "\n",
       "[5 rows x 103 columns]"
      ]
     },
     "execution_count": 29,
     "metadata": {},
     "output_type": "execute_result"
    }
   ],
   "source": [
    "# Get dummy variables\n",
    "df_encoded = pd.get_dummies(df,columns=['condition','cylinders','manufacturer','fuel','title_status','transmission','drive','type','paint_color'])\n",
    "# reset index\n",
    "df_encoded = df_encoded.reset_index(drop=True)\n",
    "df_encoded.head()"
   ]
  },
  {
   "cell_type": "markdown",
   "id": "d1d8223e",
   "metadata": {},
   "source": [
    "### Correlation matrix"
   ]
  },
  {
   "cell_type": "markdown",
   "id": "f5fb5a01",
   "metadata": {},
   "source": [
    "Plot correlation matrix using heatmap to check how the features are correlated."
   ]
  },
  {
   "cell_type": "code",
   "execution_count": 31,
   "id": "dcc82c5e",
   "metadata": {},
   "outputs": [
    {
     "data": {
      "text/html": [
       "<div>\n",
       "<style scoped>\n",
       "    .dataframe tbody tr th:only-of-type {\n",
       "        vertical-align: middle;\n",
       "    }\n",
       "\n",
       "    .dataframe tbody tr th {\n",
       "        vertical-align: top;\n",
       "    }\n",
       "\n",
       "    .dataframe thead th {\n",
       "        text-align: right;\n",
       "    }\n",
       "</style>\n",
       "<table border=\"1\" class=\"dataframe\">\n",
       "  <thead>\n",
       "    <tr style=\"text-align: right;\">\n",
       "      <th></th>\n",
       "      <th>price</th>\n",
       "      <th>year</th>\n",
       "      <th>odometer</th>\n",
       "      <th>lat</th>\n",
       "      <th>long</th>\n",
       "      <th>condition_excellent</th>\n",
       "      <th>condition_fair</th>\n",
       "      <th>condition_good</th>\n",
       "      <th>condition_like new</th>\n",
       "      <th>condition_new</th>\n",
       "      <th>...</th>\n",
       "      <th>paint_color_brown</th>\n",
       "      <th>paint_color_custom</th>\n",
       "      <th>paint_color_green</th>\n",
       "      <th>paint_color_grey</th>\n",
       "      <th>paint_color_orange</th>\n",
       "      <th>paint_color_purple</th>\n",
       "      <th>paint_color_red</th>\n",
       "      <th>paint_color_silver</th>\n",
       "      <th>paint_color_white</th>\n",
       "      <th>paint_color_yellow</th>\n",
       "    </tr>\n",
       "  </thead>\n",
       "  <tbody>\n",
       "    <tr>\n",
       "      <th>price</th>\n",
       "      <td>1.000000</td>\n",
       "      <td>-0.001394</td>\n",
       "      <td>0.000660</td>\n",
       "      <td>0.003353</td>\n",
       "      <td>-0.006727</td>\n",
       "      <td>0.001920</td>\n",
       "      <td>-0.000402</td>\n",
       "      <td>-0.001324</td>\n",
       "      <td>-0.000662</td>\n",
       "      <td>-0.000218</td>\n",
       "      <td>...</td>\n",
       "      <td>-0.000744</td>\n",
       "      <td>-0.000639</td>\n",
       "      <td>-0.000775</td>\n",
       "      <td>-0.001133</td>\n",
       "      <td>-0.000297</td>\n",
       "      <td>-0.000232</td>\n",
       "      <td>-0.001357</td>\n",
       "      <td>0.006234</td>\n",
       "      <td>0.000039</td>\n",
       "      <td>-0.000351</td>\n",
       "    </tr>\n",
       "    <tr>\n",
       "      <th>year</th>\n",
       "      <td>-0.001394</td>\n",
       "      <td>1.000000</td>\n",
       "      <td>-0.121849</td>\n",
       "      <td>-0.017176</td>\n",
       "      <td>0.045622</td>\n",
       "      <td>0.039175</td>\n",
       "      <td>-0.198708</td>\n",
       "      <td>-0.021908</td>\n",
       "      <td>0.089139</td>\n",
       "      <td>0.013423</td>\n",
       "      <td>...</td>\n",
       "      <td>-0.048510</td>\n",
       "      <td>-0.081766</td>\n",
       "      <td>-0.128971</td>\n",
       "      <td>0.035497</td>\n",
       "      <td>-0.053335</td>\n",
       "      <td>-0.034581</td>\n",
       "      <td>-0.057617</td>\n",
       "      <td>0.031916</td>\n",
       "      <td>0.085163</td>\n",
       "      <td>-0.083540</td>\n",
       "    </tr>\n",
       "    <tr>\n",
       "      <th>odometer</th>\n",
       "      <td>0.000660</td>\n",
       "      <td>-0.121849</td>\n",
       "      <td>1.000000</td>\n",
       "      <td>0.001574</td>\n",
       "      <td>-0.009015</td>\n",
       "      <td>-0.011939</td>\n",
       "      <td>0.085609</td>\n",
       "      <td>-0.004265</td>\n",
       "      <td>-0.022948</td>\n",
       "      <td>-0.019047</td>\n",
       "      <td>...</td>\n",
       "      <td>0.008460</td>\n",
       "      <td>0.010394</td>\n",
       "      <td>0.014461</td>\n",
       "      <td>0.005645</td>\n",
       "      <td>-0.005079</td>\n",
       "      <td>0.000666</td>\n",
       "      <td>-0.003221</td>\n",
       "      <td>0.006438</td>\n",
       "      <td>-0.007077</td>\n",
       "      <td>-0.007413</td>\n",
       "    </tr>\n",
       "    <tr>\n",
       "      <th>lat</th>\n",
       "      <td>0.003353</td>\n",
       "      <td>-0.017176</td>\n",
       "      <td>0.001574</td>\n",
       "      <td>1.000000</td>\n",
       "      <td>-0.036147</td>\n",
       "      <td>-0.003674</td>\n",
       "      <td>0.021939</td>\n",
       "      <td>0.019707</td>\n",
       "      <td>-0.036392</td>\n",
       "      <td>-0.007436</td>\n",
       "      <td>...</td>\n",
       "      <td>0.008947</td>\n",
       "      <td>-0.003614</td>\n",
       "      <td>0.012759</td>\n",
       "      <td>0.020243</td>\n",
       "      <td>0.002467</td>\n",
       "      <td>0.004927</td>\n",
       "      <td>0.018661</td>\n",
       "      <td>-0.000449</td>\n",
       "      <td>-0.053567</td>\n",
       "      <td>-0.004446</td>\n",
       "    </tr>\n",
       "    <tr>\n",
       "      <th>long</th>\n",
       "      <td>-0.006727</td>\n",
       "      <td>0.045622</td>\n",
       "      <td>-0.009015</td>\n",
       "      <td>-0.036147</td>\n",
       "      <td>1.000000</td>\n",
       "      <td>-0.053509</td>\n",
       "      <td>-0.012486</td>\n",
       "      <td>0.071354</td>\n",
       "      <td>-0.016820</td>\n",
       "      <td>-0.001037</td>\n",
       "      <td>...</td>\n",
       "      <td>-0.010125</td>\n",
       "      <td>0.007513</td>\n",
       "      <td>-0.001895</td>\n",
       "      <td>-0.016655</td>\n",
       "      <td>0.001270</td>\n",
       "      <td>-0.004000</td>\n",
       "      <td>0.028349</td>\n",
       "      <td>-0.010795</td>\n",
       "      <td>-0.039251</td>\n",
       "      <td>-0.001629</td>\n",
       "    </tr>\n",
       "    <tr>\n",
       "      <th>...</th>\n",
       "      <td>...</td>\n",
       "      <td>...</td>\n",
       "      <td>...</td>\n",
       "      <td>...</td>\n",
       "      <td>...</td>\n",
       "      <td>...</td>\n",
       "      <td>...</td>\n",
       "      <td>...</td>\n",
       "      <td>...</td>\n",
       "      <td>...</td>\n",
       "      <td>...</td>\n",
       "      <td>...</td>\n",
       "      <td>...</td>\n",
       "      <td>...</td>\n",
       "      <td>...</td>\n",
       "      <td>...</td>\n",
       "      <td>...</td>\n",
       "      <td>...</td>\n",
       "      <td>...</td>\n",
       "      <td>...</td>\n",
       "      <td>...</td>\n",
       "    </tr>\n",
       "    <tr>\n",
       "      <th>paint_color_purple</th>\n",
       "      <td>-0.000232</td>\n",
       "      <td>-0.034581</td>\n",
       "      <td>0.000666</td>\n",
       "      <td>0.004927</td>\n",
       "      <td>-0.004000</td>\n",
       "      <td>-0.015196</td>\n",
       "      <td>0.013520</td>\n",
       "      <td>0.008476</td>\n",
       "      <td>0.002007</td>\n",
       "      <td>-0.001719</td>\n",
       "      <td>...</td>\n",
       "      <td>-0.009445</td>\n",
       "      <td>-0.008274</td>\n",
       "      <td>-0.009929</td>\n",
       "      <td>-0.018974</td>\n",
       "      <td>-0.004252</td>\n",
       "      <td>1.000000</td>\n",
       "      <td>-0.019126</td>\n",
       "      <td>-0.022550</td>\n",
       "      <td>-0.030965</td>\n",
       "      <td>-0.005015</td>\n",
       "    </tr>\n",
       "    <tr>\n",
       "      <th>paint_color_red</th>\n",
       "      <td>-0.001357</td>\n",
       "      <td>-0.057617</td>\n",
       "      <td>-0.003221</td>\n",
       "      <td>0.018661</td>\n",
       "      <td>0.028349</td>\n",
       "      <td>-0.014228</td>\n",
       "      <td>0.009116</td>\n",
       "      <td>0.015878</td>\n",
       "      <td>-0.008279</td>\n",
       "      <td>0.003393</td>\n",
       "      <td>...</td>\n",
       "      <td>-0.060007</td>\n",
       "      <td>-0.052569</td>\n",
       "      <td>-0.063085</td>\n",
       "      <td>-0.120550</td>\n",
       "      <td>-0.027012</td>\n",
       "      <td>-0.019126</td>\n",
       "      <td>1.000000</td>\n",
       "      <td>-0.143269</td>\n",
       "      <td>-0.196731</td>\n",
       "      <td>-0.031860</td>\n",
       "    </tr>\n",
       "    <tr>\n",
       "      <th>paint_color_silver</th>\n",
       "      <td>0.006234</td>\n",
       "      <td>0.031916</td>\n",
       "      <td>0.006438</td>\n",
       "      <td>-0.000449</td>\n",
       "      <td>-0.010795</td>\n",
       "      <td>0.023717</td>\n",
       "      <td>-0.010413</td>\n",
       "      <td>-0.016284</td>\n",
       "      <td>-0.004726</td>\n",
       "      <td>-0.005038</td>\n",
       "      <td>...</td>\n",
       "      <td>-0.070748</td>\n",
       "      <td>-0.061979</td>\n",
       "      <td>-0.074378</td>\n",
       "      <td>-0.142128</td>\n",
       "      <td>-0.031847</td>\n",
       "      <td>-0.022550</td>\n",
       "      <td>-0.143269</td>\n",
       "      <td>1.000000</td>\n",
       "      <td>-0.231946</td>\n",
       "      <td>-0.037563</td>\n",
       "    </tr>\n",
       "    <tr>\n",
       "      <th>paint_color_white</th>\n",
       "      <td>0.000039</td>\n",
       "      <td>0.085163</td>\n",
       "      <td>-0.007077</td>\n",
       "      <td>-0.053567</td>\n",
       "      <td>-0.039251</td>\n",
       "      <td>-0.019061</td>\n",
       "      <td>-0.019124</td>\n",
       "      <td>0.020742</td>\n",
       "      <td>0.010198</td>\n",
       "      <td>-0.002041</td>\n",
       "      <td>...</td>\n",
       "      <td>-0.097148</td>\n",
       "      <td>-0.085107</td>\n",
       "      <td>-0.102132</td>\n",
       "      <td>-0.195165</td>\n",
       "      <td>-0.043731</td>\n",
       "      <td>-0.030965</td>\n",
       "      <td>-0.196731</td>\n",
       "      <td>-0.231946</td>\n",
       "      <td>1.000000</td>\n",
       "      <td>-0.051580</td>\n",
       "    </tr>\n",
       "    <tr>\n",
       "      <th>paint_color_yellow</th>\n",
       "      <td>-0.000351</td>\n",
       "      <td>-0.083540</td>\n",
       "      <td>-0.007413</td>\n",
       "      <td>-0.004446</td>\n",
       "      <td>-0.001629</td>\n",
       "      <td>-0.015011</td>\n",
       "      <td>0.011665</td>\n",
       "      <td>0.006221</td>\n",
       "      <td>0.006105</td>\n",
       "      <td>0.006767</td>\n",
       "      <td>...</td>\n",
       "      <td>-0.015733</td>\n",
       "      <td>-0.013783</td>\n",
       "      <td>-0.016540</td>\n",
       "      <td>-0.031606</td>\n",
       "      <td>-0.007082</td>\n",
       "      <td>-0.005015</td>\n",
       "      <td>-0.031860</td>\n",
       "      <td>-0.037563</td>\n",
       "      <td>-0.051580</td>\n",
       "      <td>1.000000</td>\n",
       "    </tr>\n",
       "  </tbody>\n",
       "</table>\n",
       "<p>103 rows × 103 columns</p>\n",
       "</div>"
      ],
      "text/plain": [
       "                       price      year  odometer       lat      long  \\\n",
       "price               1.000000 -0.001394  0.000660  0.003353 -0.006727   \n",
       "year               -0.001394  1.000000 -0.121849 -0.017176  0.045622   \n",
       "odometer            0.000660 -0.121849  1.000000  0.001574 -0.009015   \n",
       "lat                 0.003353 -0.017176  0.001574  1.000000 -0.036147   \n",
       "long               -0.006727  0.045622 -0.009015 -0.036147  1.000000   \n",
       "...                      ...       ...       ...       ...       ...   \n",
       "paint_color_purple -0.000232 -0.034581  0.000666  0.004927 -0.004000   \n",
       "paint_color_red    -0.001357 -0.057617 -0.003221  0.018661  0.028349   \n",
       "paint_color_silver  0.006234  0.031916  0.006438 -0.000449 -0.010795   \n",
       "paint_color_white   0.000039  0.085163 -0.007077 -0.053567 -0.039251   \n",
       "paint_color_yellow -0.000351 -0.083540 -0.007413 -0.004446 -0.001629   \n",
       "\n",
       "                    condition_excellent  condition_fair  condition_good  \\\n",
       "price                          0.001920       -0.000402       -0.001324   \n",
       "year                           0.039175       -0.198708       -0.021908   \n",
       "odometer                      -0.011939        0.085609       -0.004265   \n",
       "lat                           -0.003674        0.021939        0.019707   \n",
       "long                          -0.053509       -0.012486        0.071354   \n",
       "...                                 ...             ...             ...   \n",
       "paint_color_purple            -0.015196        0.013520        0.008476   \n",
       "paint_color_red               -0.014228        0.009116        0.015878   \n",
       "paint_color_silver             0.023717       -0.010413       -0.016284   \n",
       "paint_color_white             -0.019061       -0.019124        0.020742   \n",
       "paint_color_yellow            -0.015011        0.011665        0.006221   \n",
       "\n",
       "                    condition_like new  condition_new  ...  paint_color_brown  \\\n",
       "price                        -0.000662      -0.000218  ...          -0.000744   \n",
       "year                          0.089139       0.013423  ...          -0.048510   \n",
       "odometer                     -0.022948      -0.019047  ...           0.008460   \n",
       "lat                          -0.036392      -0.007436  ...           0.008947   \n",
       "long                         -0.016820      -0.001037  ...          -0.010125   \n",
       "...                                ...            ...  ...                ...   \n",
       "paint_color_purple            0.002007      -0.001719  ...          -0.009445   \n",
       "paint_color_red              -0.008279       0.003393  ...          -0.060007   \n",
       "paint_color_silver           -0.004726      -0.005038  ...          -0.070748   \n",
       "paint_color_white             0.010198      -0.002041  ...          -0.097148   \n",
       "paint_color_yellow            0.006105       0.006767  ...          -0.015733   \n",
       "\n",
       "                    paint_color_custom  paint_color_green  paint_color_grey  \\\n",
       "price                        -0.000639          -0.000775         -0.001133   \n",
       "year                         -0.081766          -0.128971          0.035497   \n",
       "odometer                      0.010394           0.014461          0.005645   \n",
       "lat                          -0.003614           0.012759          0.020243   \n",
       "long                          0.007513          -0.001895         -0.016655   \n",
       "...                                ...                ...               ...   \n",
       "paint_color_purple           -0.008274          -0.009929         -0.018974   \n",
       "paint_color_red              -0.052569          -0.063085         -0.120550   \n",
       "paint_color_silver           -0.061979          -0.074378         -0.142128   \n",
       "paint_color_white            -0.085107          -0.102132         -0.195165   \n",
       "paint_color_yellow           -0.013783          -0.016540         -0.031606   \n",
       "\n",
       "                    paint_color_orange  paint_color_purple  paint_color_red  \\\n",
       "price                        -0.000297           -0.000232        -0.001357   \n",
       "year                         -0.053335           -0.034581        -0.057617   \n",
       "odometer                     -0.005079            0.000666        -0.003221   \n",
       "lat                           0.002467            0.004927         0.018661   \n",
       "long                          0.001270           -0.004000         0.028349   \n",
       "...                                ...                 ...              ...   \n",
       "paint_color_purple           -0.004252            1.000000        -0.019126   \n",
       "paint_color_red              -0.027012           -0.019126         1.000000   \n",
       "paint_color_silver           -0.031847           -0.022550        -0.143269   \n",
       "paint_color_white            -0.043731           -0.030965        -0.196731   \n",
       "paint_color_yellow           -0.007082           -0.005015        -0.031860   \n",
       "\n",
       "                    paint_color_silver  paint_color_white  paint_color_yellow  \n",
       "price                         0.006234           0.000039           -0.000351  \n",
       "year                          0.031916           0.085163           -0.083540  \n",
       "odometer                      0.006438          -0.007077           -0.007413  \n",
       "lat                          -0.000449          -0.053567           -0.004446  \n",
       "long                         -0.010795          -0.039251           -0.001629  \n",
       "...                                ...                ...                 ...  \n",
       "paint_color_purple           -0.022550          -0.030965           -0.005015  \n",
       "paint_color_red              -0.143269          -0.196731           -0.031860  \n",
       "paint_color_silver            1.000000          -0.231946           -0.037563  \n",
       "paint_color_white            -0.231946           1.000000           -0.051580  \n",
       "paint_color_yellow           -0.037563          -0.051580            1.000000  \n",
       "\n",
       "[103 rows x 103 columns]"
      ]
     },
     "execution_count": 31,
     "metadata": {},
     "output_type": "execute_result"
    }
   ],
   "source": [
    "# Corrlation between the variables\n",
    "df_encoded.corr()"
   ]
  },
  {
   "cell_type": "code",
   "execution_count": 32,
   "id": "547b7664",
   "metadata": {},
   "outputs": [
    {
     "data": {
      "image/png": "[encoded data removed]",
      "text/plain": [
       "<Figure size 864x576 with 2 Axes>"
      ]
     },
     "metadata": {},
     "output_type": "display_data"
    }
   ],
   "source": [
    "# Correlation plot\n",
    "plt.figure(figsize = (12,8))\n",
    "df_corr = df_encoded.corr()\n",
    "sns.heatmap(df_corr,fmt = \"\", cmap = \"RdYlGn\", linewidth = 0.30)\n",
    "plt.show()"
   ]
  },
  {
   "cell_type": "markdown",
   "id": "c6347676",
   "metadata": {},
   "source": [
    "It seems features have less or no correlation between them."
   ]
  },
  {
   "cell_type": "markdown",
   "id": "9453b544",
   "metadata": {},
   "source": [
    "### Split the data"
   ]
  },
  {
   "cell_type": "code",
   "execution_count": 34,
   "id": "124e6a25",
   "metadata": {},
   "outputs": [
    {
     "name": "stdout",
     "output_type": "stream",
     "text": [
      "X_train shape is (69967, 102)\n",
      "X_test shape is (46645, 102)\n",
      "y_train shape is (69967,)\n",
      "y_test shape is (46645,)\n"
     ]
    }
   ],
   "source": [
    "X = df_encoded.drop(['price'] ,axis=1)\n",
    "Y = df_encoded.price\n",
    "# Split the data into train and test dataset\n",
    "# train is 60% and test is 40%\n",
    "X_train, X_test, y_train, y_test = train_test_split(X,Y,test_size=0.4,random_state=42)\n",
    "\n",
    "print(f'X_train shape is {X_train.shape}')\n",
    "print(f'X_test shape is {X_test.shape}')\n",
    "print(f'y_train shape is {y_train.shape}')\n",
    "print(f'y_test shape is {y_test.shape}')"
   ]
  },
  {
   "cell_type": "code",
   "execution_count": 35,
   "id": "ae45754c",
   "metadata": {},
   "outputs": [
    {
     "name": "stdout",
     "output_type": "stream",
     "text": [
      "X_valid shape is (18658, 102)\n",
      "X_test shape is (27987, 102)\n",
      "y_valid shape is (18658,)\n",
      "y_test shape is (27987,)\n"
     ]
    }
   ],
   "source": [
    "X = X_test\n",
    "Y = y_test\n",
    "# Split the data into test and train dataset\n",
    "#valid is 20% and test is 20%\n",
    "X_test, X_valid, y_test, y_valid = train_test_split(X,Y,test_size=0.4 ,random_state=42)\n",
    "\n",
    "print(f'X_valid shape is {X_valid.shape}')\n",
    "print(f'X_test shape is {X_test.shape}')\n",
    "print(f'y_valid shape is {y_valid.shape}')\n",
    "print(f'y_test shape is {y_test.shape}')"
   ]
  },
  {
   "cell_type": "code",
   "execution_count": 36,
   "id": "5d717807",
   "metadata": {},
   "outputs": [],
   "source": [
    "scaler = MinMaxScaler()\n",
    "scaler.fit(X_train)\n",
    "\n",
    "X_train_s = scaler.transform(X_train)\n",
    "X_test_s = scaler.transform(X_test)\n",
    "X_valid_s=scaler.transform(X_valid)"
   ]
  },
  {
   "cell_type": "markdown",
   "id": "5f5c1679",
   "metadata": {},
   "source": [
    "# Building predictive models"
   ]
  },
  {
   "cell_type": "markdown",
   "id": "4c2aaf45",
   "metadata": {},
   "source": [
    "Linear Regression Model"
   ]
  },
  {
   "cell_type": "code",
   "execution_count": 37,
   "id": "8f422d52",
   "metadata": {},
   "outputs": [
    {
     "data": {
      "text/plain": [
       "LinearRegression()"
      ]
     },
     "execution_count": 37,
     "metadata": {},
     "output_type": "execute_result"
    }
   ],
   "source": [
    "lm = LinearRegression()\n",
    "\n",
    "## fitting the model\n",
    "lm.fit(X_train_s,y_train)"
   ]
  },
  {
   "cell_type": "code",
   "execution_count": 38,
   "id": "89f62b16",
   "metadata": {},
   "outputs": [
    {
     "name": "stdout",
     "output_type": "stream",
     "text": [
      "Accuracy for linear regression model is 0.0006273399054199658\n"
     ]
    }
   ],
   "source": [
    "score = lm.score(X_train_s,y_train)\n",
    "print(f'Accuracy for linear regression model is {score}')"
   ]
  },
  {
   "cell_type": "code",
   "execution_count": 39,
   "id": "95768d3e",
   "metadata": {},
   "outputs": [
    {
     "name": "stdout",
     "output_type": "stream",
     "text": [
      "Accuracy for linear regression model is 3.0890507908942766e-05\n"
     ]
    }
   ],
   "source": [
    "score = lm.score(X_valid_s,y_valid)\n",
    "print(f'Accuracy for linear regression model is {score}')"
   ]
  },
  {
   "cell_type": "markdown",
   "id": "16e8ca16",
   "metadata": {},
   "source": [
    " RMSE for Validtion "
   ]
  },
  {
   "cell_type": "code",
   "execution_count": 63,
   "id": "8f8dec99",
   "metadata": {},
   "outputs": [
    {
     "data": {
      "text/plain": [
       "array([ 67072.,  19456.,  20224., ..., 231296., 109184., 122368.])"
      ]
     },
     "execution_count": 63,
     "metadata": {},
     "output_type": "execute_result"
    }
   ],
   "source": [
    "lm_pred = lm.predict(X_valid_s)\n",
    "lm_pred"
   ]
  },
  {
   "cell_type": "code",
   "execution_count": 66,
   "id": "ed6d0a0d",
   "metadata": {
    "scrolled": true
   },
   "outputs": [
    {
     "name": "stdout",
     "output_type": "stream",
     "text": [
      "Root mean squared error for linear regression model is 27356880.939675197\n"
     ]
    }
   ],
   "source": [
    "mse = mean_squared_error(y_valid,lm_pred)\n",
    "rmse = np.sqrt(mse)\n",
    "print(f'Root mean squared error for linear regression model is {rmse}')"
   ]
  },
  {
   "cell_type": "markdown",
   "id": "02fa4951",
   "metadata": {},
   "source": [
    " RMSE for Train"
   ]
  },
  {
   "cell_type": "code",
   "execution_count": 86,
   "id": "792be5f4",
   "metadata": {},
   "outputs": [
    {
     "data": {
      "text/plain": [
       "array([100352.,  -7424.,  32896., ..., -38400., -24064., 201728.])"
      ]
     },
     "execution_count": 86,
     "metadata": {},
     "output_type": "execute_result"
    }
   ],
   "source": [
    "lm_pred = lm.predict(X_train_s)\n",
    "lm_pred"
   ]
  },
  {
   "cell_type": "code",
   "execution_count": 87,
   "id": "22768cf7",
   "metadata": {},
   "outputs": [
    {
     "name": "stdout",
     "output_type": "stream",
     "text": [
      "Root mean squared error for linear regression model is 4282227.277353322\n"
     ]
    }
   ],
   "source": [
    "mse = mean_squared_error(y_train,lm_pred)\n",
    "rmse = np.sqrt(mse)\n",
    "print(f'Root mean squared error for linear regression model is {rmse}')"
   ]
  },
  {
   "cell_type": "markdown",
   "id": "f97f9210",
   "metadata": {},
   "source": [
    "Lasso regularization model"
   ]
  },
  {
   "cell_type": "code",
   "execution_count": 41,
   "id": "8527855f",
   "metadata": {},
   "outputs": [
    {
     "data": {
      "text/plain": [
       "Lasso(alpha=0.5)"
      ]
     },
     "execution_count": 41,
     "metadata": {},
     "output_type": "execute_result"
    }
   ],
   "source": [
    "## lasso model\n",
    "lasso =Lasso(alpha=0.5)\n",
    "\n",
    "lasso.fit(X_train_s,y_train)"
   ]
  },
  {
   "cell_type": "code",
   "execution_count": 44,
   "id": "912c19e3",
   "metadata": {},
   "outputs": [
    {
     "name": "stdout",
     "output_type": "stream",
     "text": [
      "Accuracy train for lasso model is 0.0006275703340044014\n"
     ]
    }
   ],
   "source": [
    "score = lasso.score(X_train_s,y_train)\n",
    "print(f'Accuracy train for lasso model is {score}')"
   ]
  },
  {
   "cell_type": "code",
   "execution_count": 45,
   "id": "949c4e0f",
   "metadata": {
    "scrolled": true
   },
   "outputs": [
    {
     "name": "stdout",
     "output_type": "stream",
     "text": [
      "Accuracy validation for lasso model is 3.0987138183946605e-05\n"
     ]
    }
   ],
   "source": [
    "score = lasso.score(X_valid_s,y_valid)\n",
    "print(f'Accuracy validation for lasso model is {score}')"
   ]
  },
  {
   "cell_type": "markdown",
   "id": "64a5fa55",
   "metadata": {},
   "source": [
    " RMSE for Validtion "
   ]
  },
  {
   "cell_type": "code",
   "execution_count": 67,
   "id": "6d172fdd",
   "metadata": {},
   "outputs": [
    {
     "data": {
      "text/plain": [
       "array([ 67324.43038511,  20426.60480973,  21546.6137802 , ...,\n",
       "       231071.36599033, 110338.10233815, 121680.97389822])"
      ]
     },
     "execution_count": 67,
     "metadata": {},
     "output_type": "execute_result"
    }
   ],
   "source": [
    "lasso_pred = lasso.predict(X_valid_s)\n",
    "lasso_pred"
   ]
  },
  {
   "cell_type": "code",
   "execution_count": 68,
   "id": "e21e9f13",
   "metadata": {},
   "outputs": [
    {
     "name": "stdout",
     "output_type": "stream",
     "text": [
      "Root mean squared error for lasso model is 27356879.61788287\n"
     ]
    }
   ],
   "source": [
    "mse = mean_squared_error(y_valid,lasso_pred)\n",
    "rmse = np.sqrt(mse)\n",
    "print(f'Root mean squared error for lasso model is {rmse}')"
   ]
  },
  {
   "cell_type": "markdown",
   "id": "1e5db4e2",
   "metadata": {},
   "source": [
    " RMSE for train"
   ]
  },
  {
   "cell_type": "code",
   "execution_count": 83,
   "id": "60fa4012",
   "metadata": {},
   "outputs": [
    {
     "data": {
      "text/plain": [
       "array([ 99065.49677266,  -9107.14489135,  33160.5946477 , ...,\n",
       "       -38304.55915212, -23291.85514608, 201315.09909454])"
      ]
     },
     "execution_count": 83,
     "metadata": {},
     "output_type": "execute_result"
    }
   ],
   "source": [
    "lasso_pred = lasso.predict(X_train_s)\n",
    "lasso_pred"
   ]
  },
  {
   "cell_type": "code",
   "execution_count": 84,
   "id": "c1ac3a4e",
   "metadata": {},
   "outputs": [
    {
     "name": "stdout",
     "output_type": "stream",
     "text": [
      "Root mean squared error for lasso model is 4282226.783669801\n"
     ]
    }
   ],
   "source": [
    "mse = mean_squared_error(y_train,lasso_pred)\n",
    "rmse = np.sqrt(mse)\n",
    "print(f'Root mean squared error for lasso model is {rmse}')"
   ]
  },
  {
   "cell_type": "markdown",
   "id": "0156238b",
   "metadata": {},
   "source": [
    "Ridge model"
   ]
  },
  {
   "cell_type": "code",
   "execution_count": 56,
   "id": "65041a26",
   "metadata": {},
   "outputs": [
    {
     "data": {
      "text/plain": [
       "Ridge()"
      ]
     },
     "execution_count": 56,
     "metadata": {},
     "output_type": "execute_result"
    }
   ],
   "source": [
    "## Ridge model\n",
    "ridge =Ridge(alpha=1.0)\n",
    "\n",
    "ridge.fit(X_train,y_train)"
   ]
  },
  {
   "cell_type": "code",
   "execution_count": 57,
   "id": "5122f418",
   "metadata": {},
   "outputs": [
    {
     "name": "stdout",
     "output_type": "stream",
     "text": [
      "Accuracy for ridge model is 0.0006275691547650286\n"
     ]
    }
   ],
   "source": [
    "score = ridge.score(X_train,y_train)\n",
    "print(f'Accuracy for ridge model is {score}')"
   ]
  },
  {
   "cell_type": "code",
   "execution_count": 58,
   "id": "739295a0",
   "metadata": {},
   "outputs": [
    {
     "name": "stdout",
     "output_type": "stream",
     "text": [
      "Accuracy for ridge model is 3.097640120919287e-05\n"
     ]
    }
   ],
   "source": [
    "score = ridge.score(X_valid,y_valid)\n",
    "print(f'Accuracy for ridge model is {score}')"
   ]
  },
  {
   "cell_type": "markdown",
   "id": "0142c302",
   "metadata": {},
   "source": [
    " RMSE for Validtion "
   ]
  },
  {
   "cell_type": "code",
   "execution_count": 80,
   "id": "1d43918c",
   "metadata": {},
   "outputs": [
    {
     "data": {
      "text/plain": [
       "array([ 67324.43038511,  20426.60480973,  21546.6137802 , ...,\n",
       "       231071.36599033, 110338.10233815, 121680.97389822])"
      ]
     },
     "execution_count": 80,
     "metadata": {},
     "output_type": "execute_result"
    }
   ],
   "source": [
    "ridge_pred = ridge.predict(X_valid_s)\n",
    "lasso_pred"
   ]
  },
  {
   "cell_type": "code",
   "execution_count": 70,
   "id": "28f8aa16",
   "metadata": {},
   "outputs": [
    {
     "name": "stdout",
     "output_type": "stream",
     "text": [
      "Root mean squared error for Ridge model is 27425986.35918603\n"
     ]
    }
   ],
   "source": [
    "mse = mean_squared_error(y_valid,ridge_pred)\n",
    "rmse = np.sqrt(mse)\n",
    "print(f'Root mean squared error for Ridge model is {rmse}')"
   ]
  },
  {
   "cell_type": "markdown",
   "id": "2fb1e455",
   "metadata": {},
   "source": [
    " RMSE for train"
   ]
  },
  {
   "cell_type": "code",
   "execution_count": 81,
   "id": "5bb39aa7",
   "metadata": {},
   "outputs": [
    {
     "data": {
      "text/plain": [
       "array([ 67324.43038511,  20426.60480973,  21546.6137802 , ...,\n",
       "       231071.36599033, 110338.10233815, 121680.97389822])"
      ]
     },
     "execution_count": 81,
     "metadata": {},
     "output_type": "execute_result"
    }
   ],
   "source": [
    "ridge_pred = ridge.predict(X_train)\n",
    "lasso_pred"
   ]
  },
  {
   "cell_type": "code",
   "execution_count": 82,
   "id": "3d3929aa",
   "metadata": {},
   "outputs": [
    {
     "name": "stdout",
     "output_type": "stream",
     "text": [
      "Root mean squared error for Ridge model is 4282226.786196272\n"
     ]
    }
   ],
   "source": [
    "mse = mean_squared_error(y_train,ridge_pred)\n",
    "rmse = np.sqrt(mse)\n",
    "print(f'Root mean squared error for Ridge model is {rmse}')"
   ]
  },
  {
   "cell_type": "markdown",
   "id": "7c2714ad",
   "metadata": {},
   "source": [
    "Polynomial model"
   ]
  },
  {
   "cell_type": "code",
   "execution_count": 59,
   "id": "101888ec",
   "metadata": {},
   "outputs": [
    {
     "name": "stdout",
     "output_type": "stream",
     "text": [
      "Degree 2 polynomial regression train R^2: 0.007\n"
     ]
    }
   ],
   "source": [
    "poly = PolynomialFeatures(degree=2) \n",
    "X_train_poly = poly.fit_transform(X_train.values)\n",
    "\n",
    "lm_poly = LinearRegression()\n",
    "lm_poly.fit(X_train_poly, y_train)\n",
    "print(f'Degree 2 polynomial regression train R^2: {lm_poly.score(X_train_poly, y_train):.3f}')"
   ]
  },
  {
   "cell_type": "code",
   "execution_count": 62,
   "id": "4659d996",
   "metadata": {},
   "outputs": [
    {
     "name": "stdout",
     "output_type": "stream",
     "text": [
      "Degree 2 polynomial regression val R^2: -0.000\n"
     ]
    }
   ],
   "source": [
    "X_valid_poly = poly.transform(X_valid.values)\n",
    "print(f'Degree 2 polynomial regression val R^2: {lm_poly.score(X_valid_poly, y_valid):.3f}')"
   ]
  },
  {
   "cell_type": "code",
   "execution_count": 78,
   "id": "62793e08",
   "metadata": {},
   "outputs": [
    {
     "name": "stdout",
     "output_type": "stream",
     "text": [
      "Root mean squared error for lightgbm model is 2066.2236738163497\n"
     ]
    }
   ],
   "source": [
    "#The rmse for the data train\n",
    "preds_train = lm_poly.predict(X_train_poly)\n",
    "mse = mean_squared_error(y_train, preds_train, squared=False)\n",
    "rmse = np.sqrt(mse)\n",
    "print(f'Root mean squared error for lightgbm model is {rmse}')"
   ]
  },
  {
   "cell_type": "code",
   "execution_count": 79,
   "id": "faff95f8",
   "metadata": {},
   "outputs": [
    {
     "name": "stdout",
     "output_type": "stream",
     "text": [
      "Root mean squared error for lightgbm model is 2066.2236738163497\n"
     ]
    }
   ],
   "source": [
    "#The rmse for valdtion data\n",
    "preds_valid = lm_poly.predict(X_valid_poly)\n",
    "rmse = mean_squared_error(y_valid, preds_valid, squared=False)\n",
    "rmse = np.sqrt(mse)\n",
    "print(f'Root mean squared error for lightgbm model is {rmse}')"
   ]
  },
  {
   "cell_type": "markdown",
   "id": "f12033ca",
   "metadata": {},
   "source": [
    "Comparing the linear regression, lasso, ridge and polynomial features, linear regression is performing well. So, we are going to use linear regression model to test on test dataset."
   ]
  },
  {
   "cell_type": "code",
   "execution_count": 73,
   "id": "c35ec086",
   "metadata": {},
   "outputs": [
    {
     "name": "stdout",
     "output_type": "stream",
     "text": [
      "Accuracy for linear regression model is -1.0698369433885486\n"
     ]
    }
   ],
   "source": [
    "X_test = X_test_s\n",
    "y_test = y_test\n",
    "\n",
    "score = lm.score(X_test,y_test)\n",
    "print(f'Accuracy for linear regression model is {score}')"
   ]
  },
  {
   "cell_type": "code",
   "execution_count": 74,
   "id": "6ed46ef5",
   "metadata": {},
   "outputs": [
    {
     "data": {
      "text/plain": [
       "array([-12800., 136576., 213376., ..., -57088.,  22272.,  74624.])"
      ]
     },
     "execution_count": 74,
     "metadata": {},
     "output_type": "execute_result"
    }
   ],
   "source": [
    "lm_pred = lm.predict(X_test_s)\n",
    "lm_pred"
   ]
  },
  {
   "cell_type": "code",
   "execution_count": 75,
   "id": "7a57555d",
   "metadata": {},
   "outputs": [
    {
     "name": "stdout",
     "output_type": "stream",
     "text": [
      "Root mean squared error for Test linear regression model is 151568.02411279458\n"
     ]
    }
   ],
   "source": [
    "mse = mean_squared_error(y_test,lm_pred)\n",
    "rmse = np.sqrt(mse)\n",
    "print(f'Root mean squared error for Test linear regression model is {rmse}')"
   ]
  },
  {
   "cell_type": "code",
   "execution_count": 91,
   "id": "e181d36f",
   "metadata": {},
   "outputs": [
    {
     "data": {
      "text/html": [
       "<div>\n",
       "<style scoped>\n",
       "    .dataframe tbody tr th:only-of-type {\n",
       "        vertical-align: middle;\n",
       "    }\n",
       "\n",
       "    .dataframe tbody tr th {\n",
       "        vertical-align: top;\n",
       "    }\n",
       "\n",
       "    .dataframe thead th {\n",
       "        text-align: right;\n",
       "    }\n",
       "</style>\n",
       "<table border=\"1\" class=\"dataframe\">\n",
       "  <thead>\n",
       "    <tr style=\"text-align: right;\">\n",
       "      <th></th>\n",
       "      <th>Model</th>\n",
       "      <th>Train score</th>\n",
       "      <th>R^2</th>\n",
       "      <th>RMSE</th>\n",
       "    </tr>\n",
       "  </thead>\n",
       "  <tbody>\n",
       "    <tr>\n",
       "      <th>0</th>\n",
       "      <td>Linear Regression</td>\n",
       "      <td>3.089000</td>\n",
       "      <td>3.089000</td>\n",
       "      <td>4.282227e+06</td>\n",
       "    </tr>\n",
       "    <tr>\n",
       "      <th>1</th>\n",
       "      <td>Lasso</td>\n",
       "      <td>0.000485</td>\n",
       "      <td>0.000485</td>\n",
       "      <td>4.282227e+06</td>\n",
       "    </tr>\n",
       "    <tr>\n",
       "      <th>2</th>\n",
       "      <td>Ridge</td>\n",
       "      <td>0.807000</td>\n",
       "      <td>0.807000</td>\n",
       "      <td>4.282227e+06</td>\n",
       "    </tr>\n",
       "    <tr>\n",
       "      <th>3</th>\n",
       "      <td>Polynomial</td>\n",
       "      <td>0.784000</td>\n",
       "      <td>0.784000</td>\n",
       "      <td>4.282227e+06</td>\n",
       "    </tr>\n",
       "  </tbody>\n",
       "</table>\n",
       "</div>"
      ],
      "text/plain": [
       "               Model  Train score       R^2          RMSE\n",
       "0  Linear Regression     3.089000  3.089000  4.282227e+06\n",
       "1              Lasso     0.000485  0.000485  4.282227e+06\n",
       "2              Ridge     0.807000  0.807000  4.282227e+06\n",
       "3         Polynomial     0.784000  0.784000  4.282227e+06"
      ]
     },
     "execution_count": 91,
     "metadata": {},
     "output_type": "execute_result"
    }
   ],
   "source": [
    "model = ['Linear Regression','Lasso','Ridge','Polynomial']\n",
    "score = [3.089, 0.000485, 0.807, 0.784]\n",
    "R_square = [3.089, 0.000485, 0.807, 0.784]\n",
    "RSME = [2.805e+10, 2.629e+10, 2.449e+10, 2.4783+10]\n",
    "\n",
    "results = pd.DataFrame(model,columns=['Model'])\n",
    "results['Train score'] = score\n",
    "results['R^2'] = R_square\n",
    "results['RMSE'] = rmse\n",
    "\n",
    "results"
   ]
  },
  {
   "cell_type": "code",
   "execution_count": null,
   "id": "f230af25",
   "metadata": {},
   "outputs": [],
   "source": []
  }
 ],
 "metadata": {
  "kernelspec": {
   "display_name": "Python 3",
   "language": "python",
   "name": "python3"
  },
  "language_info": {
   "codemirror_mode": {
    "name": "ipython",
    "version": 3
   },
   "file_extension": ".py",
   "mimetype": "text/x-python",
   "name": "python",
   "nbconvert_exporter": "python",
   "pygments_lexer": "ipython3",
   "version": "3.8.8"
  }
 },
 "nbformat": 4,
 "nbformat_minor": 5
}
